{
 "cells": [
  {
   "cell_type": "code",
   "execution_count": 2,
   "id": "8202cac1",
   "metadata": {},
   "outputs": [],
   "source": [
    "import numpy as np\n",
    "import matplotlib\n",
    "\n",
    "# Embed fonts into PDF/PS files\n",
    "matplotlib.rcParams['pdf.fonttype'] = 42\n",
    "matplotlib.rcParams['ps.fonttype'] = 42\n",
    "\n",
    "import matplotlib.pyplot as plt\n",
    "%matplotlib inline\n",
    "\n",
    "import matplotlib.colors\n",
    "\n",
    "import scipy.integrate\n",
    "import scipy.optimize\n",
    "\n",
    "# Progress bars\n",
    "import tqdm.notebook\n",
    "\n",
    "# Make deep copies\n",
    "import copy"
   ]
  },
  {
   "cell_type": "code",
   "execution_count": 3,
   "id": "71652a7c",
   "metadata": {},
   "outputs": [],
   "source": [
    "matplotlib.rcParams.update({'font.size': 7, 'axes.linewidth': 0.5, 'xtick.major.width': 0.5, 'xtick.minor.width': 0.5, \n",
    "                            'ytick.major.width': 0.5,'ytick.minor.width': 0.5, 'xtick.major.pad':2,'ytick.major.pad':2})\n",
    "matplotlib.rcParams.update({'font.family':'sans-serif','font.sans-serif':['Arial']})"
   ]
  },
  {
   "cell_type": "code",
   "execution_count": 4,
   "id": "ff243a8b",
   "metadata": {},
   "outputs": [],
   "source": [
    "def make_rgb_transparent(rgb, bg_rgb, alpha):\n",
    "    return [alpha * c1 + (1 - alpha) * c2\n",
    "            for (c1, c2) in zip(rgb, bg_rgb)]"
   ]
  },
  {
   "cell_type": "markdown",
   "id": "e4754e10",
   "metadata": {},
   "source": [
    "# Define parameters"
   ]
  },
  {
   "cell_type": "code",
   "execution_count": 5,
   "id": "f43ab960",
   "metadata": {},
   "outputs": [],
   "source": [
    "## Physiological parameters\n",
    "\n",
    "# mvn head sensitvity in the light: 0.38 sp/s / deg/s for ~0.85 gain -- Beraneck & Cullen 2007\n",
    "# => k_eye ~= 2.2\n",
    "\n",
    "# initial gain ~- 0.4 in mice (Katoh et al. 2015, Boyden & Raymond 2003)\n",
    "# => v_0 = 1.3\n",
    "v_0 = 1.3\n",
    "\n",
    "# Eye movement response to optogenetic stimulation (Payne et al. 2019)\n",
    "# ~0.1 deg/s / sp/s = k_eye * w_PC => w_PC ~= 0.05\n",
    "\n",
    "# memory retention ~75% after 24 hr calculated from Boyden & Raymond 2003\n",
    "\n",
    "params = {\n",
    "    'mf_0': 55, # Lasker et al. 2008\n",
    "    'pf_0': 14, # Arenz et al. 2008 -- assume each MF EPSC evokes a GC spike\n",
    "    'cf_0': 1,\n",
    "    'mf_sensitivity': 0.14, # Lasker et al. 2008\n",
    "    'k_pf_h': 0.42, # Arenz et al. 2008 (See above)\n",
    "    'k_pf_e': 0.42,\n",
    "    'w_inh_h': 5, \n",
    "    'w_pc_mvn': 0.05, #0.5\n",
    "    'k_eye': 2.2,\n",
    "    'k_v': 3.9e-3, # 0.01 # to get 75% retention\n",
    "    'tau_f': 0.017, # fast average\n",
    "    'tau_mvn': 0.7, # 0.7 # tau_f,v: average of activity being integrated at MVN\n",
    "    'k_LTD': 0.75, # for ~30% learning for 30 mins of training\n",
    "    'beta_rs': 1, # Guo et al. 2014\n",
    "    'w_eye': 8.43, # for eye sensitivity of 2.7 sp/s/(deg/s), Katoh et al. 2015, given PF sensitivity above\n",
    "    'w_inh_e': 2,\n",
    "    'k_inh': 0.01,#0.0025\n",
    "}\n",
    "params['k_LTP'] = params['k_LTD']*params['cf_0'] # so dw_H^+/dt = 0 when no information about errors\n",
    "\n",
    "## Behavioral parameters\n",
    "\n",
    "# Kimpo et al. 2014, Nguyen-Vu et al. 2013, Boyden & Raymond 2003\n",
    "stim_freq = 1 \n",
    "peak_velocity_learn = 15 # deg/s\n",
    "peak_velocity_post = 15\n",
    "\n",
    "# Define function for head velocity\n",
    "head_learn = lambda t: peak_velocity_learn*np.sin(2*np.pi*stim_freq*3600*t)\n",
    "head_post_input = lambda t: peak_velocity_post*np.sin(2*np.pi*stim_freq*3600*t) # w/post-training input\n",
    "head_post_no_input = lambda t: 0 # w/o post-training input\n",
    "\n",
    "# Define function for visual target signal\n",
    "target_learn = lambda t: np.sin(2*np.pi*stim_freq*3600*t)\n",
    "target_post = lambda t: 0"
   ]
  },
  {
   "cell_type": "code",
   "execution_count": 6,
   "id": "674a41ee",
   "metadata": {},
   "outputs": [],
   "source": [
    "# Function to determine initial value of w_H given an initial gain value\n",
    "w_e_tilde = params['k_pf_e']*(params['w_eye']-params['w_inh_e'])\n",
    "w_h_0 = lambda g_init: g_init * w_e_tilde/params['k_pf_h']\n",
    "\n",
    "# Initial gain\n",
    "g_init = 0.4"
   ]
  },
  {
   "cell_type": "code",
   "execution_count": 7,
   "id": "20b48014",
   "metadata": {},
   "outputs": [],
   "source": [
    "v_0_ = lambda w_h_0: w_h_0*params['k_pf_h']/(params['k_eye']*w_e_tilde*params['mf_sensitivity'])"
   ]
  },
  {
   "cell_type": "code",
   "execution_count": 8,
   "id": "ec9c7a3c",
   "metadata": {},
   "outputs": [],
   "source": [
    "gain = lambda w_h, v: params['k_eye']*((params['mf_sensitivity']*v - \n",
    "                                    params['k_pf_h']*params['w_pc_mvn']*(w_h)) / \n",
    "                                    (1 - params['w_pc_mvn']*params['k_pf_e']*params['k_eye']*(params['w_eye']-params['w_inh_e'])))\n",
    "    "
   ]
  },
  {
   "cell_type": "markdown",
   "id": "cc60c7f1",
   "metadata": {},
   "source": [
    "## ODE Solver\n",
    "We model the evolution of the state `y`, which has eight components: `y[0]` is $w_H^+$, `y[1]` is $v$, `y[2]` is $\\langle\\text{MF}(\\text{PC}-\\theta)\\rangle$, `y[3]` is $\\langle\\text{PF}_H\\rangle$, `y[4]` is $\\langle\\text{PF}_H\\cdot\\text{CF}\\rangle$, `y[5]` is $\\theta= \\langle\\text{PC}\\rangle$, `y[6]` is $w_H^-$ and `y[7]` is $\\langle\\text{PF}_H(\\text{PC}-\\theta)\\rangle$. The evolution is defined in Materials and Methods, _Circuit model with internal feedback loop_."
   ]
  },
  {
   "cell_type": "code",
   "execution_count": 9,
   "id": "8dea87d0",
   "metadata": {},
   "outputs": [],
   "source": [
    "# Function to pass to ODE solver\n",
    "def feedback2D_Inh(t, y, head, target_gain, learn, params):\n",
    "    '''\n",
    "    head: a function taking a time argument that returns the head velocity\n",
    "    target_gain: scalar value of target input-to-output gain\n",
    "    learn: set to True if in the training period, False if in the post-training period\n",
    "    params: list containing the physiological parameters\n",
    "    \n",
    "    '''\n",
    "    w_h_exc = y[0]\n",
    "    w_h_inh = y[6]\n",
    "    w_h = w_h_exc - w_h_inh\n",
    "    w_e = params['w_eye']-params['w_inh_e']\n",
    "    \n",
    "    v = y[1]\n",
    "    theta = y[5]\n",
    "    \n",
    "    current_gain = params['k_eye']*((params['mf_sensitivity']*v - \n",
    "                                    params['k_pf_h']*params['w_pc_mvn']*(w_h)) / \n",
    "                                    (1 - params['w_pc_mvn']*params['k_pf_e']*params['k_eye']*w_e))\n",
    "    eye = -current_gain * head(t)\n",
    "    \n",
    "    delta_mf = params['mf_sensitivity']*head(t)\n",
    "    delta_pf_h = params['k_pf_h']*head(t)\n",
    "    delta_pf_e = params['k_pf_e']*eye\n",
    "    \n",
    "    \n",
    "    mf = params['mf_0'] + delta_mf\n",
    "    pf_h = params['pf_0'] + delta_pf_h\n",
    "    pf_e = params['pf_0'] + delta_pf_e\n",
    "    \n",
    "    pc = params['pc_0'] + w_h*pf_h + w_e*pf_e\n",
    "    \n",
    "    rs = -(target_gain - current_gain)*head(t)\n",
    "    \n",
    "    delta_cf = np.tanh(-params['beta_rs']*rs*learn)\n",
    "    cf = params['cf_0'] + delta_cf\n",
    "    \n",
    "    dydt = np.zeros(8)\n",
    "    # w_H^+, v, <MF(PC-<PC>)>, <PF_H>, <PF_H*CF>, <PC>, w_H^-, <PF(PC - <PC>)>\n",
    "    dydt[0] = params['k_LTP']*y[3] - params['k_LTD']*y[4]\n",
    "    dydt[1] = params['k_v']*(-y[2])\n",
    "    dydt[2] = 1/params['tau_mvn'] * (-y[2] + mf*(pc - theta))\n",
    "    dydt[3] = 1/params['tau_f'] * (-y[3] + pf_h)\n",
    "    dydt[4] = 1/params['tau_f'] * (-y[4] + pf_h*cf)\n",
    "    dydt[5] = 1/params['tau_f'] * (-y[5] + pc)\n",
    "    dydt[6] = params['k_inh']*y[7]\n",
    "    dydt[7] = 1/params['tau_f'] * (-y[7] + pf_h*(pc - theta))\n",
    "    \n",
    "    return dydt\n",
    "\n",
    "# Jacobian \n",
    "def feedback2D_Inh_Jac(t, y, head, target_gain, learn, params):\n",
    "    w_h_exc = y[0]\n",
    "    w_h_inh = y[6]\n",
    "    w_h = w_h_exc - w_h_inh\n",
    "    w_e = params['w_eye']-params['w_inh_e']\n",
    "    \n",
    "    v = y[1]\n",
    "    theta = y[5]\n",
    "    \n",
    "    w_e_ = params['k_eye']*params['k_pf_e']*w_e\n",
    "    d = 1 - params['w_pc_mvn']*w_e_\n",
    "    \n",
    "    current_gain = params['k_eye']*((params['mf_sensitivity']*v - \n",
    "                                    params['k_pf_h']*params['w_pc_mvn']*(w_h)) / d)\n",
    "    eye = -current_gain * head(t)\n",
    "    \n",
    "    delta_mf = params['mf_sensitivity']*head(t)\n",
    "    delta_pf_h = params['k_pf_h']*head(t)\n",
    "    delta_pf_e = params['k_pf_e']*eye\n",
    "    \n",
    "    mf = params['mf_0'] + delta_mf\n",
    "    pf_h = params['pf_0'] + delta_pf_h\n",
    "    # pf_e = params['pf_0'] + delta_pf_e\n",
    "    \n",
    "    # pc = params['pc_0'] + w_h*pf_h + w_e*pf_e\n",
    "    \n",
    "    rs = -(target_gain - current_gain)*head(t)\n",
    "    \n",
    "    delta_cf = np.tanh(-params['beta_rs']*rs*learn)\n",
    "    \n",
    "    dpc_dwh = params['pf_0'] + params['k_pf_h']/d*head(t)\n",
    "    dpc_dv = - w_e_*params['mf_sensitivity']/d*head(t)\n",
    "    \n",
    "    dg_dwh = -params['k_eye']*params['w_pc_mvn']*params['k_pf_h']/d\n",
    "    dg_dv = params['k_eye']*params['mf_sensitivity']/d\n",
    "    \n",
    "    K = (1 - delta_cf**2)*pf_h\n",
    "    \n",
    "    jac = np.zeros((8,8))\n",
    "    jac[0,:] = np.array([0, 0, 0, params['k_LTP'], -params['k_LTD'], 0, 0, 0])\n",
    "    jac[1, 2] = -params['k_v']\n",
    "    jac[2,:] = 1/params['tau_mvn']*np.array([mf*dpc_dwh, mf*dpc_dv, -1, 0,0,-mf,0,0])\n",
    "    jac[3,3] = -1/params['tau_f']\n",
    "    jac[4,:] = 1/params['tau_f']*np.array([-K*params['beta_rs']*learn*dg_dwh*head(t),\n",
    "                                            -K*params['beta_rs']*learn*dg_dv*head(t),  \n",
    "                                             0, 0, -1, 0, 0, 0])\n",
    "    \n",
    "    jac[5,:] = 1/params['tau_f']*np.array([dpc_dwh, dpc_dv, 0, 0, 0, -1, 0, 0])\n",
    "    jac[6,7] = params['k_inh']\n",
    "    jac[7,:] = 1/params['tau_f']*np.array([pf_h*dpc_dwh, pf_h*dpc_dv, 0, 0,0,-pf_h,0,-1])\n",
    "    \n",
    "    return jac"
   ]
  },
  {
   "cell_type": "code",
   "execution_count": 10,
   "id": "d0246727",
   "metadata": {},
   "outputs": [
    {
     "data": {
      "text/plain": [
       "2.5719999999999996"
      ]
     },
     "execution_count": 10,
     "metadata": {},
     "output_type": "execute_result"
    }
   ],
   "source": [
    "# Value of w_H for a starting gain of 0.4\n",
    "w_h_0(g_init)"
   ]
  },
  {
   "cell_type": "code",
   "execution_count": 11,
   "id": "89331574",
   "metadata": {},
   "outputs": [],
   "source": [
    "w_h_0_ = 2.5"
   ]
  },
  {
   "cell_type": "markdown",
   "id": "8da32a3e",
   "metadata": {},
   "source": [
    "For simplicity of plotting, we set the initial value of $w_H$ to 2.5, which leads to an initial value of $v$:"
   ]
  },
  {
   "cell_type": "code",
   "execution_count": 12,
   "id": "151eaab4",
   "metadata": {
    "scrolled": true
   },
   "outputs": [
    {
     "name": "stdout",
     "output_type": "stream",
     "text": [
      "1.262345741350407\n"
     ]
    }
   ],
   "source": [
    "v_0 = v_0_(w_h_0_)\n",
    "print(v_0)"
   ]
  },
  {
   "cell_type": "markdown",
   "id": "21784ec8",
   "metadata": {},
   "source": [
    "and starting gain:"
   ]
  },
  {
   "cell_type": "code",
   "execution_count": 13,
   "id": "a078e8b4",
   "metadata": {},
   "outputs": [
    {
     "data": {
      "text/plain": [
       "0.3888024883359254"
      ]
     },
     "execution_count": 13,
     "metadata": {},
     "output_type": "execute_result"
    }
   ],
   "source": [
    "gain(w_h_0_, v_0_(w_h_0_))"
   ]
  },
  {
   "cell_type": "code",
   "execution_count": 14,
   "id": "410fcb95",
   "metadata": {},
   "outputs": [],
   "source": [
    "# Spontaneous firing rate of PCs ~50 sp/s (Katoh et al. 2015) \n",
    "# and MVNs is ~57 sp/s (Nelson et al. 2003)\n",
    "\n",
    "# Calculate PC and MVN offsets so that this is the firing rate at baseline\n",
    "params['pc_0'] = 50 - params['pf_0']*(w_h_0_ + params['w_eye']-params['w_inh_e'])\n",
    "params['mvn_0'] = 57 - params['mf_0']*v_0_(w_h_0_) + params['w_pc_mvn']*50"
   ]
  },
  {
   "cell_type": "code",
   "execution_count": 15,
   "id": "9d571dc1",
   "metadata": {},
   "outputs": [
    {
     "data": {
      "text/plain": [
       "(-75.02, -9.929015774272372)"
      ]
     },
     "execution_count": 15,
     "metadata": {},
     "output_type": "execute_result"
    }
   ],
   "source": [
    "# Correction factors for spontaneous firing rates\n",
    "params['pc_0'], params['mvn_0']"
   ]
  },
  {
   "cell_type": "code",
   "execution_count": 16,
   "id": "b29840cb",
   "metadata": {},
   "outputs": [],
   "source": [
    "g_des = 2 # Target gain value during training\n",
    "\n",
    "## Initial conditions\n",
    "theta_0 = params['pc_0'] + params['pf_0']*(w_h_0_ + params['w_eye']-params['w_inh_e'])\n",
    "\n",
    "# w_H^+, v, <MF(PC-<PC>)>, <PF_H>, <PF_H*CF>, <PC>, w_H^-, <PF(PC - <PC>)>\n",
    "y_0 = np.array([w_h_0_ + params['w_inh_h'], v_0, 0, params['pf_0'], params['pf_0']*params['cf_0'], theta_0, params['w_inh_h'], 0])"
   ]
  },
  {
   "cell_type": "markdown",
   "id": "c8754d7a",
   "metadata": {},
   "source": [
    "# Figure 6, bottom row\n",
    "\n",
    "## Run simulation"
   ]
  },
  {
   "cell_type": "code",
   "execution_count": 18,
   "id": "aaf7a254",
   "metadata": {},
   "outputs": [],
   "source": [
    "T_learn = 0.5 # h\n",
    "\n",
    "T_post = 24 # s\n",
    "\n",
    "## Time steps for plotting (ODE solver uses variable time steps)\n",
    "\n",
    "dt_learn = 1/3600 # h (= 1 s)\n",
    "dt_post = 10*60/3600 # h (= 10 min)\n",
    "\n",
    "t_learn = np.linspace(0, T_learn, int(T_learn/dt_learn))\n",
    "t_post = np.linspace(0, T_post-T_learn, int(T_post/dt_post)) + T_learn\n",
    "\n",
    "\n",
    "# Solution during the training period\n",
    "sol_learn = scipy.integrate.solve_ivp(lambda t,y: feedback2D_Inh(t,y, head_learn, g_des, True, params), [0, T_learn], y_0, \n",
    "                                  jac=lambda t,y: feedback2D_Inh_Jac(t,y,head_learn, g_des,True,params), method='Radau', dense_output=True, max_step=0.25/3600)\n",
    "\n",
    "y_learn = sol_learn.sol(t_learn)\n",
    "\n",
    "sol_recov = scipy.integrate.solve_ivp(lambda t,y: feedback2D_Inh(t,y, head_post_input, g_des, False, params), [T_learn, T_post], y_learn[:,-1], \n",
    "                                  jac=lambda t,y: feedback2D_Inh_Jac(t,y,head_post_input,\n",
    "                                                             g_des,False,params), method='Radau', dense_output=True, max_step=0.25/3600)\n",
    "\n",
    "y_recov = sol_recov.sol(t_post)"
   ]
  },
  {
   "cell_type": "code",
   "execution_count": 19,
   "id": "98463651",
   "metadata": {},
   "outputs": [],
   "source": [
    "t_ = np.concatenate((t_learn, t_post))\n",
    "y_ = np.hstack((y_learn, y_recov))"
   ]
  },
  {
   "cell_type": "markdown",
   "id": "fa21c918",
   "metadata": {},
   "source": [
    "## Figure 6B"
   ]
  },
  {
   "cell_type": "code",
   "execution_count": 20,
   "id": "878e203a",
   "metadata": {},
   "outputs": [],
   "source": [
    "w_H = y_[0,:] - y_[6,:]"
   ]
  },
  {
   "cell_type": "code",
   "execution_count": 21,
   "id": "9a2c02a9",
   "metadata": {},
   "outputs": [
    {
     "data": {
      "image/png": "[encoded data removed]",
      "text/plain": [
       "<Figure size 150x140 with 2 Axes>"
      ]
     },
     "metadata": {},
     "output_type": "display_data"
    }
   ],
   "source": [
    "plt.figure(figsize=(1.5,1.4))\n",
    "\n",
    "ax = plt.subplot(2,1,1)\n",
    "\n",
    "plt.plot([-2,24], [0,0],'k--',lw=0.5)\n",
    "\n",
    "plt.plot([0, 0.5],[0.1,]*2,  c='C1', lw=2, clip_on=False)\n",
    "plt.plot([0.5, 24], [0.1,]*2,  c=(0.7,)*3, lw=2, clip_on=False)\n",
    "\n",
    "plt.plot(t_, (y_[0,:]-y_[0,0])/y_[0,0], c='C4', clip_on=False,lw=1)\n",
    "plt.plot(t_, (y_[6,:]-y_[6,0])/y_[6,0], c='C9', clip_on=False,lw=1)\n",
    "plt.ylim([-0.5, 0])\n",
    "plt.xlim([-2,24])\n",
    "ax.xaxis.set_visible(False)\n",
    "\n",
    "ax.set_yticks([0, -0.25, -0.5])\n",
    "\n",
    "ax.spines['top'].set_visible(False)\n",
    "ax.spines['right'].set_visible(False)\n",
    "ax.spines['bottom'].set_visible(False)\n",
    "\n",
    "ax = plt.subplot(2,1,2)\n",
    "plt.plot(t_, (y_[1,:]-y_[1,0])/y_[1,0], c='C3',lw=1)\n",
    "\n",
    "plt.ylim([0, 0.3])\n",
    "plt.xlim([-2,24])\n",
    "ax.spines['top'].set_visible(False)\n",
    "ax.spines['right'].set_visible(False)\n",
    "ax.set_yticks([0, 0.15,0.3])\n",
    "\n",
    "ax.set_xticks([0,12,24])\n",
    "ax.set_xticks([0, 24])\n",
    "ax.set_xticks([12], minor=True)"
   ]
  },
  {
   "cell_type": "markdown",
   "id": "bacbc2b3",
   "metadata": {},
   "source": [
    "## Figure 6C, D\n",
    "For the bottom panel, we plot the time course of the circuit's input-output gain."
   ]
  },
  {
   "cell_type": "code",
   "execution_count": 22,
   "id": "eaa63188",
   "metadata": {},
   "outputs": [],
   "source": [
    "gain_ = gain(w_H, y_[1,:])\n",
    "gain_v = y_[1,:]*params['mf_sensitivity']*params['k_eye'] # gain(w_H[0], y_[1,:])"
   ]
  },
  {
   "cell_type": "markdown",
   "id": "bd623d38",
   "metadata": {},
   "source": [
    "Calculate percentage gain change that is consolidated:"
   ]
  },
  {
   "cell_type": "code",
   "execution_count": 23,
   "id": "38fd3e7e",
   "metadata": {},
   "outputs": [],
   "source": [
    "gain_learn = gain(y_learn[0,:]-y_learn[6,:],y_learn[1,:])\n",
    "gain_post = gain(y_recov[0,:]-y_recov[6,:],y_recov[1,:])"
   ]
  },
  {
   "cell_type": "code",
   "execution_count": 24,
   "id": "58896fad",
   "metadata": {},
   "outputs": [
    {
     "data": {
      "text/plain": [
       "0.753638761642356"
      ]
     },
     "execution_count": 24,
     "metadata": {},
     "output_type": "execute_result"
    }
   ],
   "source": [
    "(gain_post[-1]-gain_learn[0])/(gain_learn[-1]-gain_learn[0])"
   ]
  },
  {
   "cell_type": "markdown",
   "id": "597fa5ad",
   "metadata": {},
   "source": [
    "For the top panel, we calculate the change in sensitivity of PCs to the sensory (vestibular) input, relative to a sliding average, and mulitply by peak velocity to get the change in the amplitude of PC modulation."
   ]
  },
  {
   "cell_type": "code",
   "execution_count": 25,
   "id": "85850ed9",
   "metadata": {},
   "outputs": [],
   "source": [
    "w_H = y_[0,:] - y_[6,:]\n",
    "w_E = params['w_eye'] - params['w_inh_e']\n",
    "v = y_[1,:]\n",
    "\n",
    "\n",
    "\n",
    "delta_pc_amp = ((params['k_pf_h']*w_H - params['k_eye']*params['k_pf_e']*w_E*params['mf_sensitivity']*v)/\n",
    "            (1 - params['w_pc_mvn']*params['k_eye']*params['k_pf_e']*w_E))\n",
    "pc_avg = params['pc_0'] + params['pf_0']*(w_H + w_E)"
   ]
  },
  {
   "cell_type": "code",
   "execution_count": 26,
   "id": "152e6a1d",
   "metadata": {},
   "outputs": [
    {
     "data": {
      "image/png": "[encoded data removed]",
      "text/plain": [
       "<Figure size 150x140 with 2 Axes>"
      ]
     },
     "metadata": {},
     "output_type": "display_data"
    }
   ],
   "source": [
    "plt.figure(figsize=(1.5,1.4))\n",
    "\n",
    "ax = plt.subplot(2,1,1)\n",
    "\n",
    "plt.plot(t_, delta_pc_amp*peak_velocity_post,clip_on=False)\n",
    "plt.plot([-1,24], [0,0],c='k',ls='--',lw=0.5, clip_on=False)\n",
    "\n",
    "plt.plot([0, T_learn], [2,]*2, c='C1', lw=2, clip_on=False)\n",
    "plt.plot([T_learn, T_post], [2,]*2, c=(0.7,)*3, lw=2, clip_on=False)\n",
    "# plt.ylim()\n",
    "plt.ylim([-15, 0])\n",
    "plt.xlim([-2,24])\n",
    "ax = plt.gca()\n",
    "ax.spines['top'].set_visible(False)\n",
    "ax.spines['right'].set_visible(False)\n",
    "ax.spines['bottom'].set_visible(False)\n",
    "ax.xaxis.set_visible(False)\n",
    "\n",
    "plt.yticks([0, -8, -16])\n",
    "\n",
    "ax = plt.subplot(2,1,2)\n",
    "plt.fill_between(t_, np.zeros(len(t_)), gain_v/gain_v[0]-1, facecolor='C3',alpha=0.2)\n",
    "plt.fill_between(t_, gain_v/gain_v[0]-1,gain_/gain_[0]-1,  facecolor='C0',alpha=0.2 )\n",
    "plt.plot(t_, gain_/gain_[0]-1, c='k',lw=1)\n",
    "\n",
    "# plt.plot([0, 0.5],[0.4,]*2,  c='C1', lw=2, clip_on=False)\n",
    "# plt.plot([0.5, 24], [0.4,]*2,  c=(0.7,)*3, lw=2, clip_on=False)\n",
    "\n",
    "\n",
    "plt.ylim([0, 0.4])\n",
    "plt.xlim([-2,24])\n",
    "ax=plt.gca()\n",
    "ax.spines['top'].set_visible(False)\n",
    "ax.spines['right'].set_visible(False)\n",
    "ax.set_xticks([0, 24])\n",
    "ax.set_xticks([12], minor=True)\n",
    "ax.set_xticklabels([0, 24])\n",
    "\n",
    "plt.savefig('figures/figure 6/pc-gain-inh-new-model.pdf')"
   ]
  },
  {
   "cell_type": "markdown",
   "id": "0020c2a9",
   "metadata": {},
   "source": [
    "## Figure 6E\n",
    "Here we plot the phase portrait of the weight dynamics of the circuit, as well as the continuum of steady states."
   ]
  },
  {
   "cell_type": "code",
   "execution_count": 99,
   "id": "fd9b697d",
   "metadata": {},
   "outputs": [],
   "source": [
    "sigma_h2 = 0.5*peak_velocity_post**2\n",
    "\n",
    "\n",
    "w_e_tilde = params['k_pf_e']*(params['w_eye']-params['w_inh_e'])\n",
    "\n",
    "delta_pc_sens = lambda w_h, v: ((params['k_pf_h']*(w_h) - \n",
    "                              params['k_eye']*w_e_tilde*\n",
    "                                 params['mf_sensitivity']*v)/\n",
    "                              (1 - params['w_pc_mvn']*params['k_eye']*w_e_tilde))\n",
    "\n",
    "attractor_slope = params['k_pf_h']/(params['k_eye']*w_e_tilde*params['mf_sensitivity'])\n"
   ]
  },
  {
   "cell_type": "code",
   "execution_count": 28,
   "id": "5c84da8f",
   "metadata": {},
   "outputs": [
    {
     "data": {
      "image/png": "[encoded data removed]",
      "text/plain": [
       "<Figure size 150x150 with 1 Axes>"
      ]
     },
     "metadata": {},
     "output_type": "display_data"
    }
   ],
   "source": [
    "plt.figure(figsize=(1.5,1.5))\n",
    "\n",
    "# Plot attractor\n",
    "xlims = [0, 5] \n",
    "ylims = [0.8, 1.8]\n",
    "\n",
    "plt.plot([w_H[0],]*2,ylims,'k--', lw=1) # starting point\n",
    "\n",
    "\n",
    "# w_max = (params['mf_sensitivity']*ylims[1] - gain_phase_learn_incomplete[-1]/params['k_eye'])/(params['w_pc_mvn']*params['pf_sensitivity'])\n",
    "\n",
    "\n",
    "w_max = ylims[1]/attractor_slope\n",
    "\n",
    "plt.plot([xlims[0], w_max], (np.array([xlims[0], w_max])*attractor_slope),\n",
    "        c=(0.5, 0.5, 0.5))\n",
    "\n",
    "plt.plot(y_learn[0,:]-y_learn[6,:], y_learn[1,:], c='C1')\n",
    "plt.plot(y_recov[0,:]-y_recov[6,:], y_recov[1,:], c='k')\n",
    "\n",
    "ylimrange = ylims[1]-ylims[0]\n",
    "xlimrange = xlims[1]-xlims[0]\n",
    "\n",
    "plt.ylim(ylims)\n",
    "plt.xlim(xlims)\n",
    "\n",
    "ww_phase, vv_phase = np.meshgrid(xlims[0] + np.linspace(0.1,0.9,6)*xlimrange,ylims[0] + np.linspace(0.1,0.9,4)*ylimrange)\n",
    "\n",
    "dw_phase = -params['k_inh']*params['k_pf_h']*delta_pc_sens(ww_phase,vv_phase)*sigma_h2\n",
    "dv_phase = -params['k_v']*(params['mf_sensitivity']*delta_pc_sens(ww_phase,vv_phase)*sigma_h2)\n",
    "\n",
    "dw_phase_norm = dw_phase/np.sqrt(dw_phase**2+dv_phase**2)\n",
    "dv_phase_norm = dv_phase/np.sqrt(dw_phase**2+dv_phase**2)\n",
    "\n",
    "plt.quiver(ww_phase, vv_phase, dw_phase_norm, dv_phase_norm, pivot='middle', scale=10, angles='xy', color=(0.7, 0.7, 0.7, 1))\n",
    "\n",
    "\n",
    "\n",
    "ax = plt.gca()\n",
    "ax.set_xticks([0, 2.5, 5])\n",
    "ax.set_yticks([0.8, 1.3, 1.8]);\n",
    "plt.savefig('figures/figure 6/phase-inh-new-model.pdf')"
   ]
  },
  {
   "cell_type": "markdown",
   "id": "638842fa",
   "metadata": {},
   "source": [
    "# Phase plots during training (Fig. S4A)"
   ]
  },
  {
   "cell_type": "code",
   "execution_count": 198,
   "id": "459a81ce",
   "metadata": {},
   "outputs": [
    {
     "data": {
      "text/plain": [
       "(0.04333333333333334, 0.05)"
      ]
     },
     "execution_count": 198,
     "metadata": {},
     "output_type": "execute_result"
    }
   ],
   "source": [
    "# approximate condition for trajectories to stay in region w^*_{H,opt} < w_H < w^*_{H,dark}\n",
    "(params['k_v']*params['mf_sensitivity']**2/(params['k_inh']*params['k_pf_h']**2), \n",
    " params['w_pc_mvn'])"
   ]
  },
  {
   "cell_type": "code",
   "execution_count": 140,
   "id": "a8ae1be1",
   "metadata": {},
   "outputs": [],
   "source": [
    "dt_long = 60/3600\n",
    "T_learn_long = 48\n",
    "t_sol_online = np.arange(0, int(T_learn_long/dt_long))*dt_long\n",
    "\n",
    "sol_online = scipy.integrate.solve_ivp(lambda t,y: feedback2D_Inh(t,y, head_learn, g_des, True, params), [0, T_learn_long], y_0, \n",
    "                                  jac=lambda t,y: feedback2D_Inh_Jac(t,y,head_learn, g_des,True,params), method='Radau', dense_output=True, max_step=0.25/3600)\n"
   ]
  },
  {
   "cell_type": "code",
   "execution_count": 141,
   "id": "053f5495",
   "metadata": {},
   "outputs": [],
   "source": [
    "y_online = sol_online.sol(t_sol_online)\n",
    "gain_online = gain(y_online[0,:]-y_online[6,:], y_online[1,:])"
   ]
  },
  {
   "cell_type": "code",
   "execution_count": 149,
   "id": "1d4771b0",
   "metadata": {},
   "outputs": [],
   "source": [
    "w_H_online = y_online[0,:]-y_online[6,:]"
   ]
  },
  {
   "cell_type": "code",
   "execution_count": 150,
   "id": "385b34e1",
   "metadata": {},
   "outputs": [],
   "source": [
    "attractor_slope = params['k_pf_h']/(params['k_eye']*w_e_tilde*params['mf_sensitivity'])\n",
    "\n",
    "w_e_tilde = params['k_pf_e']*(params['w_eye']-params['w_inh_e'])\n",
    "wh_opt_line = lambda wh, g_t: 1/params['mf_sensitivity']*(params['w_pc_mvn']*params['k_pf_h']*wh \n",
    "                               + g_t/params['k_eye']*(1-params['w_pc_mvn']*params['k_eye']*w_e_tilde))\n",
    "\n",
    "k_l = params['k_LTD']*params['beta_rs']*params['k_eye']*params['w_pc_mvn']\n",
    "alpha = k_l/(k_l + params['k_inh'])"
   ]
  },
  {
   "cell_type": "code",
   "execution_count": 170,
   "id": "a1a5e668",
   "metadata": {},
   "outputs": [],
   "source": [
    "sigma_h2 = 0.5*peak_velocity_learn**2\n",
    "delta_pc_sens = lambda w_h, v: ((params['k_pf_h']*(w_h) - \n",
    "                              params['k_eye']*w_e_tilde*\n",
    "                                 params['mf_sensitivity']*v)/\n",
    "                              (1 - params['w_pc_mvn']*params['k_eye']*w_e_tilde))"
   ]
  },
  {
   "cell_type": "code",
   "execution_count": 172,
   "id": "2f19aabb",
   "metadata": {},
   "outputs": [],
   "source": [
    "T_avg = 0.5/3600 # one half cycle at 1 Hz\n",
    "avg_equation = lambda t,w,v: head_learn(t)*np.tanh(-params['beta_rs']*(g_des - gain(w,v))*head_learn(t))\n",
    "dwhedt_approx = lambda w,v: 1/T_avg*params['k_LTD']*params['k_pf_h']*scipy.integrate.quad(lambda t: avg_equation(t,w,v), 0, T_avg)[0]\n",
    "\n",
    "dwhedt_approx_vec = np.vectorize(dwhedt_approx)"
   ]
  },
  {
   "cell_type": "code",
   "execution_count": 188,
   "id": "86d88778",
   "metadata": {},
   "outputs": [],
   "source": [
    "dwhidt = lambda w,v: -params['k_inh']*params['k_pf_h']*delta_pc_sens(w,v)*sigma_h2\n",
    "\n",
    "def wh_star_line(w_h, g_des):\n",
    "    init_guess = alpha*wh_opt_line(w_h, g_des) + (1-alpha)*attractor_slope*w_h\n",
    "    sol = scipy.optimize.root_scalar(lambda v: dwhedt_approx(w_h, v) + dwhidt(w_h, v), x0=init_guess, bracket=[-6, 18])\n",
    "    return sol.root\n",
    "\n",
    "wh_star_line_vec = np.vectorize(wh_star_line)"
   ]
  },
  {
   "cell_type": "code",
   "execution_count": 174,
   "id": "12083b68",
   "metadata": {},
   "outputs": [],
   "source": [
    "w_opt = w_h_0(g_des)"
   ]
  },
  {
   "cell_type": "code",
   "execution_count": 194,
   "id": "f1139325",
   "metadata": {},
   "outputs": [
    {
     "data": {
      "image/png": "[encoded data removed]",
      "text/plain": [
       "<Figure size 150x150 with 1 Axes>"
      ]
     },
     "metadata": {},
     "output_type": "display_data"
    }
   ],
   "source": [
    "plt.figure(figsize=(1.5,1.5))\n",
    "xlims = [-6, 18]\n",
    "ylims = [0, 7]\n",
    "w_max = xlims[-1]# ylims[1]/attractor_slope\n",
    "\n",
    "ylimrange = ylims[1]-ylims[0]\n",
    "xlimrange = xlims[1]-xlims[0]\n",
    "ww_phase, vv_phase = np.meshgrid(xlims[0] + np.linspace(0.1,0.9,6)*xlimrange,ylims[0] + np.linspace(0.1,0.9,4)*ylimrange)\n",
    "\n",
    "dw_phase = -params['k_inh']*params['k_pf_h']*delta_pc_sens(ww_phase,vv_phase)*sigma_h2 + dwhedt_approx_vec(ww_phase,vv_phase)\n",
    "dv_phase = -params['k_v']*(params['mf_sensitivity']*delta_pc_sens(ww_phase,vv_phase)*sigma_h2)\n",
    "\n",
    "dw_phase_norm = dw_phase/np.sqrt(dw_phase**2+dv_phase**2)\n",
    "dv_phase_norm = dv_phase/np.sqrt(dw_phase**2+dv_phase**2)\n",
    "\n",
    "plt.quiver(ww_phase, vv_phase, dw_phase_norm, dv_phase_norm, pivot='middle', scale=10, angles='xy', color=(0.7, 0.7, 0.7, 1))\n",
    "\n",
    "plt.plot([xlims[0], w_max], (np.array([xlims[0], w_max])*attractor_slope),\n",
    "        c=(0.5, 0.5, 0.5))\n",
    "\n",
    "w_star_line = np.linspace(xlims[0], w_max)\n",
    "plt.plot(w_star_line, wh_star_line_vec(w_star_line, g_des),\n",
    "        c=(0.5, 0.5, 0.5))\n",
    "\n",
    "plt.plot([xlims[0], w_opt], wh_opt_line(np.array([xlims[0], w_opt]),g_des),\n",
    "        c='k', ls='--')\n",
    "\n",
    "plt.plot(w_H_online,y_online[1,:], c='C1')\n",
    "plt.xlim(xlims)\n",
    "plt.ylim(ylims)\n",
    "\n",
    "plt.xticks([-6, 6, 18])\n",
    "plt.yticks([0, 3.5, 7])"
   ]
  },
  {
   "cell_type": "code",
   "execution_count": 214,
   "id": "44275e4c",
   "metadata": {},
   "outputs": [
    {
     "data": {
      "image/png": "[encoded data removed]",
      "text/plain": [
       "<Figure size 150x150 with 3 Axes>"
      ]
     },
     "metadata": {},
     "output_type": "display_data"
    }
   ],
   "source": [
    "plt.figure(figsize=(1.5,1.5))\n",
    "ax = plt.subplot(3,1,1)\n",
    "plt.plot([-3, 48],[y_online[0,0]-y_online[6,0]]*2,'k--',lw=1)\n",
    "# plt.plot(sol_learn.t, sol_learn.y[0,:]-params['w_i'],c='C0',clip_on=False)\n",
    "plt.plot(t_sol_online, y_online[0,:]-y_online[6,:],c='C0',clip_on=False)\n",
    "\n",
    "plt.yticks([-13, 0,13], [-13,  '', 13])\n",
    "plt.ylim([-13, 13])\n",
    "plt.xlim([-3, 48])\n",
    "\n",
    "\n",
    "ax.spines['top'].set_visible(False)\n",
    "ax.spines['right'].set_visible(False)\n",
    "ax.spines['bottom'].set_visible(False)\n",
    "plt.xticks([])\n",
    "\n",
    "\n",
    "ax = plt.subplot(3,1,2)\n",
    "\n",
    "plt.plot(t_sol_online, y_online[1,:],c='C3',clip_on=False)\n",
    "plt.ylim([v_0,6.3])\n",
    "plt.xlim([-3, 48])\n",
    "plt.yticks([1.3,3.3,6.3],[1.3,'',6.3])\n",
    "plt.xticks([0, 12,24,36,48],[0, '','', '',48])\n",
    "\n",
    "ax.spines['top'].set_visible(False)\n",
    "ax.spines['right'].set_visible(False)\n",
    "\n",
    "ax = plt.subplot(3,1,3)\n",
    "plt.plot([-3,48],[2,2],'--',lw=1, c=(0.7,)*3, clip_on=False)\n",
    "plt.plot(t_sol_online, gain_online,c='k',clip_on=False)\n",
    "\n",
    "ax.spines['top'].set_visible(False)\n",
    "ax.spines['right'].set_visible(False)\n",
    "plt.xlim([-3,48])\n",
    "plt.ylim([0.4, 2.4])\n",
    "plt.xticks([0,12,24,36,48],[0, '', '', '',48]);\n",
    "# plt.yticks([0.4, 0.7,1],[0.4, '', 1]);\n",
    "\n",
    "plt.subplots_adjust(hspace=1)"
   ]
  }
 ],
 "metadata": {
  "kernelspec": {
   "display_name": "Python 3 (ipykernel)",
   "language": "python",
   "name": "python3"
  },
  "language_info": {
   "codemirror_mode": {
    "name": "ipython",
    "version": 3
   },
   "file_extension": ".py",
   "mimetype": "text/x-python",
   "name": "python",
   "nbconvert_exporter": "python",
   "pygments_lexer": "ipython3",
   "version": "3.10.9"
  }
 },
 "nbformat": 4,
 "nbformat_minor": 5
}
