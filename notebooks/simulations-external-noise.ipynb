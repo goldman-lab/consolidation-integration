{
 "cells": [
  {
   "cell_type": "code",
   "execution_count": 1,
   "metadata": {},
   "outputs": [],
   "source": [
    "import numpy as np\n",
    "import matplotlib\n",
    "\n",
    "# Embed fonts into PDF/PS files\n",
    "matplotlib.rcParams['pdf.fonttype'] = 42\n",
    "matplotlib.rcParams['ps.fonttype'] = 42\n",
    "\n",
    "import matplotlib.pyplot as plt\n",
    "%matplotlib inline\n",
    "\n",
    "import matplotlib.colors\n",
    "\n",
    "import scipy.integrate\n",
    "import scipy.optimize\n",
    "\n",
    "# Progress bars\n",
    "import tqdm.notebook\n",
    "\n",
    "# Make deep copies\n",
    "import copy"
   ]
  },
  {
   "cell_type": "code",
   "execution_count": 2,
   "metadata": {},
   "outputs": [],
   "source": [
    "matplotlib.rcParams.update({'font.size': 7, 'axes.linewidth': 0.5, 'xtick.major.width': 0.5, 'xtick.minor.width': 0.5, \n",
    "                            'ytick.major.width': 0.5,'ytick.minor.width': 0.5, 'xtick.major.pad':2,'ytick.major.pad':2})\n",
    "matplotlib.rcParams.update({'font.family':'sans-serif','font.sans-serif':['Arial']})"
   ]
  },
  {
   "cell_type": "code",
   "execution_count": 3,
   "metadata": {},
   "outputs": [],
   "source": [
    "def make_rgb_transparent(rgb, bg_rgb, alpha):\n",
    "    return [alpha * c1 + (1 - alpha) * c2\n",
    "            for (c1, c2) in zip(rgb, bg_rgb)]"
   ]
  },
  {
   "cell_type": "markdown",
   "metadata": {},
   "source": [
    "# Figure 4A,D – show relation of full to simplified model"
   ]
  },
  {
   "cell_type": "code",
   "execution_count": 4,
   "metadata": {},
   "outputs": [],
   "source": [
    "## Physiological parameters\n",
    "\n",
    "# mvn head sensitvity in the light: 0.38 sp/s / deg/s for ~0.85 gain -- Beraneck & Cullen 2007\n",
    "# => k_eye ~= 2.2\n",
    "\n",
    "# Eye movement response to optogenetic stimulation (Payne et al. 2019)\n",
    "# ~0.1 deg/s / sp/s = k_eye * w_PC => w_PC ~= 0.05\n",
    "\n",
    "# average learning in one day ~20-40% (Kimpo et al. 2014, Boyden & Raymond 2003)\n",
    "# delta w ~= delta g/g_0 * v_0*k_MF / w_pc_mvn*k_PF\n",
    "# delta g/g_0 ~= 0.3 = > delta w ~= -2.6\n",
    "# => for ~50% decrease during training (Jang, Shim et al. 2020), set w_i = 5\n",
    "\n",
    "# memory retention ~75% after 24 hr calculated from Boyden & Raymond 2003\n",
    "\n",
    "params = {\n",
    "    'mf_0': 55, # Lasker et al. 2008\n",
    "    'pf_0': 14, # Arenz et al. 2008 -- assume each MF EPSC evokes a GC spike\n",
    "    'cf_0': 1,\n",
    "    'mf_sensitivity': 0.14, # Lasker et al. 2008\n",
    "    'pf_sensitivity': 0.42, # Arenz et al. 2008 (See above)\n",
    "    'w_i': 5, # calculated from Jang, Shim et al. 2020 as above\n",
    "    'w_pc_mvn': 0.05, # calculated from Payne et al. 2019 as above\n",
    "    'k_eye': 2.2, # calculated from Beraneck & Cullen 2007 as above\n",
    "    'k_v':2.75e-5, # empirically, to get 75% retention\n",
    "    'tau_f': 0.017, # fast average ~= 1 min\n",
    "    'tau_mvn': 0.7, # tau_f,v: average of activity being integrated at MVN\n",
    "    'tau_learn': 0.15, # Boyden & Raymond 2003\n",
    "    'tau_post': 5, # consistent with 4 hour window, Attwell et al. 2002\n",
    "    'k_LTD': 0.648, # to get delta w ~= -2.6\n",
    "    'beta_rs':1, # to match CF response curve from Guo et al. 2014\n",
    "}\n",
    "# Set k_LTP so that LTP and LTD contributions to plasticity at w offset when not learning\n",
    "params['k_LTP'] = params['k_LTD']*params['cf_0']\n",
    "\n",
    "## Behavioral parameters\n",
    "\n",
    "# Kimpo et al. 2014, Nguyen-Vu et al. 2013, Boyden & Raymond 2003\n",
    "stim_freq = 1 \n",
    "peak_velocity_learn = 15 # deg/s\n",
    "peak_velocity_post = 15\n",
    "\n",
    "# Define function for head velocity\n",
    "head_learn = lambda t: peak_velocity_learn*np.sin(2*np.pi*stim_freq*3600*t)\n",
    "head_post_input = lambda t: peak_velocity_post*np.sin(2*np.pi*stim_freq*3600*t) # w/post-training input\n",
    "head_post_no_input = lambda t: 0 # w/o post-training input\n",
    "\n",
    "# Define function for retinal slip\n",
    "target_learn = lambda t: -peak_velocity_learn*np.sin(2*np.pi*stim_freq*3600*t) # x2 stimulus\n",
    "target_post = lambda t: 0"
   ]
  },
  {
   "cell_type": "code",
   "execution_count": 46,
   "metadata": {},
   "outputs": [
    {
     "name": "stdout",
     "output_type": "stream",
     "text": [
      "0.648\n"
     ]
    }
   ],
   "source": [
    "print(params['k_LTP']) # note this is different from models with decay in w_H"
   ]
  },
  {
   "cell_type": "code",
   "execution_count": 5,
   "metadata": {},
   "outputs": [],
   "source": [
    "gain = lambda w,v: params['k_eye']*(params['mf_sensitivity']*v \n",
    "                                    - params['pf_sensitivity']*params['w_pc_mvn']*(w-params['w_i']))\n",
    "    "
   ]
  },
  {
   "cell_type": "code",
   "execution_count": 6,
   "metadata": {},
   "outputs": [],
   "source": [
    "# initial gain ~- 0.4 in mice (Katoh et al. 2015, Boyden & Raymond 2003)\n",
    "g_init = 0.4\n",
    "v_0_ = lambda g_init: g_init/(params['k_eye']*params['mf_sensitivity'])\n",
    "\n",
    "v_0 = v_0_(g_init)"
   ]
  },
  {
   "cell_type": "code",
   "execution_count": 7,
   "metadata": {},
   "outputs": [],
   "source": [
    "# Spontaneous firing rate of PCs ~50 sp/s (Katoh et al. 2015) \n",
    "# and MVNs is ~57 sp/s (Nelson et al. 2003)\n",
    "\n",
    "# Calculate PC and MVN offsets so that this is the firing rate at baseline\n",
    "params['pc_0'] = 50\n",
    "params['mvn_0'] = 57 - params['mf_0']*v_0 + params['w_pc_mvn']*50"
   ]
  },
  {
   "cell_type": "markdown",
   "metadata": {},
   "source": [
    "## Simple one site model – Figure 4A"
   ]
  },
  {
   "cell_type": "code",
   "execution_count": 68,
   "metadata": {},
   "outputs": [],
   "source": [
    "# Function to pass to ODE solver\n",
    "def oneSite(t, y, head, target_gain, learn, params):\n",
    "    '''\n",
    "    head: a function taking a time argument that returns the head velocity\n",
    "    retinal_slip: a function taking a time argument that returns the retinal slip velocity\n",
    "    learn: set to True if in the training period, False if in the post-training period\n",
    "    params: list containing the physiological parameters\n",
    "    \n",
    "    '''\n",
    "    # cf = params['cf_0'] + delta_cf\n",
    "    \n",
    "    w = y[0]\n",
    "    # set v to fixed value so that initial gain is 0.4\n",
    "    v = v_0 # 0.4/(params['k_eye']*params['mf_sensitivity']) \n",
    "    \n",
    "    g = params['k_eye']*(params['mf_sensitivity']*v - \n",
    "                         params['pf_sensitivity']*params['w_pc_mvn']*(w-params['w_i']))\n",
    "    retinal_slip = -(target_gain - g)*head(t)\n",
    "    \n",
    "    delta_pf = params['pf_sensitivity']*head(t)\n",
    "    delta_cf = np.tanh(-params['beta_rs']*retinal_slip)*learn\n",
    "    pf = params['pf_0'] + delta_pf\n",
    "    cf = params['cf_0'] + delta_cf\n",
    "    \n",
    "    dydt = np.zeros(3)\n",
    "    dydt[0] = params['k_v']*( params['k_LTP']*y[1] - params['k_LTD']*y[2] )\n",
    "    dydt[1] = 1/params['tau_f'] * (-y[1] + pf)\n",
    "    dydt[2] = 1/params['tau_f'] * (-y[2] + pf*cf)\n",
    "    \n",
    "    return dydt\n",
    "\n",
    "# Jacobian \n",
    "def oneSiteJac(t, y, head, target_gain, learn, params):\n",
    "    w = y[0]\n",
    "    v = v_0 # 0.4/(params['k_eye']*params['mf_sensitivity'])\n",
    "    g = params['k_eye']*(params['mf_sensitivity']*v - \n",
    "                         params['pf_sensitivity']*params['w_pc_mvn']*(w-params['w_i']))\n",
    "    retinal_slip = -(target_gain - g)*head(t)\n",
    "    \n",
    "    delta_pf = params['pf_sensitivity']*head(t)\n",
    "    delta_cf = np.tanh(-params['beta_rs']*retinal_slip)*learn\n",
    "    \n",
    "    pf = params['pf_0'] + delta_pf\n",
    "\n",
    "    dgdw = -params['k_eye']*params['pf_sensitivity']*params['w_pc_mvn']\n",
    "    \n",
    "    jac = np.zeros((3,3))\n",
    "    jac[0,:] = params['k_v']*np.array([0, params['k_LTP'], -params['k_LTD']])\n",
    "    jac[1,1] = -1/params['tau_f']\n",
    "    jac[2,:] = 1/params['tau_f']*np.array([ -pf*(1-delta_cf**2)*params['beta_rs']*dgdw*head(t)*learn,\n",
    "                                             0, -1])\n",
    "    \n",
    "    return jac"
   ]
  },
  {
   "cell_type": "code",
   "execution_count": 9,
   "metadata": {},
   "outputs": [],
   "source": [
    "y_0_init = np.array([params['w_i'], params['pf_0'], params['pf_0']*params['cf_0']])\n",
    "sigma2 = 0.5*peak_velocity_post**2"
   ]
  },
  {
   "cell_type": "code",
   "execution_count": 10,
   "metadata": {},
   "outputs": [],
   "source": [
    "dt_learn = 1/3600 # h (= 1 s)\n",
    "dt_post = 60/3600 # h (= 10 min)\n",
    "\n",
    "T_learn = 0.5\n",
    "T_post = 12\n",
    "\n",
    "t_learn = np.linspace(0, T_learn, int(T_learn/dt_learn))\n",
    "t_post = np.linspace(0, T_post-T_learn, int(T_post/dt_post)) + T_learn\n",
    "\n"
   ]
  },
  {
   "cell_type": "code",
   "execution_count": 11,
   "metadata": {},
   "outputs": [],
   "source": [
    "# target gains for three days of training\n",
    "g_des_ = np.array([0.4,  0.48, 0.36]) # np.array([0.4, 0.43, 0.38])"
   ]
  },
  {
   "cell_type": "code",
   "execution_count": 12,
   "metadata": {},
   "outputs": [],
   "source": [
    "days = len(g_des_)\n",
    "t_total = np.concatenate([np.concatenate((t_learn,t_post)) + d*T_post for d in range(days)])"
   ]
  },
  {
   "cell_type": "markdown",
   "metadata": {},
   "source": [
    "### Fast learning at $w$\n",
    "\n",
    "Below, we perform some calculations to pick parameters for the one-site model so that it is close to the simplified model given our choices of $q$."
   ]
  },
  {
   "cell_type": "markdown",
   "metadata": {},
   "source": [
    "Assuming that we are in the linear regime, \n",
    "$$\n",
    "\\begin{align*}\n",
    "\\dot{w} &\\approx -k_\\text{LTD}k_\\text{PF}\\beta_\\text{rs}(g^\\text{target}-g)\\sigma_H^2\\\\\n",
    "&= -k_\\text{LTD}k_\\text{PF}\\beta_\\text{rs}\\sigma_H^2(g^\\text{target}-k_E(\\tilde{v}-w_\\text{PC}\\tilde{w})),\n",
    "\\end{align*}\n",
    "$$\n",
    "so the time constant of the exponential approach to steady state is\n",
    "$$\n",
    "\\tau = \\frac{1}{-k_\\text{LTD}k_\\text{PF}^2\\sigma_H^2\\beta_\\text{rs}k_E w_\\text{PC}}.\n",
    "$$\n",
    "\n",
    "Then, since $w(t) \\approx w_\\infty - (w_\\infty - w_0)e^{-t/\\tau}$, the amount of learning at the end of the training period is\n",
    "$$\n",
    "w(T) - w_0 = (w_\\infty - w_0)(1 - e^{-t/\\tau}) \\Rightarrow 1 - e^{-t/\\tau} = q,\n",
    "$$\n",
    "where $q$ is the fraction of the total change in $w$ learned (and hence the fraction of the ideal gain change learned). Given a value of $q$, the ideal value of the $k_\\text{LTD}$ to acheive it in the linear regime is then\n",
    "$$\n",
    "k_\\text{LTD} = \\frac{-\\log(1-q)}{T k_\\text{PF}^2 \\sigma_H^2 \\beta_\\text{rs} k_E w_\\text{PC}}.\n",
    "$$"
   ]
  },
  {
   "cell_type": "code",
   "execution_count": 96,
   "metadata": {},
   "outputs": [
    {
     "name": "stdout",
     "output_type": "stream",
     "text": [
      "1.2701109609655659\n"
     ]
    }
   ],
   "source": [
    "# To achieve 75% learning:\n",
    "k_w_fast = -np.log(1-0.75)/(T_learn * params['pf_sensitivity']**2*sigma2*params['beta_rs']*\n",
    "                           params['k_eye']*params['w_pc_mvn'])\n",
    "print(k_w_fast)"
   ]
  },
  {
   "cell_type": "markdown",
   "metadata": {},
   "source": [
    "If the retinal slip is large enough that the learning is saturated, then we have\n",
    "$$\n",
    "\\dot{w} \\approx -k_\\text{LTD}k_\\text{PF}\\langle|\\dot{H}|\\rangle \\approx -k_\\text{LTD}k_\\text{PF}\\cdot\\frac{2}{\\pi}v_p,\n",
    "$$\n",
    "where $v_p$ is the peak velocity of the training stimulus.\n",
    "\n",
    "Then, the fraction learned after training is\n",
    "$$\n",
    "q = \\frac{w(T) - w_0}{w^* - w_0} = \\frac{-k_\\text{LTD}k_\\text{PF}2/\\pi \\cdot v_p}{w^* - w_0},\n",
    "$$\n",
    "which implies that\n",
    "$$\n",
    "k_\\text{LTD} = -\\frac{q(w^* - w_0) + w_0}{k_\\text{PF}\\cdot2/\\pi\\cdot v_p}\n",
    "$$\n",
    "\n",
    "This depends on the particular value of $w^*$ given a target gain value."
   ]
  },
  {
   "cell_type": "code",
   "execution_count": 87,
   "metadata": {},
   "outputs": [],
   "source": [
    "params_onesite = copy.deepcopy(params)"
   ]
  },
  {
   "cell_type": "code",
   "execution_count": 108,
   "metadata": {},
   "outputs": [],
   "source": [
    "params_onesite['k_v'] = k_w_fast*1.75 # since in simulation, learning is a bit less than ideal"
   ]
  },
  {
   "cell_type": "code",
   "execution_count": 109,
   "metadata": {
    "scrolled": true
   },
   "outputs": [
    {
     "data": {
      "text/plain": [
       "2.2226941816897403"
      ]
     },
     "execution_count": 109,
     "metadata": {},
     "output_type": "execute_result"
    }
   ],
   "source": [
    "params_onesite['k_v']"
   ]
  },
  {
   "cell_type": "code",
   "execution_count": 110,
   "metadata": {
    "scrolled": true
   },
   "outputs": [],
   "source": [
    "t_len_total = len(t_learn)+len(t_post)\n",
    "y_fast = np.zeros((len(y_0_init), t_len_total*days))\n",
    "\n",
    "y_0 = y_0_init\n",
    "for d in range(days):\n",
    "    sol_learn = scipy.integrate.solve_ivp(lambda t,y: oneSite(t,y, head_learn, g_des_[d], True, params_onesite), [0, T_learn], y_0, \n",
    "                                      jac=lambda t,y: oneSiteJac(t,y,head_learn, g_des_[d],True,params_onesite), method='Radau', dense_output=True) # , max_step=0.25/3600)\n",
    "    y_learn = sol_learn.sol(t_learn)\n",
    "    \n",
    "    sol_recov = scipy.integrate.solve_ivp(lambda t,y: oneSite(t,y, head_post_input, g_des_[d], False, params_onesite), [T_learn, T_post],\n",
    "                                          y_learn[:,-1], \n",
    "                                          jac=lambda t,y: oneSiteJac(t,y,head_post_input, g_des_[d],False,params_onesite), method='Radau', dense_output=True) #,  max_step=0.25/3600)\n",
    "    y_recov = sol_recov.sol(t_post)\n",
    "    y_0 = y_recov[:,-1]\n",
    "    y_fast[:,t_len_total*d:t_len_total*(d+1)] = np.hstack((y_learn, y_recov))"
   ]
  },
  {
   "cell_type": "markdown",
   "metadata": {},
   "source": [
    "### Slow learning at $w$"
   ]
  },
  {
   "cell_type": "code",
   "execution_count": 83,
   "metadata": {},
   "outputs": [],
   "source": [
    "params_onesite_slow = copy.deepcopy(params)"
   ]
  },
  {
   "cell_type": "code",
   "execution_count": 116,
   "metadata": {},
   "outputs": [
    {
     "name": "stdout",
     "output_type": "stream",
     "text": [
      "0.09653039754261555\n"
     ]
    }
   ],
   "source": [
    "# To achieve 10% learning:\n",
    "k_w_slow = -np.log(1-0.1)/(T_learn * params['pf_sensitivity']**2*sigma2*params['beta_rs']*\n",
    "                           params['k_eye']*params['w_pc_mvn'])\n",
    "print(k_w_slow)"
   ]
  },
  {
   "cell_type": "code",
   "execution_count": 123,
   "metadata": {},
   "outputs": [],
   "source": [
    "params_onesite_slow['k_v'] = k_w_slow*2\n",
    "params_onesite_slow['tau_mvn'] = 5/60"
   ]
  },
  {
   "cell_type": "code",
   "execution_count": 118,
   "metadata": {},
   "outputs": [
    {
     "data": {
      "text/plain": [
       "0.09653039754261555"
      ]
     },
     "execution_count": 118,
     "metadata": {},
     "output_type": "execute_result"
    }
   ],
   "source": [
    "params_onesite_slow['k_v']"
   ]
  },
  {
   "cell_type": "code",
   "execution_count": 124,
   "metadata": {},
   "outputs": [],
   "source": [
    "y_slow = np.zeros((len(y_0_init), t_len_total*days))\n",
    "\n",
    "y_0 = y_0_init\n",
    "for d in range(days):\n",
    "    sol_learn = scipy.integrate.solve_ivp(lambda t,y: oneSite(t,y, head_learn, g_des_[d], True, params_onesite_slow), [0, T_learn], y_0, \n",
    "                                      jac=lambda t,y: oneSiteJac(t,y,head_learn, g_des_[d],True,params_onesite_slow), method='Radau', dense_output=True)\n",
    "    y_learn = sol_learn.sol(t_learn)\n",
    "    \n",
    "    sol_recov = scipy.integrate.solve_ivp(lambda t,y: oneSite(t,y, head_post_input, g_des_[d], False, params_onesite_slow), [T_learn, T_post],\n",
    "                                          y_learn[:,-1], \n",
    "                                          jac=lambda t,y: oneSiteJac(t,y,head_post_input, g_des_[d],False,params_onesite_slow), method='Radau', dense_output=True)\n",
    "    y_recov = sol_recov.sol(t_post)\n",
    "    y_0 = y_recov[:,-1]\n",
    "    y_slow[:,t_len_total*d:t_len_total*(d+1)] = np.hstack((y_learn, y_recov))"
   ]
  },
  {
   "cell_type": "markdown",
   "metadata": {},
   "source": [
    "### Plots (Figure 4A)"
   ]
  },
  {
   "cell_type": "code",
   "execution_count": 125,
   "metadata": {},
   "outputs": [],
   "source": [
    "# v0 = 0.4/(params['k_eye']*params['mf_sensitivity'])\n",
    "g_actual = gain(y_fast[0,:],v_0)\n",
    "g_actual_slow = gain(y_slow[0,:],v_0)"
   ]
  },
  {
   "cell_type": "markdown",
   "metadata": {},
   "source": [
    "Indices to slice `y_fast` and `y_slow` for the two example training steps:"
   ]
  },
  {
   "cell_type": "code",
   "execution_count": 128,
   "metadata": {},
   "outputs": [],
   "source": [
    "ind_train = np.arange(0,len(t_learn),dtype=int) # just the time of learning\n",
    "ind_train_extended = np.arange(-5,len(t_learn)+15,dtype=int) # with some padding"
   ]
  },
  {
   "cell_type": "markdown",
   "metadata": {},
   "source": [
    "Amount of learning achieved (to adjust choice of $k_v$):"
   ]
  },
  {
   "cell_type": "code",
   "execution_count": 126,
   "metadata": {
    "scrolled": true
   },
   "outputs": [
    {
     "data": {
      "text/plain": [
       "9.496899247517785"
      ]
     },
     "execution_count": 126,
     "metadata": {},
     "output_type": "execute_result"
    }
   ],
   "source": [
    "# Actual learning -- ideal = 10% \n",
    "((g_actual_slow[int(2*t_len_total)-1] - g_actual_slow[ind_train[0] + int(t_len_total)])/\n",
    " (g_des_[1] - g_actual_slow[ind_train[0] + int(t_len_total)]))*100"
   ]
  },
  {
   "cell_type": "code",
   "execution_count": 127,
   "metadata": {},
   "outputs": [
    {
     "data": {
      "text/plain": [
       "11.723010309442945"
      ]
     },
     "execution_count": 127,
     "metadata": {},
     "output_type": "execute_result"
    }
   ],
   "source": [
    "# Actual learning -- ideal = 10% \n",
    "((g_actual_slow[-1] - g_actual_slow[ind_train[0] + 2*int(t_len_total)])/\n",
    " (g_des_[2] - g_actual_slow[ind_train[0] + 2*int(t_len_total)]))*100"
   ]
  },
  {
   "cell_type": "code",
   "execution_count": 114,
   "metadata": {
    "scrolled": true
   },
   "outputs": [
    {
     "data": {
      "text/plain": [
       "76.103789708312"
      ]
     },
     "execution_count": 114,
     "metadata": {},
     "output_type": "execute_result"
    }
   ],
   "source": [
    "# Ideal = 80%\n",
    "# 1st step\n",
    "((g_actual[int(2*t_len_total)-1] - g_actual[ind_train[0] + int(t_len_total)])/\n",
    " (g_des_[1] - g_actual[ind_train[0] + int(t_len_total)]))*100"
   ]
  },
  {
   "cell_type": "code",
   "execution_count": 115,
   "metadata": {},
   "outputs": [
    {
     "data": {
      "text/plain": [
       "74.64856514669357"
      ]
     },
     "execution_count": 115,
     "metadata": {},
     "output_type": "execute_result"
    }
   ],
   "source": [
    "# Ideal = 80%\n",
    "# 2nd step\n",
    "((g_actual[-1] - g_actual[ind_train[0] + int(2*t_len_total)])/\n",
    " (g_des_[2] - g_actual[ind_train[0] + int(2*t_len_total)]))*100"
   ]
  },
  {
   "cell_type": "code",
   "execution_count": 130,
   "metadata": {},
   "outputs": [],
   "source": [
    "# gain_train_t2 = np.array([0,0, len(t_learn), len(t_learn)])\n",
    "gain_train_t = np.array([0, len(t_learn)])"
   ]
  },
  {
   "cell_type": "code",
   "execution_count": 184,
   "metadata": {
    "scrolled": true
   },
   "outputs": [
    {
     "data": {
      "image/png": "[encoded data removed]",
      "text/plain": [
       "<Figure size 157.48x59.0551 with 2 Axes>"
      ]
     },
     "metadata": {},
     "output_type": "display_data"
    }
   ],
   "source": [
    "plt.figure(figsize=(4/2.54,1.5/2.54))\n",
    "\n",
    "ax = plt.subplot(1,2,1)\n",
    "plt.plot(t_total[ind_train_extended + int(t_len_total)], g_actual[ind_train_extended+int(t_len_total)],c=(0.5,)*3,lw=1)\n",
    "plt.plot(t_total[ind_train_extended + int(t_len_total)], g_actual_slow[ind_train_extended+int(t_len_total)],c='k',lw=1)\n",
    "plt.plot([t_total[ind_train_extended[0]+int(t_len_total)], t_total[ind_train_extended[-1]+int(t_len_total)]], [g_des_[1]]*2,'k--',lw=0.75)\n",
    "\n",
    "plt.plot(t_total[gain_train_t+int(t_len_total)], [0.52,]*2,c='C1',clip_on=False)\n",
    "plt.ylim([0.3, 0.5])\n",
    "plt.xlim([t_total[ind_train_extended[0] + int(t_len_total)], t_total[ind_train_extended[-1] + int(t_len_total)]])\n",
    "\n",
    "plt.axis('off')\n",
    "\n",
    "ax = plt.subplot(1,2,2)\n",
    "plt.plot(t_total[ind_train_extended + int(2*t_len_total)], g_actual[ind_train_extended+int(2*t_len_total)],c=(0.5,)*3,lw=1)\n",
    "plt.plot(t_total[ind_train_extended + int(2*t_len_total)], g_actual_slow[ind_train_extended+int(2*t_len_total)],c='k',lw=1)\n",
    "\n",
    "plt.plot([t_total[ind_train_extended[0]+int(2*t_len_total)], t_total[ind_train_extended[-1]+int(2*t_len_total)]], [g_des_[2]]*2,'k--',lw=0.75)\n",
    "plt.plot(t_total[gain_train_t+2*int(t_len_total)], [0.52,]*2,c='C1',clip_on=False)\n",
    "\n",
    "plt.ylim([0.3, 0.5])\n",
    "plt.xlim([t_total[ind_train_extended[0] + int(2*t_len_total)], t_total[ind_train_extended[-1] + int(2*t_len_total)]])\n",
    "\n",
    "plt.axis('off')\n",
    "plt.savefig('figures/figure 4/one-site-gain-example-new-model.pdf')"
   ]
  },
  {
   "cell_type": "code",
   "execution_count": 133,
   "metadata": {},
   "outputs": [],
   "source": [
    "green_l = make_rgb_transparent(matplotlib.colors.to_rgb('C2'), [1,1,1],0.5)"
   ]
  },
  {
   "cell_type": "code",
   "execution_count": 134,
   "metadata": {},
   "outputs": [],
   "source": [
    "gain_var = 0.1**2"
   ]
  },
  {
   "cell_type": "code",
   "execution_count": 179,
   "metadata": {},
   "outputs": [
    {
     "data": {
      "image/png": "[encoded data removed]",
      "text/plain": [
       "<Figure size 157.48x59.0551 with 2 Axes>"
      ]
     },
     "metadata": {},
     "output_type": "display_data"
    }
   ],
   "source": [
    "plt.figure(figsize=(4/2.54,1.5/2.54))\n",
    "\n",
    "ax = plt.subplot(1,2,1)\n",
    "\n",
    "plt.plot(t_total[ind_train + int(t_len_total)], (g_des_[1] - g_actual[ind_train+int(t_len_total)])**2/gain_var,c=green_l,lw=1)\n",
    "plt.plot(t_total[ind_train + int(t_len_total)], (g_des_[1] - g_actual_slow[ind_train+int(t_len_total)])**2/gain_var,c='C2',lw=1)\n",
    "\n",
    "\n",
    "\n",
    "# plt.ylim([-0.1, 1.])\n",
    "plt.ylim([0,1])\n",
    "\n",
    "plt.xlim([t_total[ind_train_extended[0] + int(t_len_total)], t_total[ind_train_extended[-1] + int(t_len_total)]])\n",
    "ax.spines['top'].set_visible(False)\n",
    "ax.spines['right'].set_visible(False)\n",
    "\n",
    "\n",
    "ax = plt.subplot(1,2,2)\n",
    "\n",
    "plt.plot(t_total[ind_train + int(2*t_len_total)], (g_des_[2] - g_actual[ind_train+int(2*t_len_total)])**2/gain_var,c=green_l,lw=1)\n",
    "plt.plot(t_total[ind_train + int(2*t_len_total)], (g_des_[2] - g_actual_slow[ind_train+int(2*t_len_total)])**2/gain_var,c='C2',lw=1)\n",
    "\n",
    "# plt.ylim([-0.1, 1.])\n",
    "plt.ylim([0,1])\n",
    "\n",
    "plt.xlim([t_total[ind_train_extended[0] + int(2*t_len_total)], t_total[ind_train_extended[-1] + int(2*t_len_total)]])\n",
    "\n",
    "ax.yaxis.set_visible(False)\n",
    "ax.spines['left'].set_visible(False)\n",
    "ax.spines['top'].set_visible(False)\n",
    "ax.spines['right'].set_visible(False)"
   ]
  },
  {
   "cell_type": "markdown",
   "metadata": {},
   "source": [
    "## Two-site model example\n",
    "\n",
    "(Using the same model as in Figure 2)"
   ]
  },
  {
   "cell_type": "code",
   "execution_count": 166,
   "metadata": {},
   "outputs": [],
   "source": [
    "# Function to pass to ODE solver\n",
    "def heterosynapticOnline(t, y, head, target_gain, learn, params):\n",
    "    '''\n",
    "    head: a function taking a time argument that returns the head velocity\n",
    "    retinal_slip: a function taking a time argument that returns the retinal slip velocity\n",
    "    learn: set to True if in the training period, False if in the post-training period\n",
    "    params: list containing the physiological parameters\n",
    "    \n",
    "    '''\n",
    "    w = y[0]\n",
    "    v = y[1]\n",
    "    \n",
    "    g = params['k_eye']*(params['mf_sensitivity']*v - \n",
    "                         params['pf_sensitivity']*params['w_pc_mvn']*(w-params['w_i']))\n",
    "    retinal_slip = -(target_gain - g)*head(t)\n",
    "    \n",
    "    delta_mf = params['mf_sensitivity']*head(t)\n",
    "    delta_pf = params['pf_sensitivity']*head(t)\n",
    "    delta_cf = np.tanh(-params['beta_rs']*retinal_slip)*learn\n",
    "    \n",
    "    # two time constants for learning and post-training, as in Yamazaki et al. 2015\n",
    "    if learn:\n",
    "        tau_w = params['tau_learn']\n",
    "    else:\n",
    "        tau_w = params['tau_post']\n",
    "    mf = params['mf_0'] + delta_mf\n",
    "    pf = params['pf_0'] + delta_pf\n",
    "    cf = params['cf_0'] + delta_cf\n",
    "\n",
    "    \n",
    "    delta_pc = (w - params['w_i'])*pf\n",
    "    \n",
    "    dydt = np.zeros(5)\n",
    "    dydt[0] = 1/tau_w * (-y[0] + params['k_LTP']*y[3] - params['k_LTD']*y[4])\n",
    "    dydt[1] = params['k_v']*(-y[2])\n",
    "    dydt[2] = 1/params['tau_mvn'] * (-y[2] + mf*delta_pc)\n",
    "    dydt[3] = 1/params['tau_f'] * (-y[3] + pf)\n",
    "    dydt[4] = 1/params['tau_f'] * (-y[4] + pf*cf)\n",
    "    \n",
    "    return dydt\n",
    "\n",
    "# Jacobian \n",
    "def heteroOnlineJac(t, y, head, target_gain, learn, params):\n",
    "    w = y[0]\n",
    "    v = y[1]\n",
    "    \n",
    "    g = params['k_eye']*(params['mf_sensitivity']*v - \n",
    "                         params['pf_sensitivity']*params['w_pc_mvn']*(w-params['w_i']))\n",
    "    retinal_slip = -(target_gain - g)*head(t)\n",
    "    \n",
    "    delta_mf = params['mf_sensitivity']*head(t)\n",
    "    delta_pf = params['pf_sensitivity']*head(t)\n",
    "    delta_cf = np.tanh(-params['beta_rs']*retinal_slip)*learn\n",
    "    \n",
    "    if learn:\n",
    "        tau_w = params['tau_learn']\n",
    "    else:\n",
    "        tau_w = params['tau_post']\n",
    "    mf = params['mf_0'] + delta_mf\n",
    "    pf = params['pf_0'] + delta_pf\n",
    "    \n",
    "    dgdw = -params['k_eye']*params['w_pc_mvn']*params['pf_sensitivity']\n",
    "    dgdv = params['k_eye']*params['mf_sensitivity']\n",
    "    \n",
    "    jac = -1/params['tau_f']*np.eye(5)\n",
    "    jac[0,:] = 1/tau_w*np.array([-1, 0, 0, params['k_LTP'], -params['k_LTD']]) \n",
    "    jac[1,:] = params['k_v']*np.array([0, -1, 0, 0, 0])\n",
    "    jac[2,:] = 1/params['tau_mvn']*np.array([-mf, 0, -1, 0, 0])\n",
    "    jac[4,:2] = -pf*(1-delta_cf**2)*params['beta_rs']*head(t)/params['tau_f']*np.array([dgdw, dgdv])\n",
    "    return jac"
   ]
  },
  {
   "cell_type": "code",
   "execution_count": 139,
   "metadata": {},
   "outputs": [],
   "source": [
    "params_twosites = copy.deepcopy(params)"
   ]
  },
  {
   "cell_type": "code",
   "execution_count": 208,
   "metadata": {},
   "outputs": [],
   "source": [
    "params_twosites['k_LTD'] = params['k_LTD']*1.75\n",
    "params_twosites['k_LTP'] = params['w_i']/params['pf_0'] + params_twosites['k_LTD']*params['cf_0']"
   ]
  },
  {
   "cell_type": "code",
   "execution_count": 209,
   "metadata": {
    "scrolled": true
   },
   "outputs": [
    {
     "name": "stdout",
     "output_type": "stream",
     "text": [
      "3.896103896103896e-06\n"
     ]
    }
   ],
   "source": [
    "# for ~10% consolidation\n",
    "k_v_approx = 0.1*params['pf_sensitivity']/params['mf_sensitivity']*params['w_pc_mvn']/(\n",
    "                params['tau_post']*(params['mf_0']*params['pf_0']))\n",
    "print(k_v_approx)"
   ]
  },
  {
   "cell_type": "code",
   "execution_count": 210,
   "metadata": {},
   "outputs": [],
   "source": [
    "params_twosites['k_v'] = k_v_approx*0.33"
   ]
  },
  {
   "cell_type": "code",
   "execution_count": 211,
   "metadata": {},
   "outputs": [],
   "source": [
    "y_0_init_twosites = np.array([params['w_i'], v_0, 0, params['pf_0'], params['pf_0']*params['cf_0']])"
   ]
  },
  {
   "cell_type": "code",
   "execution_count": 212,
   "metadata": {},
   "outputs": [],
   "source": [
    "days = 3\n",
    "t_len_total = len(t_learn)+len(t_post)\n",
    "y_twosites = np.zeros((len(y_0_init_twosites), t_len_total*days))\n",
    "\n",
    "\n",
    "y_0 = y_0_init_twosites\n",
    "for d in range(days):\n",
    "    sol_learn = scipy.integrate.solve_ivp(lambda t,y: heterosynapticOnline(t,y, head_learn, g_des_[d], True, params_twosites), [0, T_learn], y_0, \n",
    "                                      jac=lambda t,y: heteroOnlineJac(t,y,head_learn, g_des_[d],True,params_twosites), method='Radau', dense_output=True)\n",
    "    y_learn = sol_learn.sol(t_learn)\n",
    "    \n",
    "    sol_recov = scipy.integrate.solve_ivp(lambda t,y: heterosynapticOnline(t,y, head_post_input, g_des_[d], False, params_twosites), [T_learn, T_post],\n",
    "                                          y_learn[:,-1], \n",
    "                                          jac=lambda t,y: heteroOnlineJac(t,y,head_post_input, g_des_[d],False,params_twosites), method='Radau', dense_output=True, max_step=0.25/3600)\n",
    "    y_recov = sol_recov.sol(t_post)\n",
    "    y_0 = y_recov[:,-1]\n",
    "    y_twosites[:,t_len_total*d:t_len_total*(d+1)] = np.hstack((y_learn, y_recov))"
   ]
  },
  {
   "cell_type": "markdown",
   "metadata": {},
   "source": [
    "### Figure 4D"
   ]
  },
  {
   "cell_type": "code",
   "execution_count": 213,
   "metadata": {},
   "outputs": [],
   "source": [
    "g_twosites = gain(y_twosites[0,:],y_twosites[1,:])"
   ]
  },
  {
   "cell_type": "markdown",
   "metadata": {},
   "source": [
    "Amount learned during training period:"
   ]
  },
  {
   "cell_type": "code",
   "execution_count": 214,
   "metadata": {
    "scrolled": true
   },
   "outputs": [
    {
     "data": {
      "text/plain": [
       "70.24393290312865"
      ]
     },
     "execution_count": 214,
     "metadata": {},
     "output_type": "execute_result"
    }
   ],
   "source": [
    "# Actual learning -- ideal = 75% \n",
    "((g_twosites[int(t_len_total)+len(t_learn)] - g_twosites[ind_train[0] + int(t_len_total)])/\n",
    " (g_des_[1] - g_twosites[ind_train[0] + int(t_len_total)]))*100"
   ]
  },
  {
   "cell_type": "code",
   "execution_count": 215,
   "metadata": {},
   "outputs": [
    {
     "data": {
      "text/plain": [
       "75.91285934919738"
      ]
     },
     "execution_count": 215,
     "metadata": {},
     "output_type": "execute_result"
    }
   ],
   "source": [
    "# Actual learning -- ideal = 75% \n",
    "((g_twosites[2*int(t_len_total)+len(t_learn)] - g_twosites[ind_train[0] + 2*int(t_len_total)])/\n",
    " (g_des_[2] - g_twosites[ind_train[0] + 2*int(t_len_total)]))*100"
   ]
  },
  {
   "cell_type": "markdown",
   "metadata": {},
   "source": [
    "Amount consolidated post-training:"
   ]
  },
  {
   "cell_type": "code",
   "execution_count": 216,
   "metadata": {},
   "outputs": [
    {
     "data": {
      "text/plain": [
       "13.293164642247019"
      ]
     },
     "execution_count": 216,
     "metadata": {},
     "output_type": "execute_result"
    }
   ],
   "source": [
    "# ideal = 10%\n",
    "((g_twosites[2*int(t_len_total)-1] - g_twosites[ind_train[0] + int(t_len_total)])/\n",
    " (g_twosites[int(t_len_total)+len(t_learn)] - g_twosites[ind_train[0] + int(t_len_total)]))*100"
   ]
  },
  {
   "cell_type": "code",
   "execution_count": 217,
   "metadata": {},
   "outputs": [
    {
     "data": {
      "text/plain": [
       "26.802728964447088"
      ]
     },
     "execution_count": 217,
     "metadata": {},
     "output_type": "execute_result"
    }
   ],
   "source": [
    "# ideal = 10%\n",
    "((g_twosites[-1] - g_twosites[ind_train[0] + 2*int(t_len_total)])/\n",
    " (g_twosites[2*int(t_len_total)+len(t_learn)] - g_twosites[ind_train[0] + 2*int(t_len_total)]))*100"
   ]
  },
  {
   "cell_type": "code",
   "execution_count": 197,
   "metadata": {},
   "outputs": [],
   "source": [
    "ind_train_extended = np.arange(-5,len(t_learn)+15,dtype=int)\n",
    "ind_train = np.arange(0,len(t_learn),dtype=int)"
   ]
  },
  {
   "cell_type": "code",
   "execution_count": 218,
   "metadata": {},
   "outputs": [],
   "source": [
    "gain_train_t2 = np.array([0,0, len(t_learn), len(t_learn)])\n",
    "gain_train_t = np.array([0, len(t_learn)])"
   ]
  },
  {
   "cell_type": "code",
   "execution_count": 221,
   "metadata": {
    "scrolled": true
   },
   "outputs": [
    {
     "data": {
      "image/png": "[encoded data removed]",
      "text/plain": [
       "<Figure size 157.48x59.0551 with 2 Axes>"
      ]
     },
     "metadata": {},
     "output_type": "display_data"
    }
   ],
   "source": [
    "plt.figure(figsize=(4/2.54,1.5/2.54))\n",
    "\n",
    "ax = plt.subplot(1,2,1)\n",
    "plt.plot(t_total[ind_train_extended + int(t_len_total)], g_twosites[ind_train_extended+int(t_len_total)],c='k',lw=1)\n",
    "\n",
    "plt.plot([t_total[ind_train_extended[0]+int(t_len_total)], t_total[ind_train_extended[-1]+int(t_len_total)]], [g_des_[1]]*2,'k--',lw=0.75)\n",
    "\n",
    "plt.plot(t_total[gain_train_t+int(t_len_total)], [0.52,]*2,c='C1',clip_on=False)\n",
    "plt.ylim([0.3, 0.5])\n",
    "plt.xlim([t_total[ind_train_extended[0] + int(t_len_total)], t_total[ind_train_extended[-1] + int(t_len_total)]])\n",
    "\n",
    "\n",
    "plt.axis('off')\n",
    "\n",
    "ax = plt.subplot(1,2,2)\n",
    "plt.plot(t_total[ind_train_extended + int(2*t_len_total)], g_twosites[ind_train_extended+int(2*t_len_total)],c='k', lw=1)\n",
    "\n",
    "plt.plot([t_total[ind_train_extended[0]+int(2*t_len_total)], t_total[ind_train_extended[-1]+int(2*t_len_total)]], [g_des_[2]]*2,'k--',lw=0.75)\n",
    "plt.plot(t_total[gain_train_t+2*int(t_len_total)], [0.52,]*2,c='C1',clip_on=False)\n",
    "plt.ylim([0.3, 0.5])\n",
    "plt.xlim([t_total[ind_train_extended[0] + int(2*t_len_total)], t_total[ind_train_extended[-1] + int(2*t_len_total)]])\n",
    "\n",
    "plt.axis('off')"
   ]
  },
  {
   "cell_type": "code",
   "execution_count": 222,
   "metadata": {},
   "outputs": [
    {
     "data": {
      "image/png": "[encoded data removed]",
      "text/plain": [
       "<Figure size 157.48x59.0551 with 2 Axes>"
      ]
     },
     "metadata": {},
     "output_type": "display_data"
    }
   ],
   "source": [
    "plt.figure(figsize=(4/2.54,1.5/2.54))\n",
    "\n",
    "ax = plt.subplot(1,2,1)\n",
    "plt.plot(t_total[ind_train + int(t_len_total)], (g_des_[1] - g_twosites[ind_train+int(t_len_total)])**2/gain_var,c='C6',lw=1)\n",
    "\n",
    "plt.ylim([0,1])\n",
    "plt.xlim([t_total[ind_train_extended[0] + int(t_len_total)], t_total[ind_train_extended[-1] + int(t_len_total)]])\n",
    "\n",
    "ax.spines['top'].set_visible(False)\n",
    "ax.spines['right'].set_visible(False)\n",
    "\n",
    "ax = plt.subplot(1,2,2)\n",
    "plt.plot(t_total[ind_train + int(2*t_len_total)], (g_des_[2] - g_twosites[ind_train+int(2*t_len_total)])**2/gain_var,c='C6',lw=1)\n",
    "\n",
    "plt.ylim([0,1])\n",
    "plt.xlim([t_total[ind_train_extended[0] + int(2*t_len_total)], t_total[ind_train_extended[-1] + int(2*t_len_total)]])\n",
    "\n",
    "ax.yaxis.set_visible(False)\n",
    "ax.spines['left'].set_visible(False)\n",
    "ax.spines['top'].set_visible(False)\n",
    "ax.spines['right'].set_visible(False)"
   ]
  },
  {
   "cell_type": "markdown",
   "metadata": {},
   "source": [
    "# One site discrete model — stability-plasticity dilemma"
   ]
  },
  {
   "cell_type": "markdown",
   "metadata": {},
   "source": [
    "Generate an example of the gain of a one-site circuit with either fast or slow learning: "
   ]
  },
  {
   "cell_type": "code",
   "execution_count": 12,
   "metadata": {},
   "outputs": [],
   "source": [
    "g_des_mu = 0.4\n",
    "g_des_std = 0.1\n",
    "num_trials= 200\n",
    "\n",
    "## Generate the target gain trajectory\n",
    "# g_des_1site = g_des_std*np.random.randn(num_trials)+g_des_mu\n",
    "# np.save('files/target_gain_1site.npy',g_des_1site)"
   ]
  },
  {
   "cell_type": "code",
   "execution_count": 8,
   "metadata": {},
   "outputs": [],
   "source": [
    "g_des_1site = np.load('files/target_gain_1site.npy')"
   ]
  },
  {
   "cell_type": "code",
   "execution_count": 9,
   "metadata": {},
   "outputs": [],
   "source": [
    "w_discrete_fast = np.zeros(len(g_des_1site)+1)\n",
    "w_discrete_fast[0] = -1/(params['k_eye']*params['pf_sensitivity'])*0.4\n",
    "\n",
    "err_bef_fast = np.zeros(len(g_des_1site)+1) # signed error measured at start of training session\n",
    "err_aft_fast = np.zeros(len(g_des_1site)+1) # signed error measured at end of session\n",
    "\n",
    "q = 0.75 # 75% learning\n",
    "\n",
    "\n",
    "for i in range(1,len(g_des_1site)):\n",
    "    w_des = -1/(params['k_eye']*params['pf_sensitivity'])*g_des_1site[i]\n",
    "    w_discrete_fast[i] = w_discrete_fast[0] + q*(w_des - w_discrete_fast[0])\n",
    "    err_bef_fast[i] = (g_des_1site[i] + params['k_eye']*params['pf_sensitivity']*w_discrete_fast[i-1])\n",
    "    err_aft_fast[i] = (g_des_1site[i] + params['k_eye']*params['pf_sensitivity']*w_discrete_fast[i])"
   ]
  },
  {
   "cell_type": "code",
   "execution_count": 10,
   "metadata": {},
   "outputs": [],
   "source": [
    "w_discrete_slow = np.zeros(len(g_des_1site)+1)\n",
    "w_discrete_slow[0] = -1/(params['k_eye']*params['pf_sensitivity'])*0.4\n",
    "\n",
    "err_bef_slow = np.zeros(len(g_des_1site)+1)\n",
    "err_aft_slow = np.zeros(len(g_des_1site)+1)\n",
    "\n",
    "q = 0.1 # 10% learning\n",
    "\n",
    "for i in range(1,len(g_des_1site)):\n",
    "    w_des = -1/(params['k_eye']*params['pf_sensitivity'])*g_des_1site[i]\n",
    "    w_discrete_slow[i] = w_discrete_slow[0] + q*(w_des - w_discrete_slow[0])\n",
    "    err_bef_slow[i] = (g_des_1site[i] + params['k_eye']*params['pf_sensitivity']*w_discrete_slow[i-1])\n",
    "    err_aft_slow[i] = (g_des_1site[i] + params['k_eye']*params['pf_sensitivity']*w_discrete_slow[i])"
   ]
  },
  {
   "cell_type": "markdown",
   "metadata": {},
   "source": [
    "## Figure 4B"
   ]
  },
  {
   "cell_type": "code",
   "execution_count": 13,
   "metadata": {},
   "outputs": [],
   "source": [
    "trials = np.arange(num_trials)"
   ]
  },
  {
   "cell_type": "code",
   "execution_count": 17,
   "metadata": {},
   "outputs": [
    {
     "data": {
      "text/plain": [
       "(0.0, 0.8)"
      ]
     },
     "execution_count": 17,
     "metadata": {},
     "output_type": "execute_result"
    },
    {
     "data": {
      "image/png": "[encoded data removed]",
      "text/plain": [
       "<Figure size 200x120 with 1 Axes>"
      ]
     },
     "metadata": {},
     "output_type": "display_data"
    }
   ],
   "source": [
    "plt.figure(figsize=(2,1.2))\n",
    "\n",
    "plt.plot(trials,-(params['k_eye']*params['pf_sensitivity'])*w_discrete_fast[:-1],c=(0.5,)*3,markersize=3,lw=1,clip_on=False)\n",
    "plt.plot(trials, -(params['k_eye']*params['pf_sensitivity'])*w_discrete_slow[:-1],c='k',markersize=3,lw=1,clip_on=False)\n",
    "\n",
    "ax = plt.gca()\n",
    "ax.spines['top'].set_visible(False)\n",
    "ax.spines['right'].set_visible(False)\n",
    "plt.xticks([0,100,200],[0,'',200])\n",
    "plt.yticks([0, 0.4, 0.8],[0,'',  0.8])\n",
    "plt.xlim([-5,200])\n",
    "plt.ylim([0,0.8])"
   ]
  },
  {
   "cell_type": "markdown",
   "metadata": {},
   "source": [
    "## Figure 4C – theoretical stability-plasticity tradeoff curve for 1-site model"
   ]
  },
  {
   "cell_type": "markdown",
   "metadata": {},
   "source": [
    "Plotting idealized mean squared error at start of training session vs. after training, according to calculations in the Materials and Methods, _Comparing a one-site and two-site model_."
   ]
  },
  {
   "cell_type": "code",
   "execution_count": 18,
   "metadata": {},
   "outputs": [],
   "source": [
    "err_bef_ideal_1site = lambda q, sigma2: 2/(2-q)*sigma2\n",
    "err_aft_ideal_1site = lambda q, sigma2: (1-q)**2*err_bef_ideal_1site(q, sigma2)"
   ]
  },
  {
   "cell_type": "code",
   "execution_count": 19,
   "metadata": {},
   "outputs": [],
   "source": [
    "q_ideal = np.linspace(0, 1,50)[1:-1]"
   ]
  },
  {
   "cell_type": "code",
   "execution_count": 23,
   "metadata": {},
   "outputs": [],
   "source": [
    "green_l = make_rgb_transparent(matplotlib.colors.to_rgb('C2'), [1,1,1],0.5)"
   ]
  },
  {
   "cell_type": "code",
   "execution_count": 44,
   "metadata": {},
   "outputs": [
    {
     "data": {
      "image/png": "[encoded data removed]",
      "text/plain": [
       "<Figure size 150x100 with 1 Axes>"
      ]
     },
     "metadata": {},
     "output_type": "display_data"
    }
   ],
   "source": [
    "plt.figure(figsize=(1.5,1))\n",
    "plt.plot([1,1],[-0.1,1],'k--',lw=1)\n",
    "plt.plot(err_bef_ideal_1site(q_ideal, g_des_std**2)/g_des_std**2, err_aft_ideal_1site(q_ideal, g_des_std**2)/g_des_std**2,clip_on=False,c='k',lw=1)\n",
    "\n",
    "plt.plot(err_bef_ideal_1site(0.1, g_des_std**2)/g_des_std**2, err_aft_ideal_1site(0.1, g_des_std**2)/g_des_std**2, 'o',ms=5, markeredgecolor='C2', markerfacecolor='w')\n",
    "plt.plot(err_bef_ideal_1site(0.75, g_des_std**2)/g_des_std**2, err_aft_ideal_1site(0.75, g_des_std**2)/g_des_std**2, 'o', ms=5,markeredgecolor=green_l, markerfacecolor='w')\n",
    "\n",
    "ax = plt.gca()\n",
    "ax.spines['top'].set_visible(False)\n",
    "ax.spines['right'].set_visible(False)\n",
    "\n",
    "plt.ylim([-0.1,1])\n",
    "plt.xlim([0.9,2])\n",
    "\n",
    "plt.xticks(np.linspace(1, 2,3), [1, '',2 ])\n",
    "plt.yticks([0,0.5,1],[0,'',1])"
   ]
  },
  {
   "cell_type": "markdown",
   "metadata": {},
   "source": [
    "# Two-site discrete model"
   ]
  },
  {
   "cell_type": "code",
   "execution_count": 26,
   "metadata": {},
   "outputs": [],
   "source": [
    "g_des_mu_1 = 0.4\n",
    "g_des_mu_2 = 2\n",
    "g_des_std = 0.1\n",
    "num_trials_1 = 50\n",
    "num_trials_2 = 150\n",
    "\n",
    "## Generate the target gain trajectory\n",
    "# g_des_1 =g_des_std*np.random.randn(num_trials_1)+g_des_mu_1\n",
    "# g_des_2 = g_des_std*np.random.randn(num_trials_2)+g_des_mu_2\n",
    "\n",
    "# g_des_full = np.concatenate((g_des_1,g_des_2))\n",
    "\n",
    "# np.save('files/target_gain_2sites.npy',g_des_full)"
   ]
  },
  {
   "cell_type": "code",
   "execution_count": 27,
   "metadata": {},
   "outputs": [],
   "source": [
    "g_des_full = np.load('files/target_gain_2sites.npy')"
   ]
  },
  {
   "cell_type": "code",
   "execution_count": 28,
   "metadata": {},
   "outputs": [],
   "source": [
    "v_discrete_fast = np.zeros(len(g_des_full)+1)\n",
    "v_discrete_fast[0] = v_0\n",
    "w_discrete_2_fast = np.zeros(len(g_des_full)+1)\n",
    "\n",
    "p = 0.75*params['w_pc_mvn']*params['pf_sensitivity']/params['mf_sensitivity'] # 75% consolidation\n",
    "\n",
    "for i in range(len(g_des_full)):\n",
    "    w_discrete_2_fast[i] = -1/(params['pf_sensitivity']*params['w_pc_mvn']*params['k_eye'])*(g_des_full[i] - \n",
    "                      params['k_eye']*params['mf_sensitivity']*v_discrete_fast[i]) + params['w_i']\n",
    "    v_discrete_fast[i+1] = v_discrete_fast[i] - p*(w_discrete_2_fast[i]-params['w_i'])"
   ]
  },
  {
   "cell_type": "code",
   "execution_count": 29,
   "metadata": {},
   "outputs": [],
   "source": [
    "v_discrete_slow = np.zeros(len(g_des_full)+1)\n",
    "v_discrete_slow[0] = v_0\n",
    "w_discrete_2_slow = np.zeros(len(g_des_full)+1)\n",
    "\n",
    "p = 0.1*params['w_pc_mvn']*params['pf_sensitivity']/params['mf_sensitivity'] # 10% consolidation\n",
    "\n",
    "for i in range(len(g_des_full)):\n",
    "    w_discrete_2_slow[i] = -1/(params['pf_sensitivity']*params['w_pc_mvn']*params['k_eye'])*(g_des_full[i] - \n",
    "                      params['k_eye']*params['mf_sensitivity']*v_discrete_slow[i]) + params['w_i']\n",
    "    v_discrete_slow[i+1] = v_discrete_slow[i] - p*(w_discrete_2_slow[i]-params['w_i'])"
   ]
  },
  {
   "cell_type": "markdown",
   "metadata": {},
   "source": [
    "## Figure 4F"
   ]
  },
  {
   "cell_type": "markdown",
   "metadata": {},
   "source": [
    "Plot example gain of circuit after consolidation with either fast or slow rate of learning at the late-learning site in response to a random target gain signal, showing a change in the mean of the target gain."
   ]
  },
  {
   "cell_type": "code",
   "execution_count": 30,
   "metadata": {},
   "outputs": [],
   "source": [
    "trials = np.arange(num_trials_1+num_trials_2)"
   ]
  },
  {
   "cell_type": "code",
   "execution_count": 32,
   "metadata": {},
   "outputs": [
    {
     "data": {
      "image/png": "[encoded data removed]",
      "text/plain": [
       "<Figure size 150x100 with 1 Axes>"
      ]
     },
     "metadata": {},
     "output_type": "display_data"
    }
   ],
   "source": [
    "plt.figure(figsize=(1.5,1))\n",
    "plt.plot([num_trials_1,]*2, [0, 2.5],'k--', lw=0.75)\n",
    "plt.plot(trials, gain(params['w_i'],v_discrete_fast)[:-1],clip_on=False, c='C9',lw=1.5)\n",
    "plt.plot(trials, gain(params['w_i'],v_discrete_slow)[:-1],clip_on=False,c='C6',lw=1.5)\n",
    "\n",
    "\n",
    "ax = plt.gca()\n",
    "ax.spines['top'].set_visible(False)\n",
    "ax.spines['right'].set_visible(False)\n",
    "\n",
    "plt.xlim([0, 200])\n",
    "plt.ylim([0., 2.5])\n",
    "plt.xticks([0,100,200],[0,'',200])\n",
    "plt.yticks([0., 1.25, 2.5], [0,'',2.5])"
   ]
  },
  {
   "cell_type": "markdown",
   "metadata": {},
   "source": [
    "## Figure 4E – comparing the 1-site and 2-site models"
   ]
  },
  {
   "cell_type": "code",
   "execution_count": 34,
   "metadata": {},
   "outputs": [],
   "source": [
    "err_bef_ideal_2site = lambda p,q, sigma2: 2/(2 - p*q)*sigma2\n",
    "err_aft_ideal_2site = lambda p,q, sigma2: (1-q)**2*err_bef_2site(p,q,sigma2)"
   ]
  },
  {
   "cell_type": "code",
   "execution_count": 45,
   "metadata": {},
   "outputs": [
    {
     "data": {
      "image/png": "[encoded data removed]",
      "text/plain": [
       "<Figure size 150x100 with 1 Axes>"
      ]
     },
     "metadata": {},
     "output_type": "display_data"
    }
   ],
   "source": [
    "plt.figure(figsize=(1.5,1))\n",
    "plt.plot([1,1],[-0.1,1],'k--',lw=1)\n",
    "# Replot 1-site curve\n",
    "plt.plot(err_bef_ideal_1site(q_ideal, g_des_std**2)/g_des_std**2, err_aft_ideal_1site(q_ideal, g_des_std**2)/g_des_std**2,\n",
    "         clip_on=False,c=(0.4,)*3,lw=1)\n",
    "\n",
    "# Plot 10% consolidation curve\n",
    "plt.plot(err_bef_ideal_2site(0.1, q_ideal, g_des_std**2)/g_des_std**2, err_aft_ideal_2site(0.1, q_ideal, g_des_std**2)/g_des_std**2,\n",
    "         clip_on=False,c='C6',lw=1)\n",
    "\n",
    "# Plot 75% consolidation curve\n",
    "plt.plot(err_bef_ideal_2site(0.75, q_ideal, g_des_std**2)/g_des_std**2, err_aft_ideal_2site(0.75, q_ideal, g_des_std**2)/g_des_std**2,\n",
    "         clip_on=False,c='C9',lw=1)\n",
    "\n",
    "ax = plt.gca()\n",
    "ax.spines['top'].set_visible(False)\n",
    "ax.spines['right'].set_visible(False)\n",
    "\n",
    "plt.ylim([-0.1,1])\n",
    "plt.xlim([0.9,2])\n",
    "\n",
    "plt.xticks(np.linspace(1, 2,3), [1, '',2 ])\n",
    "plt.yticks([0,0.5,1],[0,'',1])"
   ]
  }
 ],
 "metadata": {
  "kernelspec": {
   "display_name": "Python 3 (ipykernel)",
   "language": "python",
   "name": "python3"
  },
  "language_info": {
   "codemirror_mode": {
    "name": "ipython",
    "version": 3
   },
   "file_extension": ".py",
   "mimetype": "text/x-python",
   "name": "python",
   "nbconvert_exporter": "python",
   "pygments_lexer": "ipython3",
   "version": "3.10.9"
  }
 },
 "nbformat": 4,
 "nbformat_minor": 4
}
