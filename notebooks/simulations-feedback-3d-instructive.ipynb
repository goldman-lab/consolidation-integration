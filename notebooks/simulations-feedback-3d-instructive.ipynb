{
 "cells": [
  {
   "cell_type": "code",
   "execution_count": 1,
   "id": "8992da61",
   "metadata": {},
   "outputs": [],
   "source": [
    "import numpy as np\n",
    "import matplotlib\n",
    "\n",
    "# Embed fonts into PDF/PS files\n",
    "matplotlib.rcParams['pdf.fonttype'] = 42\n",
    "matplotlib.rcParams['ps.fonttype'] = 42\n",
    "\n",
    "import matplotlib.pyplot as plt\n",
    "%matplotlib inline\n",
    "\n",
    "import matplotlib.colors\n",
    "\n",
    "import scipy.integrate\n",
    "import scipy.optimize\n",
    "\n",
    "# Make deep copies\n",
    "import copy\n",
    "\n",
    "# For 3d plotting\n",
    "from mpl_toolkits.mplot3d import Axes3D"
   ]
  },
  {
   "cell_type": "code",
   "execution_count": 2,
   "id": "bcbe6b5a",
   "metadata": {},
   "outputs": [],
   "source": [
    "matplotlib.rcParams.update({'font.size': 7, 'axes.linewidth': 0.5, 'xtick.major.width': 0.5, 'xtick.minor.width': 0.5, \n",
    "                            'ytick.major.width': 0.5,'ytick.minor.width': 0.5, 'xtick.major.pad':2,'ytick.major.pad':2})\n",
    "matplotlib.rcParams.update({'font.family':'sans-serif','font.sans-serif':['Arial']})"
   ]
  },
  {
   "cell_type": "code",
   "execution_count": 3,
   "id": "73a43c4a",
   "metadata": {},
   "outputs": [],
   "source": [
    "def make_rgb_transparent(rgb, bg_rgb, alpha):\n",
    "    return [alpha * c1 + (1 - alpha) * c2\n",
    "            for (c1, c2) in zip(rgb, bg_rgb)]"
   ]
  },
  {
   "cell_type": "markdown",
   "id": "6b0f678a",
   "metadata": {},
   "source": [
    "# Define parameters"
   ]
  },
  {
   "cell_type": "code",
   "execution_count": 4,
   "id": "6ef314ea",
   "metadata": {},
   "outputs": [],
   "source": [
    "## Physiological parameters\n",
    "\n",
    "# mvn head sensitvity in the light: 0.38 sp/s / deg/s for ~0.85 gain -- Beraneck & Cullen 2007\n",
    "# => k_eye ~= 2.2\n",
    "\n",
    "# Eye movement response to optogenetic stimulation (Payne et al. 2019)\n",
    "# ~0.1 deg/s / sp/s = k_eye * w_PC => w_PC ~= 0.05\n",
    "\n",
    "# memory retention ~75% after 24 hr calculated from Boyden & Raymond 2003\n",
    "\n",
    "params = {\n",
    "    'mf_0': 55, # Lasker et al. 2008\n",
    "    'pf_0': 14, # Arenz et al. 2008 -- assume each MF EPSC evokes a GC spike\n",
    "    'cf_0': 1,\n",
    "    'mf_sensitivity': 0.14, # Lasker et al. 2008\n",
    "    'k_pf_h': 0.42, # Arenz et al. 2008 (See above)\n",
    "    'k_pf_e': 0.42,\n",
    "    'w_inh_h': 5, # match feedforward model\n",
    "    'w_pc_mvn': 0.05, # Payne et al. 2019\n",
    "    'k_eye': 2.2,\n",
    "    'k_v': 4.1e-3, # 0.01 # to get 75% retention\n",
    "    'tau_f': 0.017, # fast average\n",
    "    'tau_mvn': 0.7, # 0.7 # tau_f,v: average of activity being integrated at MVN\n",
    "    'k_LTD_h': 0.725, # 1.75\n",
    "    'k_LTD_e': 0.725,\n",
    "    'beta_rs': 1, # to match the sensitivity measured in Guo et al. 2014\n",
    "    'beta_homeo':0.0125,\n",
    "    'w_inh_e': 2,\n",
    "}\n",
    "\n",
    "# for eye sensitivity of 2.7 sp/s/(deg/s), Katoh et al. 2015, given PF sensitivity above\n",
    "params['w_eye'] = params['w_inh_e'] + 2.7/params['k_pf_h']\n",
    "params['k_LTP_h'] = params['k_LTD_h']*params['cf_0']\n",
    "params['k_LTP_e'] = params['k_LTD_e']*params['cf_0']\n",
    "\n",
    "## Behavioral parameters\n",
    "\n",
    "# Kimpo et al. 2014, Nguyen-Vu et al. 2013, Boyden & Raymond 2003\n",
    "stim_freq = 1 \n",
    "peak_velocity_learn = 15 # deg/s\n",
    "peak_velocity_post = 15\n",
    "\n",
    "# Define function for head velocity\n",
    "head_learn = lambda t: peak_velocity_learn*np.sin(2*np.pi*stim_freq*3600*t)\n",
    "head_post_input = lambda t: peak_velocity_post*np.sin(2*np.pi*stim_freq*3600*t) # w/post-training input"
   ]
  },
  {
   "cell_type": "code",
   "execution_count": 13,
   "id": "abe98308",
   "metadata": {},
   "outputs": [],
   "source": [
    "gain = lambda w_h, w_e, v: params['k_eye']*((params['mf_sensitivity']*v - \n",
    "                                    params['k_pf_h']*params['w_pc_mvn']*(w_h)) / \n",
    "                                    (1 - params['w_pc_mvn']*params['k_pf_e']*params['k_eye']*(w_e)))"
   ]
  },
  {
   "cell_type": "code",
   "execution_count": 21,
   "id": "5cc80151",
   "metadata": {},
   "outputs": [],
   "source": [
    "# initial gain ~- 0.4 in mice (Katoh et al. 2015, Boyden & Raymond 2003)\n",
    "g_init = 0.4\n",
    "\n",
    "# Given the measured value of PC sensitivity to eye velocity, calculate value of w_H\n",
    "# needed for synaptic weights to be at steady state pre-training as a function of initial gain\n",
    "w_e_tilde = params['k_pf_e']*(params['w_eye']-params['w_inh_e'])\n",
    "w_h_0_ = lambda g_init: g_init * w_e_tilde/params['k_pf_h']\n",
    "\n",
    "# Calculate corresponding value of v\n",
    "v_0_ = lambda w_h_0: w_h_0*params['k_pf_h']/(params['k_eye']*w_e_tilde*params['mf_sensitivity'])\n",
    "# v_0_ = lambda g_init: g_init/(params['k_eye']*params['mf_sensitivity'])"
   ]
  },
  {
   "cell_type": "code",
   "execution_count": 31,
   "id": "3b81817b",
   "metadata": {
    "scrolled": true
   },
   "outputs": [
    {
     "name": "stdout",
     "output_type": "stream",
     "text": [
      "2.5714285714285716\n"
     ]
    }
   ],
   "source": [
    "# Value of w_H for a starting gain of 0.4\n",
    "w_h_0_init = w_h_0_(g_init)\n",
    "print(w_h_0_init)"
   ]
  },
  {
   "cell_type": "code",
   "execution_count": 32,
   "id": "032cdd88",
   "metadata": {},
   "outputs": [],
   "source": [
    "w_h_0 = 2.5"
   ]
  },
  {
   "cell_type": "markdown",
   "id": "02bcc1b8",
   "metadata": {},
   "source": [
    "For simplicity of plotting, we set the initial value of $w_H$ to 2.5, which leads to an initial value of $v$:"
   ]
  },
  {
   "cell_type": "code",
   "execution_count": 33,
   "id": "682ab49a",
   "metadata": {},
   "outputs": [
    {
     "name": "stdout",
     "output_type": "stream",
     "text": [
      "1.2626262626262623\n"
     ]
    }
   ],
   "source": [
    "v_0 = v_0_(w_h_0)\n",
    "print(v_0)"
   ]
  },
  {
   "cell_type": "markdown",
   "id": "50d6b08a",
   "metadata": {},
   "source": [
    "and starting gain:"
   ]
  },
  {
   "cell_type": "code",
   "execution_count": 34,
   "id": "6082eed6",
   "metadata": {},
   "outputs": [
    {
     "data": {
      "text/plain": [
       "0.38888888888888884"
      ]
     },
     "execution_count": 34,
     "metadata": {},
     "output_type": "execute_result"
    }
   ],
   "source": [
    "gain(w_h_0, params['w_eye']-params['w_inh_e'], v_0)"
   ]
  },
  {
   "cell_type": "code",
   "execution_count": 35,
   "id": "33dbfe24",
   "metadata": {},
   "outputs": [],
   "source": [
    "# Spontaneous firing rate of PCs ~50 sp/s (Katoh et al. 2015) \n",
    "# and MVNs is ~57 sp/s (Nelson et al. 2003)\n",
    "\n",
    "# Calculate PC and MVN offsets so that this is the firing rate at baseline\n",
    "params['pc_0'] = 50 - params['pf_0']*(w_h_0 + params['w_eye']-params['w_inh_e'])\n",
    "params['mvn_0'] = 57 - params['mf_0']*v_0 + params['w_pc_mvn']*50"
   ]
  },
  {
   "cell_type": "code",
   "execution_count": 36,
   "id": "5c5dbe9e",
   "metadata": {},
   "outputs": [
    {
     "data": {
      "text/plain": [
       "(-75.0, -9.944444444444429)"
      ]
     },
     "execution_count": 36,
     "metadata": {},
     "output_type": "execute_result"
    }
   ],
   "source": [
    "params['pc_0'], params['mvn_0']"
   ]
  },
  {
   "cell_type": "markdown",
   "id": "389363bd",
   "metadata": {},
   "source": [
    "# ODE Solver\n",
    "\n",
    "We model the evolution of the state `y`, which has nine components: `y[0]` is $w_H$, `y[1]` is $v$, `y[2]` is $\\langle\\text{MF}(\\text{PC}-\\langle\\text{PC}\\rangle)\\rangle$, `y[3]` is $\\langle\\text{PF}_H\\rangle$, `y[4]` is $\\langle\\text{PF}_H\\cdot\\text{CF}\\rangle$, `y[5]` is $\\langle\\text{PC}\\rangle$, `y[6]` is $w_E$, `y[7]` is $\\langle\\text{PF}_E\\rangle$ and `y[8]` is $\\langle\\text{PF}_E\\cdot\\text{CF}\\rangle$. The evolution is defined according to the \"inhibition of instructive signals reset mechanism\" in SI Appendix, S6."
   ]
  },
  {
   "cell_type": "code",
   "execution_count": 48,
   "id": "fd90a475",
   "metadata": {},
   "outputs": [],
   "source": [
    "# Function to pass to ODE solver\n",
    "def homeostaticCF_Feedback3D(t, y, head, target_gain, learn, params):\n",
    "    '''\n",
    "    head: a function taking a time argument that returns the head velocity\n",
    "    target_gain: scalar value of target input-to-output gain\n",
    "    learn: set to True if in the training period, False if in the post-training period\n",
    "    params: list containing the physiological parameters\n",
    "    \n",
    "    '''\n",
    "    w_h_exc = y[0]\n",
    "    w_e_exc = y[6]\n",
    "    w_h = w_h_exc - params['w_inh_h']\n",
    "    w_e = w_e_exc - params['w_inh_e']\n",
    "    \n",
    "    v = y[1]\n",
    "    theta = y[5]\n",
    "    \n",
    "    current_gain = params['k_eye']*((params['mf_sensitivity']*v - \n",
    "                                    params['k_pf_h']*params['w_pc_mvn']*(w_h)) / \n",
    "                                    (1 - params['w_pc_mvn']*params['k_pf_e']*params['k_eye']*w_e))\n",
    "    eye = -current_gain * head(t)\n",
    "    \n",
    "    delta_mf = params['mf_sensitivity']*head(t)\n",
    "    delta_pf_h = params['k_pf_h']*head(t)\n",
    "    delta_pf_e = params['k_pf_e']*eye\n",
    "    \n",
    "    mf = params['mf_0'] + delta_mf\n",
    "    pf_h = params['pf_0'] + delta_pf_h\n",
    "    pf_e = params['pf_0'] + delta_pf_e\n",
    "    \n",
    "    pc = params['pc_0'] + w_h*pf_h + w_e*pf_e\n",
    "    delta_pc = pc - theta\n",
    "    \n",
    "    rs = -(target_gain - current_gain)*head(t)\n",
    "    delta_cf = np.tanh(-params['beta_rs']*rs*learn + params['beta_homeo']*delta_pc)\n",
    "    cf = params['cf_0'] + delta_cf\n",
    "    \n",
    "    dydt = np.zeros(9)\n",
    "    # w_H, v, <MF(PC-<PC>)>, <PF_H>, <PF_H*CF>, <PC>, w_E, <PF_E>, <PF_E*CF>\n",
    "    dydt[0] = params['k_LTP_h']*y[3]-params['k_LTD_h']*y[4]\n",
    "    dydt[1] = params['k_v']*(-y[2])\n",
    "    dydt[2] = 1/params['tau_mvn'] * (-y[2] + mf*(pc - theta))\n",
    "    dydt[3] = 1/params['tau_f'] * (-y[3] + pf_h)\n",
    "    dydt[4] = 1/params['tau_f'] * (-y[4] + pf_h*cf)\n",
    "    dydt[5] = 1/params['tau_f'] * (-y[5] + pc)\n",
    "    dydt[6] = params['k_LTP_e']*y[7] - params['k_LTD_e']*y[8]\n",
    "    dydt[7] = 1/params['tau_f'] * (-y[7] + pf_e)\n",
    "    dydt[8] = 1/params['tau_f'] * (-y[8] + pf_e*cf)\n",
    "    \n",
    "    return dydt\n",
    "\n",
    "# Jacobian \n",
    "def homeostaticCF_Feedback3D_Jac(t, y, head, target_gain, learn, params):\n",
    "    \n",
    "    w_h_exc = y[0]\n",
    "    w_e_exc = y[6]\n",
    "    w_h = w_h_exc - params['w_inh_h']\n",
    "    w_e = w_e_exc - params['w_inh_e']\n",
    "    \n",
    "    v = y[1]\n",
    "    theta = y[5]\n",
    "    \n",
    "    w_e_ = params['k_eye']*params['k_pf_e']*w_e\n",
    "    d = 1 - params['w_pc_mvn']*w_e_\n",
    "    \n",
    "    current_gain = params['k_eye']*((params['mf_sensitivity']*v - \n",
    "                                    params['k_pf_h']*params['w_pc_mvn']*(w_h)) / d)\n",
    "    eye = -current_gain * head(t)\n",
    "    \n",
    "    \n",
    "    delta_mf = params['mf_sensitivity']*head(t)\n",
    "    delta_pf_h = params['k_pf_h']*head(t)\n",
    "    delta_pf_e = params['k_pf_e']*eye\n",
    "    \n",
    "    \n",
    "    mf = params['mf_0'] + delta_mf\n",
    "    pf_h = params['pf_0'] + delta_pf_h\n",
    "    pf_e = params['pf_0'] + delta_pf_e\n",
    "    \n",
    "    pc = params['pc_0'] + w_h*pf_h + w_e*pf_e\n",
    "    delta_pc = pc - theta\n",
    "    \n",
    "    rs = -(target_gain - current_gain)*head(t)\n",
    "    rs = -(target_gain - current_gain)*head(t)\n",
    "    delta_cf = np.tanh(-params['beta_rs']*rs*learn + params['beta_homeo']*delta_pc)\n",
    "    cf = params['cf_0'] + delta_cf\n",
    "    \n",
    "    \n",
    "    dg_dwh = -params['k_eye']*params['w_pc_mvn']*params['k_pf_h']/d\n",
    "    dg_dv = params['k_eye']*params['mf_sensitivity']/d\n",
    "    dg_dwe = current_gain * params['w_pc_mvn']*params['k_eye']*params['k_pf_e'] / d\n",
    "    \n",
    "    dpc_dwh = params['pf_0'] + params['k_pf_h']/d*head(t)\n",
    "    dpc_dv = - w_e_*params['mf_sensitivity']/d*head(t)\n",
    "    dpc_dwe = params['pf_0'] + params['k_pf_e']/d*(-dg_dwe * head(t))\n",
    "\n",
    "    K_h = pf_h*(1 - delta_cf**2)\n",
    "    K_e = pf_e*(1 - delta_cf**2)\n",
    "    K_C = -params['cf_0']*params['k_pf_e']*head(t)\n",
    "    K_T = params['k_pf_e']*head(t)*delta_cf\n",
    "    \n",
    "    jac = np.zeros((9,9))\n",
    "    # w_H, v, <MF(PC-<PC>)>, <PF_H>, <PF_H*CF>, <PC>, w_E, <PF_E>, <PF_E*CF>\n",
    "    \n",
    "    jac[0,3:5] = np.array([params['k_LTP_h'], -params['k_LTD_h']])\n",
    "    jac[1,2] = -params['k_v']\n",
    "    jac[2,:] = 1/params['tau_mvn']*np.array([mf*dpc_dwh, mf*dpc_dv, -1, 0,0,-mf,mf*dpc_dwe,0,0])\n",
    "    jac[3,3] = -1/params['tau_f']\n",
    "    jac[4,:] = 1/params['tau_f']*np.array([K_h*(-params['beta_rs']*learn*dg_dwh*head(t) + \n",
    "                                                    params['beta_homeo']*(dpc_dwh - theta)),\n",
    "                                                K_h*(-params['beta_rs']*learn*dg_dv*head(t) +\n",
    "                                                   params['beta_homeo']*(dpc_dv - theta)),\n",
    "                                                0, 0, -1, -K_h*params['beta_homeo'], \n",
    "                                                K_h*(-params['beta_rs']*learn*dg_dwe*head(t) + \n",
    "                                                    params['beta_homeo']*(dpc_dwe - theta)),\n",
    "                                                0, 0])\n",
    "    \n",
    "    jac[5,:] = 1/params['tau_f']*np.array([dpc_dwh, dpc_dv, 0, 0, 0, -1, dpc_dwe, 0, 0])\n",
    "    jac[6,6:8] = np.array([params['k_LTP_e'], -params['k_LTD_e']])\n",
    "    jac[7,7] = -1/params['tau_f']\n",
    "    jac[8,:] = 1/params['tau_f']*np.array([K_C*dg_dwh + K_e*(-params['beta_rs']*learn*dg_dwh*head(t) + \n",
    "                                                    params['beta_homeo']*(dpc_dwh - theta)) -\n",
    "                                                    K_T * dg_dwh,\n",
    "                                           K_C*dg_dv + K_e*(-params['beta_rs']*learn*dg_dv*head(t) +\n",
    "                                                   params['beta_homeo']*(dpc_dv - theta)) -\n",
    "                                                   K_T * dg_dv,\n",
    "                                                0, 0, 0, -K_e*params['beta_homeo'], \n",
    "                                                K_C*dg_dwe + K_e*(-params['beta_rs']*learn*dg_dwe*head(t) + \n",
    "                                                    params['beta_homeo']*(dpc_dwe - theta)) - \n",
    "                                                   K_T * dg_dwe,\n",
    "                                                0, -1])\n",
    "    return jac"
   ]
  },
  {
   "cell_type": "markdown",
   "id": "cb0e8517",
   "metadata": {},
   "source": [
    "# Run simulation"
   ]
  },
  {
   "cell_type": "code",
   "execution_count": 38,
   "id": "00839a3a",
   "metadata": {},
   "outputs": [],
   "source": [
    "## Set initial conditions for simulation\n",
    "theta_0 = params['pc_0'] + params['pf_0']*(w_h_0 + params['w_eye']-params['w_inh_e'])\n",
    "\n",
    "# w_H, v, <MF(PC-<PC>)>, <PF_H>, <PF_H*CF>, <PC>, w_E, <PF_E>, <PF_E*CF>\n",
    "y_0 = np.array([w_h_0 + params['w_inh_h'], v_0, 0, params['pf_0'], params['pf_0']*params['cf_0'],\n",
    "                theta_0, params['w_eye'], params['pf_0'], params['pf_0']*params['cf_0']])"
   ]
  },
  {
   "cell_type": "code",
   "execution_count": 29,
   "id": "78a0a75d",
   "metadata": {},
   "outputs": [],
   "source": [
    "g_des = 2 # target gain during training"
   ]
  },
  {
   "cell_type": "code",
   "execution_count": 39,
   "id": "a4118154",
   "metadata": {
    "scrolled": true
   },
   "outputs": [],
   "source": [
    "T_learn = 0.5 # h\n",
    "\n",
    "T_post = 24 # s\n",
    "\n",
    "## Time steps for plotting (ODE solver uses variable time steps)\n",
    "\n",
    "dt_learn = 1/3600 # h (= 1 s)\n",
    "dt_post = 10*60/3600 # h (= 10 min)\n",
    "\n",
    "t_learn = np.linspace(0, T_learn, int(T_learn/dt_learn))\n",
    "t_post = np.linspace(0, T_post-T_learn, int(T_post/dt_post)) + T_learn\n",
    "\n",
    "\n",
    "# Solution during the training period\n",
    "sol_learn = scipy.integrate.solve_ivp(lambda t,y: homeostaticCF_Feedback3D(t,y, head_learn, g_des, True, params), [0, T_learn], y_0, \n",
    "                                  jac=lambda t,y: homeostaticCF_Feedback3D_Jac(t,y,head_learn, g_des,True,params), method='Radau', dense_output=True, max_step=0.25*1/3600)\n",
    "\n",
    "y_learn = sol_learn.sol(t_learn)\n",
    "\n",
    "sol_recov = scipy.integrate.solve_ivp(lambda t,y: homeostaticCF_Feedback3D(t,y, head_post_input, g_des, False, params), [T_learn, T_post], y_learn[:,-1], \n",
    "                                  jac=lambda t,y: homeostaticCF_Feedback3D_Jac(t,y,head_post_input,\n",
    "                                                             g_des,False,params), method='Radau', dense_output=True, max_step=0.25*1/3600)\n",
    "\n",
    "\n",
    "y_recov = sol_recov.sol(t_post)"
   ]
  },
  {
   "cell_type": "code",
   "execution_count": 40,
   "id": "15b09646",
   "metadata": {},
   "outputs": [],
   "source": [
    "t_ = np.concatenate((t_learn, t_post))\n",
    "y_ = np.hstack((y_learn, y_recov))"
   ]
  },
  {
   "cell_type": "code",
   "execution_count": 41,
   "id": "4f05e627",
   "metadata": {},
   "outputs": [],
   "source": [
    "w_H = y_[0,:] - params['w_inh_h']\n",
    "w_E = y_[6,:] - params['w_inh_e']"
   ]
  },
  {
   "cell_type": "markdown",
   "id": "66a73fd5",
   "metadata": {},
   "source": [
    "# Figure S3B"
   ]
  },
  {
   "cell_type": "code",
   "execution_count": 42,
   "id": "d007b06c",
   "metadata": {},
   "outputs": [
    {
     "data": {
      "image/png": "[encoded data removed]",
      "text/plain": [
       "<Figure size 150x140 with 2 Axes>"
      ]
     },
     "metadata": {},
     "output_type": "display_data"
    }
   ],
   "source": [
    "plt.figure(figsize=(1.5,1.4))\n",
    "\n",
    "ax = plt.subplot(2,1,1)\n",
    "\n",
    "plt.plot([-2,24], [0,0],'k--',lw=0.5)\n",
    "\n",
    "plt.plot([0, 0.5],[0.4,]*2,  c='C1', lw=2, clip_on=False)\n",
    "plt.plot([0.5, 24], [0.4,]*2,  c=(0.7,)*3, lw=2, clip_on=False)\n",
    "\n",
    "plt.plot(t_, (w_H-w_H[0])/w_H[0], c='C0', clip_on=False,lw=1)\n",
    "plt.plot(t_, (w_E-w_E[0])/w_E[0], c='C6', clip_on=False,lw=1)\n",
    "# plt.plot(t_, (y_[6,:]-y_[6,0])/y_[6,0], c='C9', clip_on=False,lw=1)\n",
    "plt.ylim([-0.6, 0.3])\n",
    "plt.xlim([-2,24])\n",
    "ax.xaxis.set_visible(False)\n",
    "\n",
    "ax.set_yticks([0.3, 0, -0.3, -0.6])\n",
    "\n",
    "ax.spines['top'].set_visible(False)\n",
    "ax.spines['right'].set_visible(False)\n",
    "ax.spines['bottom'].set_visible(False)\n",
    "\n",
    "ax = plt.subplot(2,1,2)\n",
    "plt.plot(t_, (y_[1,:]-y_[1,0])/y_[1,0], c='C3',lw=1)\n",
    "\n",
    "plt.ylim([0, 0.3])\n",
    "plt.xlim([-2,24])\n",
    "ax.spines['top'].set_visible(False)\n",
    "ax.spines['right'].set_visible(False)\n",
    "ax.set_yticks([0, 0.15,0.3])\n",
    "\n",
    "ax.set_xticks([0,12,24])\n",
    "ax.set_xticks([0, 24])\n",
    "ax.set_xticks([12], minor=True)"
   ]
  },
  {
   "cell_type": "markdown",
   "id": "028c00ce",
   "metadata": {},
   "source": [
    "# Figure S3C,D"
   ]
  },
  {
   "cell_type": "code",
   "execution_count": 43,
   "id": "aaf133e3",
   "metadata": {},
   "outputs": [
    {
     "name": "stdout",
     "output_type": "stream",
     "text": [
      "0.7744960230603085\n"
     ]
    }
   ],
   "source": [
    "# Calculate percent gain change consolidated\n",
    "gain_learn = gain(y_learn[0,:]-params['w_inh_h'], y_learn[6,:]-params['w_inh_e'], y_learn[1,:])\n",
    "gain_post = gain(y_recov[0,:]-params['w_inh_h'],y_recov[6,:]-params['w_inh_e'], y_recov[1,:])\n",
    "print((gain_post[-1]-gain_learn[0])/(gain_learn[-1]-gain_learn[0]))"
   ]
  },
  {
   "cell_type": "code",
   "execution_count": 44,
   "id": "abced368",
   "metadata": {},
   "outputs": [],
   "source": [
    "gain_ = gain(w_H, w_E, y_[1,:])\n",
    "gain_v = y_[1,:]*params['mf_sensitivity']*params['k_eye'] # gain(w_H[0], y_[1,:])"
   ]
  },
  {
   "cell_type": "code",
   "execution_count": 45,
   "id": "380331f9",
   "metadata": {},
   "outputs": [],
   "source": [
    "# Calculate change in PC sensitivity to head velocity, relative to sliding average\n",
    "delta_pc_sens = lambda w_H, w_E, v: ((params['k_pf_h']*w_H - params['k_eye']*params['k_pf_e']*w_E*params['mf_sensitivity']*v)/\n",
    "            (1 - params['w_pc_mvn']*params['k_eye']*params['k_pf_e']*w_E))\n"
   ]
  },
  {
   "cell_type": "code",
   "execution_count": 47,
   "id": "28f52a66",
   "metadata": {},
   "outputs": [
    {
     "data": {
      "image/png": "[encoded data removed]",
      "text/plain": [
       "<Figure size 150x140 with 2 Axes>"
      ]
     },
     "metadata": {},
     "output_type": "display_data"
    }
   ],
   "source": [
    "plt.figure(figsize=(1.5,1.4))\n",
    "\n",
    "ax = plt.subplot(2,1,1)\n",
    "\n",
    "plt.plot(t_, delta_pc_sens(w_H, w_E, y_[1,:])*peak_velocity_post,clip_on=False)\n",
    "plt.plot([-1,24], [0,0],c='k',ls='--',lw=0.5, clip_on=False)\n",
    "\n",
    "plt.plot([0, T_learn], [2,]*2, c='C1', lw=2, clip_on=False)\n",
    "plt.plot([T_learn, T_post], [2,]*2, c=(0.7,)*3, lw=2, clip_on=False)\n",
    "# plt.ylim()\n",
    "plt.ylim([-16, 0])\n",
    "plt.xlim([-2,24])\n",
    "ax = plt.gca()\n",
    "ax.spines['top'].set_visible(False)\n",
    "ax.spines['right'].set_visible(False)\n",
    "ax.spines['bottom'].set_visible(False)\n",
    "ax.xaxis.set_visible(False)\n",
    "\n",
    "plt.yticks([0, -8, -16])\n",
    "\n",
    "ax = plt.subplot(2,1,2)\n",
    "plt.fill_between(t_, np.zeros(len(t_)), gain_v/gain_v[0]-1, facecolor='C3',alpha=0.2)\n",
    "plt.fill_between(t_, gain_v/gain_v[0]-1,gain_/gain_[0]-1,  facecolor='C0',alpha=0.2 )\n",
    "plt.plot(t_, gain_/gain_[0]-1, c='k',lw=1)\n",
    "\n",
    "# plt.plot([0, 0.5],[0.4,]*2,  c='C1', lw=2, clip_on=False)\n",
    "# plt.plot([0.5, 24], [0.4,]*2,  c=(0.7,)*3, lw=2, clip_on=False)\n",
    "\n",
    "\n",
    "plt.ylim([0, 0.4])\n",
    "plt.xlim([-2,24])\n",
    "ax=plt.gca()\n",
    "ax.spines['top'].set_visible(False)\n",
    "ax.spines['right'].set_visible(False)\n",
    "ax.set_xticks([0, 24])\n",
    "ax.set_xticks([12], minor=True)\n",
    "ax.set_xticklabels([0, 24])"
   ]
  },
  {
   "cell_type": "markdown",
   "id": "e19fe3d2",
   "metadata": {},
   "source": [
    "# Figure S3E"
   ]
  },
  {
   "cell_type": "code",
   "execution_count": 200,
   "id": "cd96b52c",
   "metadata": {},
   "outputs": [],
   "source": [
    "# Continuum of stable states of the dynamics\n",
    "attractor_surface = lambda w_h, w_e: np.divide(w_h*params['k_pf_h'],(w_e*params['k_eye']*params['k_pf_e']*params['mf_sensitivity']))"
   ]
  },
  {
   "cell_type": "code",
   "execution_count": 201,
   "id": "b79ec4ba",
   "metadata": {},
   "outputs": [],
   "source": [
    "sigma2 = 0.5*peak_velocity_post**2"
   ]
  },
  {
   "cell_type": "markdown",
   "id": "260301ef",
   "metadata": {},
   "source": [
    "To plot the flow field, we need to estimate the derivatives. We use the following approximation.\n",
    "\n",
    "As for the non-plastic feedback case, we estimate $\\text{d}w_H/\\text{d}t$ in the post-training period as \n",
    "$$\n",
    "\\frac{\\text{d}w_H}{\\text{d}t} \\approx -k_\\text{LTD}k_{PH}\\langle\\dot{H}(t)\\tanh(\\beta_\\text{dark}\\delta\\text{PC}(t))\\rangle \\approx -\\frac{1}{T}k_\\text{LTD}k_{PF}\\int_0^T\\text{d}t\\ \\dot{H}(t)\\tanh\\left(\\beta_\\text{dark}\\frac{\\tilde{w}_H - k_E \\tilde{w}_E v}{1-w_\\text{PC}k_E\\tilde{w}_E}\\dot{H}(t)\\right),\n",
    "$$\n",
    "where $k_{PH} = k_{\\text{PF},H}$ for convenience.\n",
    "\n",
    "Now, we similarly esimate $\\text{d}w_E/\\text{d}t$ as\n",
    "$$\n",
    "\\begin{align*}\n",
    "\\frac{\\text{d}w_E}{\\text{d}t} \\approx -k_\\text{LTD}k_{PE}\\langle\\dot{E}(t)\\tanh(\\beta_\\text{dark}\\delta\\text{PC}(t))\\rangle &= k_\\text{LTD}k_{PE}\\cdot g\\langle \\dot{H}(t)\\tanh(\\beta_\\text{dark}\\delta\\text{PC}(t))\\rangle\n",
    "\\end{align*}\n",
    "$$"
   ]
  },
  {
   "cell_type": "code",
   "execution_count": 279,
   "id": "e3183cad",
   "metadata": {},
   "outputs": [],
   "source": [
    "T_avg = 0.5/3600 # one half cycle at 1 Hz\n",
    "avg_equation = lambda t,w_H,w_E,v: head_post_input(t)*np.tanh(params['beta_homeo']*delta_pc_sens(w_H,w_E,v)*head_post_input(t))\n",
    "\n",
    "dwHdt_approx = lambda w_H,w_E,v: -1/T_avg*params['k_LTD_h']*params['k_pf_h']*scipy.integrate.quad(lambda t: avg_equation(t,w_H,w_E,v), 0, T_avg)[0]\n",
    "dwEdt_approx = lambda w_H,w_E,v: 1/T_avg*params['k_LTD_e']*params['k_pf_e']*gain(w_H,w_E,v)*scipy.integrate.quad(lambda t: avg_equation(t,w_H,w_E,v), 0, T_avg)[0]\n",
    "\n",
    "dwhdt_approx_vec = np.vectorize(dwHdt_approx)\n",
    "dwedt_approx_vec = np.vectorize(dwEdt_approx)"
   ]
  },
  {
   "cell_type": "markdown",
   "id": "64505a59",
   "metadata": {},
   "source": [
    "To plot the surface of fixed points:"
   ]
  },
  {
   "cell_type": "code",
   "execution_count": 205,
   "id": "0555931b",
   "metadata": {},
   "outputs": [],
   "source": [
    "n_points_v = 10\n",
    "n_points_whwe = 10"
   ]
  },
  {
   "cell_type": "code",
   "execution_count": 247,
   "id": "44aefbb8",
   "metadata": {},
   "outputs": [],
   "source": [
    "# Calculate value of w_H corresponding to a pair (w_E, v) along the surface of fixed points\n",
    "wh_ = lambda w_E, v: 1/params['k_pf_h']*params['k_eye']*params['k_pf_e']*w_E*params['mf_sensitivity']*v"
   ]
  },
  {
   "cell_type": "code",
   "execution_count": 262,
   "id": "859a1010",
   "metadata": {},
   "outputs": [],
   "source": [
    "v_ = lambda w_H, w_E: params['k_pf_h']*w_H/(params['k_eye']*params['k_pf_e']*w_E*params['mf_sensitivity'])"
   ]
  },
  {
   "cell_type": "code",
   "execution_count": 343,
   "id": "bd5f375d",
   "metadata": {},
   "outputs": [
    {
     "data": {
      "image/png": "[encoded data removed]",
      "text/plain": [
       "<Figure size 225x225 with 1 Axes>"
      ]
     },
     "metadata": {},
     "output_type": "display_data"
    }
   ],
   "source": [
    "fig = plt.figure(figsize=(2.25,2.25))\n",
    "ax = fig.add_subplot(projection='3d')\n",
    "ax.computed_zorder = False\n",
    "\n",
    "# Axis limits\n",
    "xlims = [0, 5]\n",
    "xlimrange = xlims[1]-xlims[0]\n",
    "ylims = [6,7]\n",
    "ylimrange = ylims[1]-ylims[0]\n",
    "zlims = [1.3, 1.7]\n",
    "zlimrange = zlims[1]-zlims[0]\n",
    "\n",
    "# Plotting the surface\n",
    "\n",
    "v_surf = np.linspace(0,1,n_points_v)*zlimrange + zlims[0]\n",
    "we_surf = np.linspace(0,1,n_points_whwe)*ylimrange + ylims[0]\n",
    "\n",
    "\n",
    "we_surf_full, v_surf_full = np.meshgrid(we_surf, v_surf)\n",
    "wh_surf_full = wh_(we_surf_full, v_surf_full)\n",
    "\n",
    "ax.plot_surface(wh_surf_full, we_surf_full, v_surf_full, zorder=-2, facecolor=(0.8,0.8,0.8),alpha=0.8)\n",
    "\n",
    "# Plot trajectories\n",
    "ax.plot( y_recov[0,:]-params['w_inh_h'], y_recov[6,:]-params['w_inh_e'], y_recov[1,:], c='k', zorder=1)\n",
    "ax.plot( sol_learn.y[0,:]-params['w_inh_h'],sol_learn.y[6,:]-params['w_inh_e'],  sol_learn.y[1,:], c='C1', zorder=2)\n",
    "\n",
    "\n",
    "# Plot flow field\n",
    "wh_phase, we_phase, vv_phase = np.meshgrid(xlims[0] + np.linspace(0.05,0.95, 5)*xlimrange,\n",
    "                                          ylims[0] + np.linspace(0.05,0.95,4)*ylimrange,\n",
    "                                          zlims[0] + np.linspace(0,0.67,2)*zlimrange)\n",
    "\n",
    "dwhdt = dwhdt_approx_vec(wh_phase, we_phase, vv_phase)\n",
    "dwedt = dwedt_approx_vec(wh_phase, we_phase, vv_phase)\n",
    "\n",
    "dvdt = -params['k_v']*(params['mf_sensitivity']*delta_pc_sens(wh_phase, we_phase, vv_phase)*sigma2)\n",
    "\n",
    "dwh_ = dwhdt/np.sqrt(dwhdt**2 + dwedt**2 + dvdt**2)\n",
    "dwe_ = dwedt/np.sqrt(dwhdt**2 + dwedt**2 + dvdt**2)\n",
    "dv_ = dvdt/np.sqrt(dwhdt**2 + dwedt**2 + dvdt**2)\n",
    "\n",
    "# Make phase arrows behind surface of fixed points transparent\n",
    "mask_wewh = (we_phase > params['k_pf_h']*wh_phase/(params['k_eye']*params['k_pf_e']*params['mf_sensitivity']*vv_phase))\n",
    "\n",
    "ax.quiver(wh_phase[mask_wewh], we_phase[mask_wewh], vv_phase[mask_wewh], dwh_[mask_wewh], dwe_[mask_wewh], dv_[mask_wewh], \n",
    "          length=0.15, arrow_length_ratio=0,\n",
    "           normalize=True, pivot='middle', color=(0.5,)*3, lw=1, zorder=0)\n",
    "ax.quiver(wh_phase[~mask_wewh], we_phase[~mask_wewh], vv_phase[~mask_wewh], dwh_[~mask_wewh], dwe_[~mask_wewh], dv_[~mask_wewh], \n",
    "          length=0.15, arrow_length_ratio=0,\n",
    "           normalize=True, pivot='middle', color=(0.5,)*3, lw=1, zorder=-3)\n",
    "\n",
    "ax.plot([w_H[-1],]*2, [w_E[-1],]*2, [zlims[0], y_[1,-1]], c='k', lw=0.5, ls='--',zorder=-3)\n",
    "ax.plot([w_H[-1],]*2, [w_E[-1], ylims[1]], [zlims[0],]*2, c='k', lw=0.5, ls='--',zorder=-3)\n",
    "ax.plot([xlims[0], w_H[-1]], [w_E[-1],]*2, [zlims[0],]*2, c='k', lw=0.5, ls='--',zorder=-3)\n",
    "ax.set_xlim(xlims)\n",
    "ax.set_ylim(ylims)\n",
    "ax.set_zlim(zlims)\n",
    "\n",
    "ax.view_init(18, 240)\n",
    "plt.ylabel('w_e')\n",
    "plt.xlabel('w_h')\n",
    "ax.set_frame_on(b=False)"
   ]
  },
  {
   "cell_type": "markdown",
   "id": "df9f5223",
   "metadata": {},
   "source": [
    "For an en-face view of the phase arrows"
   ]
  },
  {
   "cell_type": "code",
   "execution_count": 340,
   "id": "f0109f78",
   "metadata": {},
   "outputs": [
    {
     "data": {
      "image/png": "[encoded data removed]",
      "text/plain": [
       "<Figure size 300x300 with 1 Axes>"
      ]
     },
     "metadata": {},
     "output_type": "display_data"
    }
   ],
   "source": [
    "fig = plt.figure(figsize=(3,3))\n",
    "ax = fig.add_subplot(projection='3d')\n",
    "\n",
    "ax.plot( sol_recov.y[0,:]-params['w_inh_h'], sol_recov.y[6,:]-params['w_inh_e'], sol_recov.y[1,:], c='k', zorder=1)\n",
    "ax.plot( sol_learn.y[0,:]-params['w_inh_h'],sol_learn.y[6,:]-params['w_inh_e'],  sol_learn.y[1,:], c='C1', zorder=2)\n",
    "\n",
    "\n",
    "ax.quiver(wh_phase[mask_wewh], we_phase[mask_wewh], vv_phase[mask_wewh], dwh_[mask_wewh], dwe_[mask_wewh], dv_[mask_wewh], \n",
    "          length=0.1, arrow_length_ratio=0.15,\n",
    "           normalize=True, pivot='middle', color=(0.5,)*3, lw=1, zorder=0)\n",
    "ax.quiver(wh_phase[~mask_wewh], we_phase[~mask_wewh], vv_phase[~mask_wewh], dwh_[~mask_wewh], dwe_[~mask_wewh], dv_[~mask_wewh], \n",
    "          length=0.1, arrow_length_ratio=0.15,\n",
    "           normalize=True, pivot='middle', color=(0.5,)*3, lw=1, zorder=-3)\n",
    "ax.view_init(0,90)\n"
   ]
  }
 ],
 "metadata": {
  "kernelspec": {
   "display_name": "Python 3 (ipykernel)",
   "language": "python",
   "name": "python3"
  },
  "language_info": {
   "codemirror_mode": {
    "name": "ipython",
    "version": 3
   },
   "file_extension": ".py",
   "mimetype": "text/x-python",
   "name": "python",
   "nbconvert_exporter": "python",
   "pygments_lexer": "ipython3",
   "version": "3.10.9"
  }
 },
 "nbformat": 4,
 "nbformat_minor": 5
}
