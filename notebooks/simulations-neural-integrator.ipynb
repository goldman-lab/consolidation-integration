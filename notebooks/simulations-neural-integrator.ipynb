{
 "cells": [
  {
   "cell_type": "code",
   "execution_count": 21,
   "metadata": {},
   "outputs": [],
   "source": [
    "import numpy as np\n",
    "\n",
    "# Embed fonts into PDF/PS files\n",
    "import matplotlib\n",
    "matplotlib.rcParams['pdf.fonttype'] = 42\n",
    "matplotlib.rcParams['ps.fonttype'] = 42\n",
    "\n",
    "import matplotlib.pyplot as plt\n",
    "%matplotlib inline\n",
    "\n",
    "import matplotlib.colors\n",
    "\n",
    "import scipy.integrate\n",
    "\n",
    "# For plotting energy surface\n",
    "from mpl_toolkits.mplot3d import Axes3D\n",
    "from matplotlib import cm"
   ]
  },
  {
   "cell_type": "code",
   "execution_count": 3,
   "metadata": {},
   "outputs": [],
   "source": [
    "matplotlib.rcParams.update({'font.size': 8, 'axes.linewidth': 0.5, 'xtick.major.width': 0.5, 'xtick.minor.width': 0.5, \n",
    "                            'ytick.major.width': 0.5,'ytick.minor.width': 0.5, 'xtick.major.pad':2,'ytick.major.pad':2})\n",
    "matplotlib.rcParams.update({'font.family':'sans-serif','font.sans-serif':['Arial']})"
   ]
  },
  {
   "cell_type": "markdown",
   "metadata": {},
   "source": [
    "# Simulation for Figure 3"
   ]
  },
  {
   "cell_type": "code",
   "execution_count": 10,
   "metadata": {},
   "outputs": [],
   "source": [
    "input_ = 0.32*np.array([1,1])"
   ]
  },
  {
   "cell_type": "code",
   "execution_count": 29,
   "metadata": {},
   "outputs": [],
   "source": [
    "tau_m = 0.1 # s (= 100 ms)\n",
    "\n",
    "\n",
    "W = np.array([[0, 1], [2-np.sqrt(3), np.sqrt(3)-1]])\n",
    "M = 1/tau_m*(np.eye(2) - W) # overall dynamics matrix\n",
    "\n",
    "def simpleIntegrator(t,y, learn):\n",
    "    dydt = -1/tau_m*(np.dot(np.eye(2) - W, y))+ 1/tau_m*input_*learn\n",
    "    return dydt"
   ]
  },
  {
   "cell_type": "code",
   "execution_count": 30,
   "metadata": {},
   "outputs": [
    {
     "name": "stderr",
     "output_type": "stream",
     "text": [
      "/Users/jbhasin/opt/anaconda3/lib/python3.7/site-packages/scipy/integrate/_ivp/common.py:40: UserWarning: The following arguments have no effect for a chosen solver: `jac`.\n",
      "  .format(\", \".join(\"`{}`\".format(x) for x in extraneous)))\n"
     ]
    }
   ],
   "source": [
    "# Total time between pulses\n",
    "T = 1.5 # s\n",
    "pulse_len = 0.1 # s\n",
    "\n",
    "pulses = 3\n",
    "\n",
    "dt = 1e-3 # ms\n",
    "\n",
    "\n",
    "t_pulse = np.arange(0, int(pulse_len/dt), 1)*dt\n",
    "t_post = np.arange(0, int(np.ceil((T-pulse_len)/dt)), 1)*dt\n",
    "t = np.arange(0, int(T/dt),1)*dt\n",
    "y_sol = np.zeros((2, len(t), pulses))\n",
    "\n",
    "inputs = np.zeros((len(t),pulses))\n",
    "\n",
    "y_0 = np.array([0, 0])\n",
    "y = np.copy(y_0)\n",
    "\n",
    "\n",
    "# learn = False\n",
    "for d in range(pulses):\n",
    "    sol_pulse = scipy.integrate.solve_ivp(lambda t,y: simpleIntegrator(t,y, True), [0, pulse_len], y, \n",
    "                                          jac=lambda t,y: M, dense_output=True)\n",
    "    inputs[:len(t_pulse), d] = 1\n",
    "    sol_post = scipy.integrate.solve_ivp(lambda t,y: simpleIntegrator(t,y, False), [0,T-pulse_len],sol_pulse.sol(pulse_len),\n",
    "                                          jac=lambda t,y: M, dense_output=True)\n",
    "    y_sol[:,:,d] = np.hstack((sol_pulse.sol(t_pulse), sol_post.sol(t_post)))\n",
    "    y = sol_post.sol(T-pulse_len)"
   ]
  },
  {
   "cell_type": "code",
   "execution_count": 31,
   "metadata": {},
   "outputs": [],
   "source": [
    "y_total = np.vstack(y_sol.T).T\n",
    "t_total = np.concatenate([t + T*d for d in range(pulses) ])"
   ]
  },
  {
   "cell_type": "code",
   "execution_count": 32,
   "metadata": {},
   "outputs": [],
   "source": [
    "inputs_total = np.concatenate(inputs.T)"
   ]
  },
  {
   "cell_type": "code",
   "execution_count": 33,
   "metadata": {},
   "outputs": [
    {
     "data": {
      "image/png": "[encoded data removed]",
      "text/plain": [
       "<Figure size 216x108 with 2 Axes>"
      ]
     },
     "metadata": {
      "needs_background": "light"
     },
     "output_type": "display_data"
    }
   ],
   "source": [
    "plt.figure(figsize=(3,1.5))\n",
    "\n",
    "ax=plt.subplot(2,1,1)\n",
    "\n",
    "plt.plot(t_total,1/np.sqrt(2)*np.dot(np.array([1,1]), y_total),  lw=1,c='C3')\n",
    "\n",
    "ax.xaxis.set_visible(False)\n",
    "ax.spines['top'].set_visible(False)\n",
    "ax.spines['bottom'].set_visible(False)\n",
    "ax.spines['right'].set_visible(False)\n",
    "ax.set_yticks(np.linspace(0,1.4, 4))\n",
    "ax.set_yticklabels([0,'','', 1.4])\n",
    "\n",
    "plt.xlim(-0.2, 4.5)\n",
    "plt.ylim([0, 1.4])\n",
    "\n",
    "ax = plt.subplot(2,1,2)\n",
    "\n",
    "plt.plot(np.concatenate((np.array([0]), t_total)), np.concatenate((np.array([0]), inputs_total)), lw=1, c='C0', clip_on=False)\n",
    "ax.spines['top'].set_visible(False)\n",
    "ax.spines['right'].set_visible(False)\n",
    "plt.ylim([0,1])\n",
    "ax.set_yticks([0,1])\n",
    "ax.set_yticklabels([0,1])\n",
    "plt.xlim(-0.2, 4.5)\n",
    "ax.set_xticks([0,1.5,3.0,4.5])\n",
    "ax.set_xticklabels([0, '','',4.5]);"
   ]
  },
  {
   "cell_type": "markdown",
   "metadata": {},
   "source": [
    "# Plot Lyapunov function"
   ]
  },
  {
   "cell_type": "code",
   "execution_count": 34,
   "metadata": {},
   "outputs": [],
   "source": [
    "r1_width = 2*np.sqrt(2)/3*0.83\n",
    "r2_width = np.sqrt(2)\n",
    "\n",
    "r1, r2 = np.meshgrid(np.linspace(0.5-r1_width/2,0.5+r1_width/2, 200), np.linspace(0.5-r2_width/2, 0.5+r2_width/2, 200))\n",
    "\n",
    "# Rotate coordinate grid to align with integrating mode\n",
    "rot = np.pi/4\n",
    "center = [0.5,0.5]\n",
    "\n",
    "r1_r = np.cos(rot)*(r1-center[0]) + np.sin(rot)*(r2-center[1]) + center[0]\n",
    "r2_r = -np.sin(rot)*(r1-center[0]) + np.cos(rot)*(r2-center[1]) + center[1]"
   ]
  },
  {
   "cell_type": "code",
   "execution_count": 35,
   "metadata": {},
   "outputs": [],
   "source": [
    "dr1 = M[0,0]*r1_r + M[0,1]*r2_r\n",
    "dr2 = M[1,0]*r1_r + M[1,1]*r2_r"
   ]
  },
  {
   "cell_type": "code",
   "execution_count": 36,
   "metadata": {},
   "outputs": [
    {
     "name": "stderr",
     "output_type": "stream",
     "text": [
      "/Users/jbhasin/opt/anaconda3/lib/python3.7/site-packages/scipy/integrate/_ivp/common.py:40: UserWarning: The following arguments have no effect for a chosen solver: `jac`.\n",
      "  .format(\", \".join(\"`{}`\".format(x) for x in extraneous)))\n"
     ]
    }
   ],
   "source": [
    "T = 0.5\n",
    "dt_lyapunov = 5e-3\n",
    "t = np.arange(0, T//dt_lyapunov, 1)*dt_lyapunov\n",
    "\n",
    "rot_e = 60 * 180/np.pi # second e-vector at 60 deg angle from integrating mode\n",
    "\n",
    "eig1 = np.array([1,1])/np.sqrt(2)\n",
    "eig2 = np.dot(np.array([[np.cos(rot_e), np.sin(rot_e)], [-np.sin(rot_e), np.cos(rot_e)]]), eig1)\n",
    "\n",
    "e2len = (r1_width/2)/np.sin(rot_e)\n",
    "\n",
    "# Trajectories on bottom of phase plot\n",
    "trajectories_0 = np.array([[1/3+eig2[0]*e2len, 1/3+eig2[1]*e2len],\n",
    "                           [1/3-eig2[0]*e2len, 1/3-eig2[1]*e2len],\n",
    "                           [2/3+eig2[0]*e2len, 2/3+eig2[1]*e2len],\n",
    "                           [2/3-eig2[0]*e2len, 2/3-eig2[1]*e2len],\n",
    "                          ])\n",
    "\n",
    "n_ = trajectories_0.shape[0]\n",
    "\n",
    "trajectories = np.zeros((n_, 2, len(t)))\n",
    "\n",
    "for i in range(n_):\n",
    "    sol = scipy.integrate.solve_ivp(lambda t,y: simpleIntegrator(t,y, False), [0,T],trajectories_0[i,:],\n",
    "                                          jac=lambda t,y: M,dense_output=True)\n",
    "    sol_ = sol.sol(t)\n",
    "    trajectories[i,0,:] = sol_[0,:]\n",
    "    trajectories[i,1,:] = sol_[1,:]"
   ]
  },
  {
   "cell_type": "code",
   "execution_count": 38,
   "metadata": {},
   "outputs": [
    {
     "data": {
      "image/png": "[encoded data removed]",
      "text/plain": [
       "<Figure size 108x108 with 1 Axes>"
      ]
     },
     "metadata": {},
     "output_type": "display_data"
    }
   ],
   "source": [
    "fig = plt.figure(figsize=(1.5, 1.5))\n",
    "\n",
    "z_offset = -30\n",
    "ax = fig.gca(projection='3d')\n",
    "\n",
    "# Plot attractor\n",
    "plt.plot([0,1],[0., 1],[z_offset, ]*2,'k',lw=1)\n",
    "\n",
    "# Plot Lyapunov function surface\n",
    "ax.plot_wireframe(r1_r, r2_r, dr1**2+dr2**2,color=(0.5,0.5,0.5),cstride=100,rstride=200,\n",
    "                       linewidth=1)\n",
    "plt.plot([0,1],[0, 1],[0, ]*2,'k',lw=1)\n",
    "\n",
    "# Plot trajectories\n",
    "for i in range(n_):\n",
    "    r1_ = trajectories[i,0,:]\n",
    "    r2_ = trajectories[i,1,:]\n",
    "    dr1_ = M[0,0]*r1_ + M[0,1]*r2_\n",
    "    dr2_ = M[1,0]*r1_ + M[1,1]*r2_\n",
    "    ax.plot(r1_, r2_, z_offset*np.ones(len(t)), color='k', lw=1)\n",
    "    ax.plot(r1_,r2_, dr1_**2+dr2_**2, color='k')\n",
    "\n",
    "ax.grid(b=None)\n",
    "ax.xaxis.set_pane_color((1.0, 1.0, 1.0, 0.0))\n",
    "ax.yaxis.set_pane_color((1.0, 1.0, 1.0, 0.0))\n",
    "ax.zaxis.set_pane_color((1.0, 1.0, 1.0, 0.0))\n",
    "ax.set_zticks([]);\n",
    "ax.set_yticks([]);\n",
    "ax.set_xticks([]);\n",
    "ax.w_zaxis.line.set_lw(0.)\n",
    "zlims = ax.get_zlim();\n",
    "ax.set_zlim([z_offset, zlims[1]])\n",
    "ax.set_ylim([0, 1])\n",
    "ax.set_xlim([0, 1])\n",
    "\n",
    "ax.view_init(25, -135-30)\n",
    "\n",
    "plt.subplots_adjust(left=0.02, right=0.98, bottom=0.02, top=0.98);"
   ]
  }
 ],
 "metadata": {
  "kernelspec": {
   "display_name": "Python 3",
   "language": "python",
   "name": "python3"
  },
  "language_info": {
   "codemirror_mode": {
    "name": "ipython",
    "version": 3
   },
   "file_extension": ".py",
   "mimetype": "text/x-python",
   "name": "python",
   "nbconvert_exporter": "python",
   "pygments_lexer": "ipython3",
   "version": "3.7.7"
  }
 },
 "nbformat": 4,
 "nbformat_minor": 2
}
