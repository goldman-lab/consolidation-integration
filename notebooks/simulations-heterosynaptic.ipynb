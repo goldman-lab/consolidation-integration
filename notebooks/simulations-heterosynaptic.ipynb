{
 "cells": [
  {
   "cell_type": "code",
   "execution_count": 114,
   "metadata": {},
   "outputs": [],
   "source": [
    "import numpy as np\n",
    "import matplotlib\n",
    "\n",
    "# Embed fonts into PDF/PS files\n",
    "matplotlib.rcParams['pdf.fonttype'] = 42\n",
    "matplotlib.rcParams['ps.fonttype'] = 42\n",
    "\n",
    "import matplotlib.pyplot as plt\n",
    "%matplotlib inline\n",
    "\n",
    "import matplotlib.colors\n",
    "\n",
    "import scipy.integrate\n",
    "\n",
    "# Progress bars\n",
    "import tqdm.notebook\n",
    "\n",
    "# Make deep copies\n",
    "import copy\n",
    "\n",
    "# For 3d plotting\n",
    "from mpl_toolkits.mplot3d import Axes3D\n",
    "from matplotlib import cm"
   ]
  },
  {
   "cell_type": "code",
   "execution_count": 2,
   "metadata": {},
   "outputs": [],
   "source": [
    "matplotlib.rcParams.update({'font.size': 8, 'axes.linewidth': 0.5, 'xtick.major.width': 0.5, 'xtick.minor.width': 0.5, \n",
    "                            'ytick.major.width': 0.5,'ytick.minor.width': 0.5, 'xtick.major.pad':2,'ytick.major.pad':2})\n",
    "matplotlib.rcParams.update({'font.family':'sans-serif','font.sans-serif':['Arial']})"
   ]
  },
  {
   "cell_type": "markdown",
   "metadata": {},
   "source": [
    "# Define parameters"
   ]
  },
  {
   "cell_type": "code",
   "execution_count": 3,
   "metadata": {},
   "outputs": [
    {
     "data": {
      "text/plain": [
       "0.4235228205522715"
      ]
     },
     "execution_count": 3,
     "metadata": {},
     "output_type": "execute_result"
    }
   ],
   "source": [
    "# Data taken from Arenz et al. 2008, Fig. 1G\n",
    "arenz_data = np.array([[9.92689248942709, 4.122790122862343],\n",
    "                        [20.021881428338318, 8.354626263598984],\n",
    "                        [29.872911166215914, 13.083689775915978]])\n",
    "\n",
    "np.mean(arenz_data[:,1]/arenz_data[:,0])"
   ]
  },
  {
   "cell_type": "code",
   "execution_count": 30,
   "metadata": {},
   "outputs": [],
   "source": [
    "## Physiological parameters\n",
    "\n",
    "# mvn head sensitvity in the light: 0.38 sp/s / deg/s -- Beraneck & Cullen 2007\n",
    "# => v_0 ~= 2.7\n",
    "# => w_pc_mvn ~= 1.77 (Beraneck & Cullen report spont. ~60 sp/s)\n",
    "\n",
    "# initial gain ~- 0.4 in mice (Katoh et al. 2015, Boyden & Raymond 2003)\n",
    "# gain = k_eye * (v*k_MF - w_pc_mvn*w*k_PF)\n",
    "# => k_eye = 1.06\n",
    "\n",
    "# average learning in one day ~20-40% (Kimpo et al. 2014, Boyden & Raymond 2003)\n",
    "# delta w ~= delta g/g_0 * v_0*k_MF / w_pc_mvn*k_PF\n",
    "# delta w ~= 0.15 => delta g/g_0 ~= 0.3 on day 1\n",
    "# w_infinity ~= k_LTD * k_PF * peak velocity / 2 (if delta CF = sin(wt))\n",
    "# => k_LTD = 0.07 => delta w ~= 0.15\n",
    "\n",
    "# memory retention ~75% after 24 hr calculated from Boyden & Raymond 2003\n",
    "\n",
    "params = {\n",
    "    'mf_0': 55, # Lasker et al. 2008\n",
    "    'pf_0': 14, # Arenz et al. 2008 -- assume each MF EPSC evokes a GC spike\n",
    "    'cf_0': 1,\n",
    "    'mf_sensitivity': 0.14, # Lasker et al. 2008\n",
    "    'pf_sensitivity': 0.42, # Arenz et al. 2008 (See above)\n",
    "    'w_i': 1,\n",
    "    'pc_0':50, # Katoh et al. 2015\n",
    "    'mvn_0': 12, # Nelson et al. 2003   \n",
    "    'w_pc_mvn': 1.77,\n",
    "    'k_eye': 1.06,\n",
    "    'k_v':1.55e-3, # to get 75% retention\n",
    "    'tau_f': 0.017, # fast average\n",
    "    'tau_mvn': 1, # tau_f,v: average of activity being integrated at MVN\n",
    "    'tau_learn': 0.15, # Boyden & Raymond 2003\n",
    "    'tau_post': 3, # consistent with 4 hour window, Attwell et al. 2002\n",
    "    'k_LTD': 0.07,\n",
    "}\n",
    "params['k_LTP'] = params['w_i']/params['pf_0'] + params['k_LTD']*params['cf_0']\n",
    "\n",
    "## Behavioral parameters\n",
    "\n",
    "# Kimpo et al. 2014, Nguyen-Vu et al. 2013, Boyden & Raymond 2003\n",
    "stim_freq = 1 \n",
    "peak_velocity_learn = 10 # deg/s\n",
    "\n",
    "# We use a higher peak velocity during the post-training period\n",
    "# so that the blow-up can be seen for the Hebbian rule\n",
    "# (see Supplementary materials S.1)\n",
    "peak_velocity_post = 30\n",
    "\n",
    "# Define function for head velocity\n",
    "head_learn = lambda t: peak_velocity_learn*np.sin(2*np.pi*stim_freq*3600*t)\n",
    "head_post_input = lambda t: peak_velocity_post*np.sin(2*np.pi*stim_freq*3600*t) # w/post-training input\n",
    "head_post_no_input = lambda t: 0 # w/o post-training input\n",
    "\n",
    "# Define function for retinal slip\n",
    "rs_learn = lambda t: np.sin(2*np.pi*stim_freq*3600*t)\n",
    "rs_post = lambda t: 0"
   ]
  },
  {
   "cell_type": "markdown",
   "metadata": {},
   "source": [
    "# ODE solver code\n",
    "\n",
    "We use built-in ODE solvers (implemented by `scipy.integrate`) to perform simulations. The ODE solvers take functions that have the current time value (`t`) and the state (`y`) at that time as arguments and return a vector of the same size as `y` that gives the instantaneous derivative. We also provide a function for the Jacobian, which takes the same arguments and returns the Jacobian matrix.\n",
    "\n",
    "We solve a system of 5 variables, with `y[0]` defining $w$, `y[1]` $v$, `y[2]` the exponential average $\\langle\\text{MF}(\\text{PC} - \\text{PC}_0)\\rangle_{\\tau_{f,v}}$, `y[3]` $\\langle\\text{PF}\\rangle_{\\tau_f}$, and `y[4]` $\\langle\\text{PF}\\cdot\\text{CF}\\rangle_{\\tau_f}$."
   ]
  },
  {
   "cell_type": "code",
   "execution_count": 41,
   "metadata": {},
   "outputs": [],
   "source": [
    "# Function to pass to ODE solver\n",
    "def heterosynaptic(t, y, head, retinal_slip, learn, params):\n",
    "    '''\n",
    "    head: a function taking a time argument that returns the head velocity\n",
    "    retinal_slip: a function taking a time argument that returns the retinal slip velocity\n",
    "    learn: set to True if in the training period, False if in the post-training period\n",
    "    params: list containing the physiological parameters\n",
    "    \n",
    "    '''\n",
    "    delta_mf = params['mf_sensitivity']*head(t)\n",
    "    delta_pf = params['pf_sensitivity']*head(t)\n",
    "    delta_cf = retinal_slip(t)\n",
    "    \n",
    "    if learn:\n",
    "        tau_w = params['tau_learn']\n",
    "    else:\n",
    "        tau_w = params['tau_post']\n",
    "    mf = params['mf_0'] + delta_mf\n",
    "    pf = params['pf_0'] + delta_pf\n",
    "    cf = params['cf_0'] + delta_cf\n",
    "    \n",
    "    w = y[0]\n",
    "    v = y[1]\n",
    "    \n",
    "    delta_pc = (w - params['w_i'])*pf\n",
    "    pc = delta_pc + params['pc_0']\n",
    "    \n",
    "    dydt = np.zeros(5)\n",
    "    dydt[0] = 1/tau_w * (-y[0] + params['k_LTP']*y[3] - params['k_LTD']*y[4])\n",
    "    dydt[1] = params['k_v']*(-y[2])\n",
    "    dydt[2] = 1/params['tau_mvn'] * (-y[2] + mf*delta_pc)\n",
    "    dydt[3] = 1/params['tau_f'] * (-y[3] + pf)\n",
    "    dydt[4] = 1/params['tau_f'] * (-y[4] + pf*cf)\n",
    "    \n",
    "    return dydt\n",
    "\n",
    "# Jacobian \n",
    "def heteroJac(t, y, head, retinal_slip, learn, params):\n",
    "    delta_mf = params['mf_sensitivity']*head(t)\n",
    "    \n",
    "    if learn:\n",
    "        tau_w = params['tau_learn']\n",
    "    else:\n",
    "        tau_w = params['tau_post']\n",
    "    mf = params['mf_0'] + delta_mf\n",
    "    \n",
    "    jac = -1/params['tau_f']*np.eye(5)\n",
    "    jac[0,:] = 1/tau_w*np.array([-1, 0, 0, params['k_LTP'], -params['k_LTD']])\n",
    "    jac[1,:] = params['k_v']*np.array([0, -1, 0, 0, 0])\n",
    "    jac[2,:] = 1/params['tau_mvn']*np.array([-mf, 0, -1, 0, 0])\n",
    "    \n",
    "    return jac"
   ]
  },
  {
   "cell_type": "markdown",
   "metadata": {},
   "source": [
    "# Simulation for Figure 1c"
   ]
  },
  {
   "cell_type": "code",
   "execution_count": 6,
   "metadata": {},
   "outputs": [],
   "source": [
    "## Time steps for plotting (ODE solver uses variable time steps)\n",
    "\n",
    "dt_learn = 1/3600 # h (= 1 s)\n",
    "dt_post = 60/3600 # h (= 1 min)"
   ]
  },
  {
   "cell_type": "code",
   "execution_count": 20,
   "metadata": {},
   "outputs": [],
   "source": [
    "T_learn = 0.5 # h\n",
    "\n",
    "T_post = 24 - T_learn # s\n",
    "\n",
    "t_learn = np.linspace(0, T_learn, int(T_learn/dt_learn))\n",
    "t_post = np.linspace(0, T_post, int(T_post/dt_post))\n",
    "\n",
    "# Initial condition\n",
    "# v(t=0) = 2.7 was calculated based on parameters above\n",
    "y_0 = np.array([params['w_i'], 2.7, 0, params['pf_0'], params['pf_0']*params['cf_0']])\n",
    "\n",
    "# Solution during the training period\n",
    "sol_learn = scipy.integrate.solve_ivp(lambda t,y: heterosynaptic(t,y, head_learn, rs_learn, True, params), [0, T_learn], y_0, \n",
    "                                  jac=lambda t,y: heteroJac(t,y,head_learn, rs_learn,True,params), method='Radau', dense_output=True)\n",
    "\n",
    "# Solution during the post-training period w/o input\n",
    "sol_no_input_post = scipy.integrate.solve_ivp(lambda t,y: heterosynaptic(t,y, head_post_no_input, rs_post, False, params), [0, T_post],sol_learn.sol(T_learn),\n",
    "                                  jac=lambda t,y: heteroJac(t,y,head_post_no_input, rs_post, False, params), method='Radau',dense_output=True)\n",
    "\n",
    "# Solution during the post-training period w/input\n",
    "sol_input_post = scipy.integrate.solve_ivp(lambda t,y: heterosynaptic(t,y, head_post_input, rs_post, False, params), [0,T_post],sol_learn.sol(T_learn),\n",
    "                                 jac=lambda t,y: heteroJac(t,y,head_post_input, rs_post, False, params), method='Radau',max_step=1/3600*0.5, dense_output=True)\n",
    "\n",
    "\n",
    "# Concatenate solution vectors over time\n",
    "\n",
    "y_learn = sol_learn.sol(t_learn)\n",
    "\n",
    "y_no_input = np.hstack((y_learn, sol_no_input_post.sol(t_post)))\n",
    "y_input = np.hstack((y_learn, sol_input_post.sol(t_post)))\n",
    "\n",
    "t_sol = np.concatenate((t_learn, T_learn+t_post))"
   ]
  },
  {
   "cell_type": "code",
   "execution_count": 21,
   "metadata": {},
   "outputs": [],
   "source": [
    "# Calculate the gain over time\n",
    "\n",
    "gain_no_input = params['k_eye']*(y_no_input[1,:]*params['mf_sensitivity']\n",
    "                        - (y_no_input[0,:]-params['w_i'])*params['w_pc_mvn']*params['pf_sensitivity'])\n",
    "\n",
    "gain_input = params['k_eye']*(y_input[1,:]*params['mf_sensitivity']\n",
    "                        - (y_input[0,:]-params['w_i'])*params['w_pc_mvn']*params['pf_sensitivity'])\n",
    "\n",
    "# gain achieved during training\n",
    "gain_learn = params['k_eye']*(y_learn[1,:]*params['mf_sensitivity'] \n",
    "                              - (y_learn[0,:]-params['w_i'])*params['w_pc_mvn']*params['pf_sensitivity'])"
   ]
  },
  {
   "cell_type": "code",
   "execution_count": 23,
   "metadata": {},
   "outputs": [
    {
     "data": {
      "image/png": "[encoded data removed]",
      "text/plain": [
       "<Figure size 252x108 with 2 Axes>"
      ]
     },
     "metadata": {
      "needs_background": "light"
     },
     "output_type": "display_data"
    }
   ],
   "source": [
    "plt.figure(figsize=(3.5,1.5))\n",
    "ax = plt.subplot(1,2,1)\n",
    "plt.plot([-3, 24], [0,0], c='k', ls='--', lw=0.5)\n",
    "plt.plot(t_sol, y_no_input[0,:]-1,lw=1)\n",
    "plt.plot(t_sol, (y_no_input[1,:]-y_no_input[1,0])/y_no_input[1,0], c='C3',lw=1, alpha=0.3)\n",
    "plt.plot(t_sol, (y_input[1,:]-y_input[1,0])/y_input[1,0], c='C3',lw=1)\n",
    "\n",
    "plt.ylim([-0.2, 0.4])\n",
    "plt.xlim([-3, 24])\n",
    "\n",
    "ax.set_xticks([0, 24])\n",
    "ax.set_xticks([12], minor=True)\n",
    "ax.set_xticklabels([0, 1])\n",
    "\n",
    "ax.spines['top'].set_visible(False)\n",
    "ax.spines['right'].set_visible(False)\n",
    "\n",
    "ax = plt.subplot(1,2,2)\n",
    "\n",
    "plt.plot(t_sol, gain_no_input/gain_no_input[0]-1, c=(0.5,0.5,0.5),lw=1)\n",
    "plt.plot(t_sol, gain_input/gain_input[0]-1, c='k',lw=1)\n",
    "plt.fill_between(t_sol, 0, params['k_eye']*params['mf_sensitivity']*y_input[1,:]/gain_input[0]-1, facecolor='C3',alpha=0.3)\n",
    "plt.fill_between(t_sol, params['k_eye']*params['mf_sensitivity']*y_input[1,:]/gain_input[0]-1,\n",
    "                 gain_input/gain_input[0]-1, facecolor='C0',alpha=0.3)\n",
    "\n",
    "plt.ylim([0, 0.4])\n",
    "plt.xlim([-3, 24])\n",
    "ax.set_xticks([0, 24])\n",
    "ax.set_xticks([12], minor=True)\n",
    "ax.set_xticklabels([0, 24])\n",
    "ax.spines['top'].set_visible(False)\n",
    "ax.spines['right'].set_visible(False)\n",
    "\n",
    "plt.tight_layout()"
   ]
  },
  {
   "cell_type": "markdown",
   "metadata": {},
   "source": [
    "# Simulation for Figure 2"
   ]
  },
  {
   "cell_type": "code",
   "execution_count": 39,
   "metadata": {},
   "outputs": [],
   "source": [
    "def simulateTraining(y0, T_learn, T_post, head_learn, head_post, rs_learn, rs_post, params, \n",
    "                     dt_learn = 1/3600, dt_post = 60/3600, returnSeparate=False):\n",
    "    '''Simulate a training and post-training period. \n",
    "    y0: initial condition\n",
    "    T_learn: time (h) of training period\n",
    "    T_post: time (h) of post-training period\n",
    "    head_learn: function taking one argument (t) and returning head velocity at t during the training period\n",
    "    head_post: function taking one argument (t) and returning head velocity at t during the post-training period\n",
    "    rs_learn: function taking one argument (t) and returning retinal slip velocity at t during the training period\n",
    "    rs_post: function taking one argument (t) and returning retinal slip velocity at t during the post-training period\n",
    "    params: physiological parameters list\n",
    "    dt_learn: training time step (for plotting)\n",
    "    dt_post: post-training time step (for plotting)\n",
    "    returnSeparate: if True, returns separate variables for the training and post-training periods\n",
    "    '''\n",
    "    \n",
    "    t_learn = np.arange(0, int(T_learn/dt_learn))*dt_learn\n",
    "    t_post = np.arange(0, int(T_post/dt_post))*dt_post\n",
    "\n",
    "    sol_learn = scipy.integrate.solve_ivp(lambda t,y: heterosynaptic(t,y, head_learn, rs_learn, True, params), [0, T_learn], y0, \n",
    "                                      jac=lambda t,y: heteroJac(t,y,head_learn, rs_learn,True,params), method='Radau', dense_output=True)\n",
    "\n",
    "    sol_post = scipy.integrate.solve_ivp(lambda t,y: heterosynaptic(t,y, head_post, rs_post, False, params), [0,T_post],sol_learn.sol(T_learn),\n",
    "                                      jac=lambda t,y: heteroJac(t,y,head_post, rs_post, False, params), method='Radau', dense_output=True)\n",
    "\n",
    "\n",
    "    if returnSeparate:\n",
    "        return t_learn, sol_learn.sol(t_learn), t_post+T_learn, sol_post.sol(t_post)\n",
    "    else:\n",
    "        y_sol = np.hstack((sol_learn.sol(t_learn), sol_post.sol(t_post)))\n",
    "        t_sol = np.concatenate((t_learn, T_learn+t_post))\n",
    "        return t_sol, y_sol"
   ]
  },
  {
   "cell_type": "code",
   "execution_count": 26,
   "metadata": {},
   "outputs": [],
   "source": [
    "y0 = np.array([params['w_i'], 2.7, 0, params['pf_0'], params['pf_0']*params['cf_0']]) "
   ]
  },
  {
   "cell_type": "code",
   "execution_count": 112,
   "metadata": {},
   "outputs": [],
   "source": [
    "perfect_gain_slope = params['w_pc_mvn']*params['pf_sensitivity']/params['mf_sensitivity']"
   ]
  },
  {
   "cell_type": "code",
   "execution_count": 113,
   "metadata": {},
   "outputs": [],
   "source": [
    "# k_v expected from theory that would give rise to complete consolidation (assuming tau_mvn fast)\n",
    "\n",
    "ideal_max_k_v = perfect_gain_slope/(params['tau_post']*params['mf_0']*params['pf_0'])"
   ]
  },
  {
   "cell_type": "markdown",
   "metadata": {},
   "source": [
    "## Complete consolidation"
   ]
  },
  {
   "cell_type": "code",
   "execution_count": 35,
   "metadata": {},
   "outputs": [],
   "source": [
    "# Make a copy of the parameters that can be altered separately\n",
    "params_complete = copy.deepcopy(params)"
   ]
  },
  {
   "cell_type": "code",
   "execution_count": 36,
   "metadata": {},
   "outputs": [],
   "source": [
    "params_complete['k_v'] = 0.8*ideal_max_k_v\n",
    "params_complete['tau_mvn'] = params['tau_f'] # params['tau_mvn']"
   ]
  },
  {
   "cell_type": "code",
   "execution_count": 73,
   "metadata": {},
   "outputs": [],
   "source": [
    "t_phase_learn_complete, y_phase_learn_complete, t_phase_post_complete, y_phase_post_complete = simulateTraining(y0, 0.5, 23.5, head_learn, head_post_no_input, \n",
    "                                                                                                    rs_learn, rs_post, params_complete, returnSeparate=True)\n"
   ]
  },
  {
   "cell_type": "code",
   "execution_count": 74,
   "metadata": {},
   "outputs": [],
   "source": [
    "gain_phase_learn_complete = params['k_eye']*(y_phase_learn_complete[1,:]*params['mf_sensitivity']\n",
    "                        - (y_phase_learn_complete[0,:]-params['w_i'])*params['w_pc_mvn']*params['pf_sensitivity'])\n",
    "\n",
    "gain_phase_post_complete = params['k_eye']*(y_phase_post_complete[1,:]*params['mf_sensitivity']\n",
    "                        - (y_phase_post_complete[0,:]-params['w_i'])*params['w_pc_mvn']*params['pf_sensitivity'])"
   ]
  },
  {
   "cell_type": "code",
   "execution_count": 48,
   "metadata": {},
   "outputs": [],
   "source": [
    "ww, vv = np.meshgrid(np.array([-0.15, -0.09, -0.03, 0.03, 0.09, 0.15]), np.linspace(1.9, 3.5, 4))"
   ]
  },
  {
   "cell_type": "code",
   "execution_count": 50,
   "metadata": {},
   "outputs": [],
   "source": [
    "dw = 1/params['tau_post']*(-ww)\n",
    "dv = -params_complete['k_v']*(params['mf_0']*params['pf_0'])*ww\n",
    "\n",
    "dw_norm = dw/np.sqrt(dw**2+dv**2)\n",
    "dv_norm = dv/np.sqrt(dw**2+dv**2)"
   ]
  },
  {
   "cell_type": "code",
   "execution_count": 75,
   "metadata": {},
   "outputs": [
    {
     "data": {
      "image/png": "[encoded data removed]",
      "text/plain": [
       "<Figure size 108x108 with 1 Axes>"
      ]
     },
     "metadata": {
      "needs_background": "light"
     },
     "output_type": "display_data"
    }
   ],
   "source": [
    "plt.figure(figsize=(1.5,1.5))\n",
    "plt.quiver(ww, vv, dw_norm, dv_norm, pivot='middle', scale=10, angles='xy', color=(0.7, 0.7, 0.7, 1))\n",
    "\n",
    "plt.plot(y_phase_learn_complete[0,:]-params['w_i'], y_phase_learn_complete[1,:], c='C1')\n",
    "plt.plot(y_phase_post_complete[0,:]-params['w_i'], y_phase_post_complete[1,:], c='k')\n",
    "\n",
    "# Plot perfect consolidation line\n",
    "plt.plot([-0.18, 0.15], (np.array([-0.18,0.15])*params['w_pc_mvn']*params['pf_sensitivity'] + gain_phase_learn_complete[-1]/params['k_eye'])/params['mf_sensitivity'],\n",
    "        c=(0.5, 0.5, 0.5))\n",
    "\n",
    "# Plot attractor\n",
    "plt.plot([0, 0], [1.7, 3.7], c='k', lw=1)\n",
    "\n",
    "plt.ylim([1.7,3.7])\n",
    "plt.xlim([-0.18, 0.18])\n",
    "\n",
    "ax = plt.gca()\n",
    "ax.set_xticks([-0.15, 0, 0.15])\n",
    "ax.set_yticks([1.7, 2.7, 3.7]);"
   ]
  },
  {
   "cell_type": "markdown",
   "metadata": {},
   "source": [
    "### Perturbation simulation\n",
    "\n",
    "We simulated the effect of perturbations of random magnitude to the value of the early-learning weight, made regularly every 10 min (in simulation time) for a total of 10 hours (i.e., 60 perturbations). Parameters were as above for the post-training period. We then calculated the distribution of the final value of each of 250 sample paths. "
   ]
  },
  {
   "cell_type": "code",
   "execution_count": 60,
   "metadata": {},
   "outputs": [],
   "source": [
    "noise_len = 10/60 # h (= 10 min)\n",
    "trial_len = 10 # h\n",
    "num_perturbations = int(trial_len/noise_len) # total number of perturbations\n",
    "trials = 250 # number of sample paths\n",
    "\n",
    "noisy_input =  0.2*(np.random.rand(trials, num_perturbations)-0.5)"
   ]
  },
  {
   "cell_type": "code",
   "execution_count": null,
   "metadata": {},
   "outputs": [],
   "source": [
    "noise_ends_complete = np.zeros((5,trials)) # value at the end of sample paths\n",
    "\n",
    "t_noise = np.arange(0, noise_len/(dt_learn),1)*(dt_learn) # time vector between perturbations\n",
    "t_noise_total = np.arange(0, trial_len/dt_learn, 1)*dt_learn # full time vector for a sample path\n",
    "y_noise_complete = np.zeros((trials, 2, len(t_noise_total)))\n",
    "\n",
    "y0 = np.array([params['w_i'], 2.7, 0, params['pf_0'], params['pf_0']*params['cf_0']]) \n",
    "\n",
    "for t in tqdm.notebook.trange(trials, desc='Trial'):\n",
    "    y0_noisy = np.copy(y0)\n",
    "    y_noise_temp = np.zeros((num_perturbations, 5, len(t_noise))) # temporary array for this trial\n",
    "    \n",
    "    for b in tqdm.notebook.trange(num_perturbations, desc='Perturbation', leave=False):\n",
    "        y0_noisy[0] += noisy_input[t,b]\n",
    "        sol_learn_noisy = scipy.integrate.solve_ivp(lambda t,y: heterosynaptic(t,y, head_post_input, rs_post, False, params_complete), [0, noise_len], y0_noisy, \n",
    "                                      jac=lambda t,y: heteroJac(t,y,head_post_input, rs_post,False,params_complete), method='Radau', dense_output=True)\n",
    "        y_noise_temp[b,:,:] = sol_learn_noisy.sol(t_noise)\n",
    "        y0_noisy = sol_learn_noisy.sol(noise_len)\n",
    "    noise_ends_complete[:,t] = np.copy(y0_noisy)\n",
    "    \n",
    "    y_noise_complete[t,0,:] = np.concatenate((y_noise_temp[:,0,:]))\n",
    "    y_noise_complete[t,1,:] = np.concatenate((y_noise_temp[:,1,:]))"
   ]
  },
  {
   "cell_type": "code",
   "execution_count": 139,
   "metadata": {},
   "outputs": [],
   "source": [
    "# To plot the figure as in our manuscript, load our simulation results:\n",
    "\n",
    "y_noise_complete_example = np.load('files/noisy_trials_example_complete.npy')\n",
    "noise_ends_complete = np.load('files/noisy_trials_complete_ends.npy')"
   ]
  },
  {
   "cell_type": "code",
   "execution_count": 140,
   "metadata": {},
   "outputs": [
    {
     "data": {
      "image/png": "[encoded data removed]",
      "text/plain": [
       "<Figure size 108x108 with 1 Axes>"
      ]
     },
     "metadata": {
      "needs_background": "light"
     },
     "output_type": "display_data"
    }
   ],
   "source": [
    "plt.figure(figsize=(1.5,1.5))\n",
    "cmap = matplotlib.cm.get_cmap('viridis')\n",
    "\n",
    "noise_total = num_perturbations\n",
    "c_ = np.linspace(0,1,noise_total)\n",
    "for i in range(noise_total):\n",
    "    start_ = int(noise_len/dt_learn) * i\n",
    "    end_ = int(noise_len/dt_learn) * (i+1)\n",
    "    plt.plot(y_noise_complete_example[0,start_:end_+1]-1, y_noise_complete_example[1,start_:end_+1], c=cmap(c_[i]),lw=0.75)\n",
    "\n",
    "ylims = [1.7, 3.7]\n",
    "plt.plot([0,0],ylims,'k', lw=1)\n",
    "xlims = [-0.36, 0.36] \n",
    "ylimrange = ylims[1]-ylims[0]\n",
    "xlimrange = xlims[1]-xlims[0]\n",
    "\n",
    "plt.ylim(ylims)\n",
    "plt.xlim(xlims)\n",
    "\n",
    "ww_phase, vv_phase = np.meshgrid(xlims[0] + np.linspace(0.1,0.9,6)*xlimrange,ylims[0] + np.linspace(0.1,0.9,4)*ylimrange)\n",
    "dw_phase = 1/params['tau_post']*(-ww_phase)\n",
    "dv_phase = -params_complete['k_v']*(params['mf_0']*params['pf_0'])*ww_phase\n",
    "\n",
    "dw_phase_norm = dw_phase/np.sqrt(dw_phase**2+dv_phase**2)\n",
    "dv_phase_norm = dv_phase/np.sqrt(dw_phase**2+dv_phase**2)\n",
    "\n",
    "plt.quiver(ww_phase, vv_phase, dw_phase_norm, dv_phase_norm, pivot='middle', scale=10, angles='xy', color=(0.7, 0.7, 0.7, 1))\n",
    "\n",
    "\n",
    "ax = plt.gca()\n",
    "\n",
    "ax.set_yticks([1.7, 2.7, 3.7]);"
   ]
  },
  {
   "cell_type": "code",
   "execution_count": 586,
   "metadata": {},
   "outputs": [],
   "source": [
    "gain_noise = params['k_eye']*(noise_ends[1,:]*params['mf_sensitivity']\n",
    "                        - (noise_ends[0,:]-1)*params['w_pc_mvn']*params['pf_sensitivity'])"
   ]
  },
  {
   "cell_type": "code",
   "execution_count": 86,
   "metadata": {},
   "outputs": [],
   "source": [
    "# Histogram bins for Fig. 2c, bottom\n",
    "\n",
    "edges = np.arange(0,16,1)*0.42 - 0.45"
   ]
  },
  {
   "cell_type": "code",
   "execution_count": 87,
   "metadata": {},
   "outputs": [],
   "source": [
    "complete_counts, complete_edges = np.histogram(noise_ends_complete[1,:], edges)"
   ]
  },
  {
   "cell_type": "markdown",
   "metadata": {},
   "source": [
    "## Incomplete consolidation"
   ]
  },
  {
   "cell_type": "code",
   "execution_count": 70,
   "metadata": {},
   "outputs": [],
   "source": [
    "params_incomplete = copy.deepcopy(params)"
   ]
  },
  {
   "cell_type": "code",
   "execution_count": 71,
   "metadata": {},
   "outputs": [],
   "source": [
    "params_incomplete['k_v'] = 0.2*ideal_max_k_v\n",
    "params_incomplete['tau_mvn'] = params['tau_f']"
   ]
  },
  {
   "cell_type": "code",
   "execution_count": 78,
   "metadata": {},
   "outputs": [],
   "source": [
    "t_phase_learn_incomplete, y_phase_learn_incomplete, t_phase_post_incomplete, y_phase_post_incomplete = simulateTraining(y0, 0.5, 23.5, \n",
    "                                                                                              head_learn, head_post_no_input, \n",
    "                                                                                              rs_learn, rs_post, params_incomplete, returnSeparate=True)"
   ]
  },
  {
   "cell_type": "code",
   "execution_count": 79,
   "metadata": {},
   "outputs": [],
   "source": [
    "gain_phase_learn_incomplete = params['k_eye']*(y_phase_learn_incomplete[1,:]*params['mf_sensitivity']\n",
    "                        - (y_phase_learn_incomplete[0,:]-1)*params['w_pc_mvn']*params['pf_sensitivity'])\n",
    "\n",
    "gain_phase_post_incomplete = params['k_eye']*(y_phase_post_incomplete[1,:]*params['mf_sensitivity']\n",
    "                        - (y_phase_post_incomplete[0,:]-1)*params['w_pc_mvn']*params['pf_sensitivity'])"
   ]
  },
  {
   "cell_type": "code",
   "execution_count": 80,
   "metadata": {},
   "outputs": [],
   "source": [
    "ww, vv = np.meshgrid(np.array([-0.15, -0.09, -0.03, 0.03, 0.09, 0.15]), np.linspace(1.9, 3.5, 4))"
   ]
  },
  {
   "cell_type": "code",
   "execution_count": 82,
   "metadata": {},
   "outputs": [],
   "source": [
    "dw = 1/params['tau_post']*(-ww)\n",
    "dv = -params_incomplete['k_v']*(params['mf_0']*params['pf_0'])*ww\n",
    "\n",
    "dw_norm = dw/np.sqrt(dw**2+dv**2)\n",
    "dv_norm = dv/np.sqrt(dw**2+dv**2)"
   ]
  },
  {
   "cell_type": "code",
   "execution_count": 83,
   "metadata": {
    "scrolled": true
   },
   "outputs": [
    {
     "data": {
      "image/png": "[encoded data removed]",
      "text/plain": [
       "<Figure size 108x108 with 1 Axes>"
      ]
     },
     "metadata": {
      "needs_background": "light"
     },
     "output_type": "display_data"
    }
   ],
   "source": [
    "plt.figure(figsize=(1.5,1.5))\n",
    "plt.quiver(ww, vv, dw_norm, dv_norm, pivot='middle', scale=10, angles='xy', color=(0.7, 0.7, 0.7, 1))\n",
    "\n",
    "plt.plot(y_phase_learn_incomplete[0,:]-1, y_phase_learn_incomplete[1,:], c='C1')\n",
    "plt.plot(y_phase_post_incomplete[0,:]-1, y_phase_post_incomplete[1,:], c='k')\n",
    "\n",
    "# Plot perfect consolidation line\n",
    "plt.plot([-0.18, 0.15], (np.array([-0.18,0.15])*params['w_pc_mvn']*params['pf_sensitivity'] + gain_phase_learn_incomplete[-1]/params['k_eye'])/params['mf_sensitivity'],\n",
    "        c=(0.5, 0.5, 0.5))\n",
    "\n",
    "# Plot attractor\n",
    "plt.plot([0, 0], [1.7, 3.7], c='k', lw=1)\n",
    "\n",
    "plt.ylim([1.7,3.7])\n",
    "plt.xlim([-0.18, 0.18])\n",
    "\n",
    "ax = plt.gca()\n",
    "ax.set_xticks([-0.15, 0, 0.15])\n",
    "ax.set_yticks([1.7, 2.7, 3.7]);"
   ]
  },
  {
   "cell_type": "code",
   "execution_count": null,
   "metadata": {},
   "outputs": [],
   "source": [
    "noise_ends_incomplete = np.zeros((5,trials)) # value at the end of sample paths\n",
    "\n",
    "t_noise = np.arange(0, noise_len/(dt_learn),1)*(dt_learn) # time vector between perturbations\n",
    "t_noise_total = np.arange(0, trial_len/dt_learn, 1)*dt_learn # full time vector for a sample path\n",
    "y_noise_incomplete = np.zeros((trials, 2, len(t_noise_total)))\n",
    "\n",
    "y0 = np.array([params['w_i'], 2.7, 0, params['pf_0'], params['pf_0']*params['cf_0']]) \n",
    "\n",
    "for t in tqdm.notebook.trange(trials, desc='Trial'):\n",
    "    y0_noisy = np.copy(y0)\n",
    "    y_noise_temp = np.zeros((num_perturbations, 5, len(t_noise))) # temporary array for this trial\n",
    "    \n",
    "    for b in tqdm.notebook.trange(num_perturbations, desc='Perturbation', leave=False):\n",
    "        y0_noisy[0] += noisy_input[t,b]\n",
    "        sol_learn_noisy = scipy.integrate.solve_ivp(lambda t,y: heterosynaptic(t,y, head_post_input, rs_post, False, params_incomplete), [0, noise_len], y0_noisy, \n",
    "                                      jac=lambda t,y: heteroJac(t,y,head_post_input, rs_post,False,params_incomplete), method='Radau', dense_output=True)\n",
    "        y_noise_temp[b,:,:] = sol_learn_noisy.sol(t_noise)\n",
    "        y0_noisy = sol_learn_noisy.sol(noise_len)\n",
    "    noise_ends_incomplete[:,t] = np.copy(y0_noisy)\n",
    "    \n",
    "    y_noise_incomplete[t,0,:] = np.concatenate((y_noise_temp[:,0,:]))\n",
    "    y_noise_incomplete[t,1,:] = np.concatenate((y_noise_temp[:,1,:]))"
   ]
  },
  {
   "cell_type": "code",
   "execution_count": 141,
   "metadata": {},
   "outputs": [],
   "source": [
    "# To plot the figure as in our manuscript, load our simulation results:\n",
    "\n",
    "y_noise_incomplete_example = np.load('files/noisy_trials_example_incomplete.npy')\n",
    "noise_ends_incomplete = np.load('files/noisy_trials_incomplete_ends.npy')"
   ]
  },
  {
   "cell_type": "code",
   "execution_count": 88,
   "metadata": {},
   "outputs": [],
   "source": [
    "incomplete_counts, incomplete_edges = np.histogram(noise_ends_incomplete[1,:], edges)"
   ]
  },
  {
   "cell_type": "code",
   "execution_count": 94,
   "metadata": {},
   "outputs": [],
   "source": [
    "centers = edges[:-1] + 0.5*(edges[1:]-edges[:-1])"
   ]
  },
  {
   "cell_type": "code",
   "execution_count": 95,
   "metadata": {
    "scrolled": true
   },
   "outputs": [
    {
     "data": {
      "text/plain": [
       "(0.0, 0.5)"
      ]
     },
     "execution_count": 95,
     "metadata": {},
     "output_type": "execute_result"
    },
    {
     "data": {
      "image/png": "[encoded data removed]",
      "text/plain": [
       "<Figure size 36x108 with 1 Axes>"
      ]
     },
     "metadata": {
      "needs_background": "light"
     },
     "output_type": "display_data"
    }
   ],
   "source": [
    "plt.figure(figsize=(0.5,1.5))\n",
    "plt.barh(centers, complete_counts/np.sum(complete_counts), complete_edges[1]-complete_edges[0], alpha=0.3, facecolor='C3', lw=0.5)\n",
    "plt.barh(centers, incomplete_counts/np.sum(incomplete_counts), complete_edges[1]-complete_edges[0], edgecolor='C3', facecolor='None')\n",
    "\n",
    "# Plot lines at 1.7 and 3.7 (boundaries of axis in Fig. 2a,b)\n",
    "# plt.plot([0, 0.5], [1.7, 1.7], c='k')\n",
    "# plt.plot([0, 0.5], [3.7, 3.7], c='k')\n",
    "\n",
    "ax = plt.gca()\n",
    "ax.spines['top'].set_visible(False)\n",
    "ax.spines['right'].set_visible(False)\n",
    "\n",
    "ax.set_xticks([0, 0.25, 0.5])\n",
    "ax.set_yticks([0, 2.7, 5.4])\n",
    "plt.xlim([0, 0.5])\n"
   ]
  },
  {
   "cell_type": "code",
   "execution_count": 142,
   "metadata": {},
   "outputs": [
    {
     "data": {
      "image/png": "[encoded data removed]",
      "text/plain": [
       "<Figure size 108x108 with 1 Axes>"
      ]
     },
     "metadata": {
      "needs_background": "light"
     },
     "output_type": "display_data"
    }
   ],
   "source": [
    "plt.figure(figsize=(1.5,1.5))\n",
    "cmap = matplotlib.cm.get_cmap('viridis')\n",
    "\n",
    "noise_total = num_perturbations\n",
    "c_ = np.linspace(0,1,noise_total)\n",
    "for i in range(noise_total):\n",
    "    start_ = int(noise_len/dt_learn) * i\n",
    "    end_ = int(noise_len/dt_learn) * (i+1)\n",
    "    plt.plot(y_noise_incomplete_example[0,start_:end_+1]-1, y_noise_incomplete_example[1,start_:end_+1], c=cmap(c_[i]),lw=0.75)\n",
    "\n",
    "ylims = [1.7, 3.7]\n",
    "plt.plot([0,0],ylims,'k', lw=1)\n",
    "xlims = [-0.36, 0.36]\n",
    "ylimrange = ylims[1]-ylims[0]\n",
    "xlimrange = xlims[1]-xlims[0]\n",
    "\n",
    "plt.ylim(ylims)\n",
    "plt.xlim(xlims)\n",
    "\n",
    "ww_phase, vv_phase = np.meshgrid(xlims[0] + np.linspace(0.1,0.9,6)*xlimrange,ylims[0] + np.linspace(0.1,0.9,4)*ylimrange)\n",
    "dw_phase = 1/params['tau_post']*(-ww_phase)\n",
    "dv_phase = -params_incomplete['k_v']*(params['mf_0']*params['pf_0'])*ww_phase\n",
    "\n",
    "dw_phase_norm = dw_phase/np.sqrt(dw_phase**2+dv_phase**2)\n",
    "dv_phase_norm = dv_phase/np.sqrt(dw_phase**2+dv_phase**2)\n",
    "\n",
    "plt.quiver(ww_phase, vv_phase, dw_phase_norm, dv_phase_norm, pivot='middle', scale=10, angles='xy', color=(0.7, 0.7, 0.7, 1))\n",
    "\n",
    "\n",
    "ax = plt.gca()\n",
    "\n",
    "ax.set_yticks([1.7, 2.7, 3.7]);"
   ]
  },
  {
   "cell_type": "markdown",
   "metadata": {},
   "source": [
    "# Repeated training, for Figure 3"
   ]
  },
  {
   "cell_type": "code",
   "execution_count": null,
   "metadata": {
    "scrolled": true
   },
   "outputs": [],
   "source": [
    "days = 3\n",
    "y_repeated_temp = []\n",
    "y0_repeated = np.array([params['w_i'], 2.7, 0, params['pf_0'], params['pf_0']*params['cf_0']]) \n",
    "\n",
    "for d in tqdm.notebook.trange(days):\n",
    "    t_, y_ = simulateTraining(y0_repeated, 0.5, 23.5, head_learn, head_post_no_input, \n",
    "                              rs_learn, rs_post, params)\n",
    "    y_repeated_temp.append(y_)\n",
    "    y0_repeated = y_[:,-1]"
   ]
  },
  {
   "cell_type": "code",
   "execution_count": 109,
   "metadata": {},
   "outputs": [],
   "source": [
    "w_repeated = np.concatenate([y_repeated_temp[d][0,:] for d in range(days)])\n",
    "v_repeated = np.concatenate([y_repeated_temp[d][1,:] for d in range(days)])"
   ]
  },
  {
   "cell_type": "code",
   "execution_count": 110,
   "metadata": {},
   "outputs": [],
   "source": [
    "t_repeated = np.concatenate([t_ + 24*d for d in range(days)])"
   ]
  },
  {
   "cell_type": "code",
   "execution_count": 111,
   "metadata": {},
   "outputs": [
    {
     "data": {
      "image/png": "[encoded data removed]",
      "text/plain": [
       "<Figure size 216x108 with 2 Axes>"
      ]
     },
     "metadata": {
      "needs_background": "light"
     },
     "output_type": "display_data"
    }
   ],
   "source": [
    "plt.figure(figsize=(3,1.5))\n",
    "ax=plt.subplot(2,1,1)\n",
    "\n",
    "plt.plot(t_repeated/24, v_repeated-v_repeated[0], c='C3', clip_on=False, lw=1)\n",
    "plt.xlim([-0.13, 3])\n",
    "\n",
    "ax.xaxis.set_visible(False)\n",
    "\n",
    "ax.spines['top'].set_visible(False)\n",
    "ax.spines['bottom'].set_visible(False)\n",
    "ax.spines['right'].set_visible(False)\n",
    "\n",
    "plt.ylim([0, 2])\n",
    "\n",
    "ax = plt.subplot(2,1,2)\n",
    "plt.plot([-0.2, 3], [0,0],c='k', ls='--', lw=0.5)\n",
    "plt.plot(t_repeated/24, -(w_repeated - w_repeated[0]), clip_on=False, lw=1)\n",
    "plt.xlim([-0.13, 3])\n",
    "\n",
    "ax.spines['top'].set_visible(False)\n",
    "ax.spines['right'].set_visible(False)\n",
    "\n",
    "plt.ylim([0, 0.15])\n",
    "ax.set_yticks([0, 0.075, 0.15])\n",
    "ax.set_yticklabels([0, '', 0.15]);"
   ]
  },
  {
   "cell_type": "markdown",
   "metadata": {},
   "source": [
    "# Lyapunov function for Figure 3"
   ]
  },
  {
   "cell_type": "code",
   "execution_count": 115,
   "metadata": {},
   "outputs": [],
   "source": [
    "ww, vv = np.meshgrid(np.linspace(-0.1, 0.1, 200), np.linspace(0.85, 1.15, 200))"
   ]
  },
  {
   "cell_type": "code",
   "execution_count": 132,
   "metadata": {},
   "outputs": [],
   "source": [
    "k_v = 8.2715e-5"
   ]
  },
  {
   "cell_type": "code",
   "execution_count": 134,
   "metadata": {},
   "outputs": [],
   "source": [
    "# Simplified version of heterosynaptic dynamics (Methods, Analysis of synaptic learning dynamics)\n",
    "def heteroSimple(t, y):\n",
    "\n",
    "    w = y[0]\n",
    "    v = y[1]\n",
    "    \n",
    "    delta_pc = (w - params['w_i'])*params['mf_0']\n",
    "    \n",
    "    dydt = np.zeros(2)\n",
    "    dydt[0] = 1/params['tau_post'] * (-w + params['w_i'])\n",
    "    dydt[1] = k_v*(-params['mf_0']*delta_pc)\n",
    "    return dydt\n",
    "\n",
    "def heteroSimpleJac(t,y):\n",
    "    jac = np.array([[-1/params['tau_post'], 0],[-params['mf_0']**2*k_v,0]])\n",
    "    return jac"
   ]
  },
  {
   "cell_type": "code",
   "execution_count": 135,
   "metadata": {},
   "outputs": [
    {
     "name": "stderr",
     "output_type": "stream",
     "text": [
      "/Users/jbhasin/opt/anaconda3/lib/python3.7/site-packages/scipy/integrate/_ivp/common.py:40: UserWarning: The following arguments have no effect for a chosen solver: `jac`.\n",
      "  .format(\", \".join(\"`{}`\".format(x) for x in extraneous)))\n"
     ]
    }
   ],
   "source": [
    "T_lyapunov = 23.5\n",
    "t_lyapunov = np.arange(0, T_lyapunov//0.25, 1)*0.25\n",
    "\n",
    "trajectories_0 = np.array([[0.9, 0.875],\n",
    "                         [1.1, 1.025],\n",
    "                         [0.9, 0.975],\n",
    "                         [1.1, 1.125],\n",
    "])\n",
    "\n",
    "trajectories = np.zeros((4, 2, len(t_lyapunov)))\n",
    "for i in range(4):\n",
    "    sol = scipy.integrate.solve_ivp(lambda t,y: heteroSimple(t,y), [0,T_lyapunov],trajectories_0[i,:],\n",
    "                                          jac=lambda t,y: heteroSimpleJac(t,y),dense_output=True)\n",
    "    sol_ = sol.sol(t_lyapunov)\n",
    "    trajectories[i,0,:] = sol_[0,:]-1\n",
    "    trajectories[i,1,:] = sol_[1,:]"
   ]
  },
  {
   "cell_type": "code",
   "execution_count": 138,
   "metadata": {},
   "outputs": [
    {
     "data": {
      "image/png": "[encoded data removed]",
      "text/plain": [
       "<Figure size 108x108 with 1 Axes>"
      ]
     },
     "metadata": {},
     "output_type": "display_data"
    }
   ],
   "source": [
    "fig = plt.figure(figsize=(1.5, 1.5))\n",
    "z_offset = -0.002\n",
    "ax = fig.gca(projection='3d')\n",
    "\n",
    "plt.plot([0,]*2,[0.85, 1.15],[z_offset, ]*2,'k',lw=1)\n",
    "\n",
    "ax.plot_wireframe(ww, vv, dw**2+dv**2,color=(0.5,0.5,0.5),cstride=100,rstride=200,\n",
    "                       linewidth=1)\n",
    "\n",
    "for i in range(4):\n",
    "    w_ = trajectories[i,0,:]\n",
    "    v_ = trajectories[i,1,:]\n",
    "    dw_ = -1/params['tau_post']*w_\n",
    "    dv_ = -k_v*(params['mf_0']**2)*w_\n",
    "    ax.plot(w_, v_, z_offset*np.ones(len(t_lyapunov)), color='k', lw=1)\n",
    "    ax.plot(w_,v_, dw_**2+dv_**2, color='k')\n",
    "\n",
    "ax.grid(b=None)\n",
    "ax.xaxis.set_pane_color((1.0, 1.0, 1.0, 0.0))\n",
    "ax.yaxis.set_pane_color((1.0, 1.0, 1.0, 0.0))\n",
    "ax.zaxis.set_pane_color((1.0, 1.0, 1.0, 0.0))\n",
    "ax.set_zticks([]);\n",
    "ax.set_yticks([]);\n",
    "ax.set_xticks([]);\n",
    "ax.w_zaxis.line.set_lw(0.)\n",
    "zlims = ax.get_zlim();\n",
    "ax.set_zlim([z_offset, zlims[1]])\n",
    "ax.set_ylim([0.85, 1.15])\n",
    "ax.set_xlim([-0.12, 0.12])\n",
    "\n",
    "\n",
    "ax.view_init(25, 90-30)\n",
    "\n",
    "plt.subplots_adjust(left=0.02, right=0.98, bottom=0.02, top=0.98);"
   ]
  }
 ],
 "metadata": {
  "kernelspec": {
   "display_name": "Python 3",
   "language": "python",
   "name": "python3"
  },
  "language_info": {
   "codemirror_mode": {
    "name": "ipython",
    "version": 3
   },
   "file_extension": ".py",
   "mimetype": "text/x-python",
   "name": "python",
   "nbconvert_exporter": "python",
   "pygments_lexer": "ipython3",
   "version": "3.7.7"
  }
 },
 "nbformat": 4,
 "nbformat_minor": 4
}
