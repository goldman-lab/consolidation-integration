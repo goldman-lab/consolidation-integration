{
 "cells": [
  {
   "cell_type": "code",
   "execution_count": 1,
   "metadata": {},
   "outputs": [],
   "source": [
    "import numpy as np\n",
    "import matplotlib\n",
    "\n",
    "# Embed fonts into PDF/PS files\n",
    "matplotlib.rcParams['pdf.fonttype'] = 42\n",
    "matplotlib.rcParams['ps.fonttype'] = 42\n",
    "\n",
    "import matplotlib.pyplot as plt\n",
    "%matplotlib inline\n",
    "\n",
    "import matplotlib.colors\n",
    "\n",
    "import scipy.integrate\n",
    "\n",
    "# Progress bars\n",
    "import tqdm.notebook\n",
    "\n",
    "# to make copies of arrays\n",
    "import copy"
   ]
  },
  {
   "cell_type": "code",
   "execution_count": 2,
   "metadata": {},
   "outputs": [],
   "source": [
    "import scipy.optimize"
   ]
  },
  {
   "cell_type": "code",
   "execution_count": 3,
   "metadata": {},
   "outputs": [],
   "source": [
    "matplotlib.rcParams.update({'font.size': 7, 'axes.linewidth': 0.5, 'xtick.major.width': 0.5, 'xtick.minor.width': 0.5, \n",
    "                            'ytick.major.width': 0.5,'ytick.minor.width': 0.5, 'xtick.major.pad':2,'ytick.major.pad':2})\n",
    "matplotlib.rcParams.update({'font.family':'sans-serif','font.sans-serif':['Arial']})"
   ]
  },
  {
   "cell_type": "code",
   "execution_count": 4,
   "metadata": {},
   "outputs": [],
   "source": [
    "def make_rgb_transparent(rgb, bg_rgb, alpha):\n",
    "    return [alpha * c1 + (1 - alpha) * c2\n",
    "            for (c1, c2) in zip(rgb, bg_rgb)]"
   ]
  },
  {
   "cell_type": "markdown",
   "metadata": {},
   "source": [
    "# Define parameters"
   ]
  },
  {
   "cell_type": "code",
   "execution_count": 5,
   "metadata": {},
   "outputs": [
    {
     "data": {
      "text/plain": [
       "0.4235228205522715"
      ]
     },
     "execution_count": 5,
     "metadata": {},
     "output_type": "execute_result"
    }
   ],
   "source": [
    "# Data taken from Arenz et al. 2008, Fig. 1G\n",
    "arenz_data = np.array([[9.92689248942709, 4.122790122862343],\n",
    "                        [20.021881428338318, 8.354626263598984],\n",
    "                        [29.872911166215914, 13.083689775915978]])\n",
    "\n",
    "np.mean(arenz_data[:,1]/arenz_data[:,0])"
   ]
  },
  {
   "cell_type": "code",
   "execution_count": 5,
   "metadata": {},
   "outputs": [],
   "source": [
    "## Physiological parameters\n",
    "# see Materials and Methods for bibliographic information on sources\n",
    "\n",
    "# mvn head sensitvity in the light: 0.38 sp/s / deg/s for ~0.85 gain -- Beraneck & Cullen 2007\n",
    "# => k_eye ~= 2.2\n",
    "\n",
    "# Eye movement response to optogenetic stimulation (Payne et al. 2019)\n",
    "# ~0.1 deg/s / sp/s = k_eye * w_PC => w_PC ~= 0.05\n",
    "\n",
    "# average learning in one day ~20-40% (Kimpo et al. 2014, Boyden & Raymond 2003)\n",
    "# delta w ~= delta g/g_0 * v_0*k_MF / w_pc_mvn*k_PF\n",
    "# delta g/g_0 ~= 0.3 = > delta w ~= -2.6\n",
    "# => for ~50% decrease during training (Jang, Shim et al. 2020), set w_i = 5\n",
    "\n",
    "# memory retention ~75% after 24 hr calculated from Boyden & Raymond 2003\n",
    "\n",
    "params = {\n",
    "    'mf_0': 55, # Lasker et al. 2008\n",
    "    'pf_0': 14, # Arenz et al. 2008 -- assume each MF EPSC evokes a GC spike\n",
    "    'cf_0': 1,\n",
    "    'mf_sensitivity': 0.14, # Lasker et al. 2008\n",
    "    'pf_sensitivity': 0.42, # Arenz et al. 2008 (See above)\n",
    "    'w_i': 5, # calculated from Jang, Shim et al. 2020 as above\n",
    "    'w_pc_mvn': 0.05, # calculated from Payne et al. 2019 as above\n",
    "    'k_eye': 2.2, # calculated from Beraneck & Cullen 2007 as above\n",
    "    'k_v':2.75e-5, # empirically, to get 75% retention\n",
    "    'tau_f': 0.017, # fast average ~= 1 min\n",
    "    'tau_mvn': 0.7, # tau_f,v: average of activity being integrated at MVN\n",
    "    'tau_learn': 0.15, # Boyden & Raymond 2003\n",
    "    'tau_post': 5, # consistent with 4 hour window, Attwell et al. 2002\n",
    "    'k_LTD': 0.648, # to get delta w ~= -2.6\n",
    "    'beta_rs':1, # to match CF response curve from Guo et al. 2014\n",
    "}\n",
    "# Set k_LTP so that LTP and LTD contributions to plasticity at w offset when not learning\n",
    "params['k_LTP'] = params['w_i']/params['pf_0'] + params['k_LTD']*params['cf_0']\n",
    "\n",
    "## Behavioral parameters\n",
    "\n",
    "# Kimpo et al. 2014, Nguyen-Vu et al. 2013, Boyden & Raymond 2003\n",
    "stim_freq = 1 \n",
    "peak_velocity_learn = 15 # deg/s\n",
    "peak_velocity_post = 15\n",
    "\n",
    "# Define function for head velocity\n",
    "head_learn = lambda t: peak_velocity_learn*np.sin(2*np.pi*stim_freq*3600*t)\n",
    "head_post_input = lambda t: peak_velocity_post*np.sin(2*np.pi*stim_freq*3600*t) # w/post-training input\n",
    "head_post_no_input = lambda t: 0 # w/o post-training input\n",
    "\n",
    "# Define function for visual target motion\n",
    "target_learn = lambda t: -peak_velocity_learn*np.sin(2*np.pi*stim_freq*3600*t) # increase gain to 2\n",
    "target_post = lambda t: 0"
   ]
  },
  {
   "cell_type": "code",
   "execution_count": 6,
   "metadata": {},
   "outputs": [
    {
     "data": {
      "text/plain": [
       "1.0051428571428571"
      ]
     },
     "execution_count": 6,
     "metadata": {},
     "output_type": "execute_result"
    }
   ],
   "source": [
    "params['k_LTP']"
   ]
  },
  {
   "cell_type": "code",
   "execution_count": 7,
   "metadata": {},
   "outputs": [],
   "source": [
    "gain = lambda w_h, v: params['k_eye']*((params['mf_sensitivity']*v - \n",
    "                                    params['pf_sensitivity']*params['w_pc_mvn']*(w_h - params['w_i'])))"
   ]
  },
  {
   "cell_type": "code",
   "execution_count": 8,
   "metadata": {},
   "outputs": [],
   "source": [
    "# initial gain ~- 0.4 in mice (Katoh et al. 2015, Boyden & Raymond 2003)\n",
    "g_init = 0.4\n",
    "v_0_ = lambda g_init: g_init/(params['k_eye']*params['mf_sensitivity'])\n",
    "\n",
    "v_0 = v_0_(g_init)"
   ]
  },
  {
   "cell_type": "code",
   "execution_count": 9,
   "metadata": {},
   "outputs": [
    {
     "name": "stdout",
     "output_type": "stream",
     "text": [
      "1.2987012987012985\n"
     ]
    }
   ],
   "source": [
    "print(v_0)"
   ]
  },
  {
   "cell_type": "code",
   "execution_count": 10,
   "metadata": {},
   "outputs": [],
   "source": [
    "# Spontaneous firing rate of PCs ~50 sp/s (Katoh et al. 2015) \n",
    "# and MVNs is ~57 sp/s (Nelson et al. 2003)\n",
    "\n",
    "# Calculate PC and MVN offsets so that this is the firing rate at baseline\n",
    "params['pc_0'] = 50\n",
    "params['mvn_0'] = 57 - params['mf_0']*v_0_(g_init) + params['w_pc_mvn']*50"
   ]
  },
  {
   "cell_type": "code",
   "execution_count": 11,
   "metadata": {},
   "outputs": [
    {
     "data": {
      "text/plain": [
       "(50, -11.928571428571416)"
      ]
     },
     "execution_count": 11,
     "metadata": {},
     "output_type": "execute_result"
    }
   ],
   "source": [
    "# Get offsets\n",
    "params['pc_0'], params['mvn_0']"
   ]
  },
  {
   "cell_type": "code",
   "execution_count": 12,
   "metadata": {},
   "outputs": [],
   "source": [
    "# Slope of trajectories that would result in 100% consolidation \n",
    "# (limit of tau_mvn -> 0, no change in v during training)\n",
    "perfect_gain_slope = params['w_pc_mvn']*params['pf_sensitivity']/params['mf_sensitivity']"
   ]
  },
  {
   "cell_type": "code",
   "execution_count": 13,
   "metadata": {},
   "outputs": [],
   "source": [
    "# Value of k_v that would give 100% consolidation in the ideal case\n",
    "ideal_max_k_v = lambda sigma_h2: perfect_gain_slope/(params['tau_post']\n",
    "                                                       *(params['mf_0']*params['pf_0'] + \n",
    "                                                         params['mf_sensitivity']*params['pf_sensitivity']*sigma_h2))"
   ]
  },
  {
   "cell_type": "markdown",
   "metadata": {},
   "source": [
    "# ODE solver code\n",
    "\n",
    "We use built-in ODE solvers (implemented by `scipy.integrate`) to perform simulations. The ODE solvers take functions that have the current time value (`t`) and the state (`y`) at that time as arguments and return a vector of the same size as `y` that gives the instantaneous derivative. We also provide a function for the Jacobian, which takes the same arguments and returns the Jacobian matrix."
   ]
  },
  {
   "cell_type": "markdown",
   "metadata": {},
   "source": [
    "We solve a system of five variables, with `y[0]` representing $w_H^+$, `y[1]` representing $v$, `y[2]` representing $\\langle\\text{MF}(t)(\\text{PC}(t)-\\text{PC}_0)\\rangle_{\\tau_{f,v}}$, `y[3]` representing $\\langle\\text{PF}(t)\\rangle_{\\tau_{f,w}}$ and `y[4]` representing $\\langle\\text{PF}(t)\\text{CF}(t)\\rangle_{\\tau_{f,w}}$. The solver takes arguments `head` and `target` corresponding to $\\dot{H}$ and the visual target motion, respectively."
   ]
  },
  {
   "cell_type": "code",
   "execution_count": 14,
   "metadata": {},
   "outputs": [],
   "source": [
    "# Function to pass to ODE solver\n",
    "def heterosynapticOnline(t, y, head, target, learn, params):\n",
    "    '''\n",
    "    head: a function taking a time argument that returns the head velocity\n",
    "    target: a function taking a time argument that returns the visual target velocity\n",
    "    learn: set to True if in the training period, False if in the post-training period\n",
    "    params: list containing the physiological parameters\n",
    "    \n",
    "    '''\n",
    "    w_He = y[0]\n",
    "    v = y[1]\n",
    "    \n",
    "    g = params['k_eye']*(params['mf_sensitivity']*v - \n",
    "                         params['pf_sensitivity']*params['w_pc_mvn']*(w_He-params['w_i']))\n",
    "    retinal_slip = target(t) - (1-g)*head(t)\n",
    "    \n",
    "    delta_mf = params['mf_sensitivity']*head(t)\n",
    "    delta_pf = params['pf_sensitivity']*head(t)\n",
    "    delta_cf = np.tanh(-params['beta_rs']*retinal_slip)*learn\n",
    "    \n",
    "    # two time constants for learning and post-training, as in Yamazaki et al. 2015\n",
    "    if learn:\n",
    "        tau_w = params['tau_learn']\n",
    "    else:\n",
    "        tau_w = params['tau_post']\n",
    "    mf = params['mf_0'] + delta_mf\n",
    "    pf = params['pf_0'] + delta_pf\n",
    "    cf = params['cf_0'] + delta_cf\n",
    "\n",
    "    \n",
    "    delta_pc = (w_He - params['w_i'])*pf\n",
    "    \n",
    "    dydt = np.zeros(5)\n",
    "    dydt[0] = 1/tau_w * (-y[0] + params['k_LTP']*y[3] - params['k_LTD']*y[4])\n",
    "    dydt[1] = params['k_v']*(-y[2])\n",
    "    dydt[2] = 1/params['tau_mvn'] * (-y[2] + mf*delta_pc)\n",
    "    dydt[3] = 1/params['tau_f'] * (-y[3] + pf)\n",
    "    dydt[4] = 1/params['tau_f'] * (-y[4] + pf*cf)\n",
    "    \n",
    "    return dydt\n",
    "\n",
    "# Jacobian \n",
    "def heteroOnlineJac(t, y, head, target, learn, params):\n",
    "    w_He = y[0]\n",
    "    v = y[1]\n",
    "    \n",
    "    g = params['k_eye']*(params['mf_sensitivity']*v - \n",
    "                         params['pf_sensitivity']*params['w_pc_mvn']*(w_He-params['w_i']))\n",
    "    retinal_slip = target(t) - (1-g)*head(t)\n",
    "    \n",
    "    delta_mf = params['mf_sensitivity']*head(t)\n",
    "    delta_pf = params['pf_sensitivity']*head(t)\n",
    "    delta_cf = np.tanh(-params['beta_rs']*retinal_slip)*learn\n",
    "    \n",
    "    if learn:\n",
    "        tau_w = params['tau_learn']\n",
    "    else:\n",
    "        tau_w = params['tau_post']\n",
    "    mf = params['mf_0'] + delta_mf\n",
    "    pf = params['pf_0'] + delta_pf\n",
    "    \n",
    "    dgdw = -params['k_eye']*params['w_pc_mvn']*params['pf_sensitivity']\n",
    "    dgdv = params['k_eye']*params['mf_sensitivity']\n",
    "    \n",
    "    jac = -1/params['tau_f']*np.eye(5)\n",
    "    jac[0,:] = 1/tau_w*np.array([-1, 0, 0, params['k_LTP'], -params['k_LTD']]) \n",
    "    jac[1,:] = params['k_v']*np.array([0, -1, 0, 0, 0])\n",
    "    jac[2,:] = 1/params['tau_mvn']*np.array([-mf, 0, -1, 0, 0])\n",
    "    jac[4,:2] = -pf*(1-delta_cf**2)*params['beta_rs']*head(t)/params['tau_f']*np.array([dgdw, dgdv])\n",
    "    \n",
    "    return jac"
   ]
  },
  {
   "cell_type": "code",
   "execution_count": 15,
   "metadata": {},
   "outputs": [],
   "source": [
    "def simulateTrainingOnline(y0, T_learn, T_post, head_learn, head_post, target_learn, target_post, params, \n",
    "                     dt_learn = 1/3600, dt_post = 60/3600, max_step_post = 1/3600*0.25, returnSeparate=False, dense_output=True):\n",
    "    '''Simulate a training and post-training period. \n",
    "    y0: initial condition\n",
    "    T_learn: time (h) of training period\n",
    "    T_post: time (h) of post-training period\n",
    "    head_learn: function taking one argument (t) and returning head velocity at t during the training period\n",
    "    head_post: function taking one argument (t) and returning head velocity at t during the post-training period\n",
    "    target_learn: function taking one argument (t) and returning visual target velocity at t during the training period\n",
    "    target_post: function taking one argument (t) and returning visual target velocity at t during the post-training period\n",
    "    params: physiological parameters list\n",
    "    dt_learn: training time step (for plotting)\n",
    "    dt_post: post-training time step (for plotting)\n",
    "    max_step_post: max_step parameter for solver during post-training period, default: half a cycle of input\n",
    "    returnSeparate: if True, returns separate variables for the training and post-training periods\n",
    "    dense_output: parameter passed to solver\n",
    "    '''\n",
    "    \n",
    "    t_learn = np.arange(0, int(T_learn/dt_learn))*dt_learn\n",
    "    t_post = np.arange(0, int((T_post-T_learn)/dt_post))*dt_post + T_learn\n",
    "    y_learn = []\n",
    "    y_post = []\n",
    "    \n",
    "    if T_learn > 0:\n",
    "        sol_learn = scipy.integrate.solve_ivp(lambda t,y: heterosynapticOnline(t,y, head_learn, target_learn, True, params), [0, T_learn], y0, \n",
    "                                      jac=lambda t,y: heteroOnlineJac(t,y,head_learn, target_learn,True,params), method='Radau', dense_output=dense_output)\n",
    "\n",
    "        if dense_output:\n",
    "            y0_next = sol_learn.sol(T_learn)\n",
    "            y_learn = sol_learn.sol(t_learn)\n",
    "        else:\n",
    "            y0_next = sol_learn.y[:,-1]\n",
    "            t_learn = sol_learn.t\n",
    "            y_learn = sol_learn.y\n",
    "        \n",
    "    else:\n",
    "        y0_next = y0\n",
    "        \n",
    "    if T_post > 0:\n",
    "        sol_post = scipy.integrate.solve_ivp(lambda t,y: heterosynapticOnline(t,y, head_post, target_post, False, params), [T_learn,T_post],y0_next,\n",
    "                                      jac=lambda t,y: heteroOnlineJac(t,y,head_post, target_post, False, params), method='Radau', max_step=max_step_post, dense_output=dense_output)\n",
    "        if dense_output:\n",
    "            y_post = sol_post.sol(t_post)\n",
    "        else:\n",
    "            t_post = sol_post.t\n",
    "            y_post = sol_post.y\n",
    "\n",
    "    if returnSeparate:\n",
    "        return t_learn, y_learn, t_post, y_post\n",
    "    else:\n",
    "        y_sol = np.hstack(y_learn, y_post)\n",
    "        t_sol = np.concatenate((t_learn,t_post))\n",
    "        return t_sol, y_sol"
   ]
  },
  {
   "cell_type": "markdown",
   "metadata": {},
   "source": [
    "# Figure 2A-D"
   ]
  },
  {
   "cell_type": "code",
   "execution_count": 14,
   "metadata": {},
   "outputs": [],
   "source": [
    "T_learn = 0.5 # h\n",
    "T_post = 24 # h\n",
    "\n",
    "# Initial conditions\n",
    "y_0 = np.array([params['w_i'], v_0, 0, params['pf_0'], params['pf_0']*params['cf_0']])"
   ]
  },
  {
   "cell_type": "code",
   "execution_count": 17,
   "metadata": {},
   "outputs": [],
   "source": [
    "# with post-training input\n",
    "t_learn, y_learn, t_post, y_post_input = simulateTrainingOnline(y_0, T_learn, T_post, head_learn, head_post_input, \n",
    "                                                        target_learn, target_post, params, returnSeparate=True)\n",
    "y_input = np.hstack((y_learn, y_post_input))\n",
    "gain_input = gain(y_input[0,:], y_input[1,:])"
   ]
  },
  {
   "cell_type": "code",
   "execution_count": 18,
   "metadata": {},
   "outputs": [],
   "source": [
    "t_sol = np.concatenate((t_learn, t_post))"
   ]
  },
  {
   "cell_type": "code",
   "execution_count": 19,
   "metadata": {},
   "outputs": [
    {
     "name": "stdout",
     "output_type": "stream",
     "text": [
      "0.757186025250979\n"
     ]
    }
   ],
   "source": [
    "# gain achieved during training\n",
    "gain_learn = gain(y_learn[0,:], y_learn[1,:])\n",
    "# % Consolidation\n",
    "print((gain_input[-1]-gain_input[0])/(gain_learn[-1]-gain_learn[0]))"
   ]
  },
  {
   "cell_type": "markdown",
   "metadata": {},
   "source": [
    "## Figure 2B,C: Change in weights and gain"
   ]
  },
  {
   "cell_type": "code",
   "execution_count": 19,
   "metadata": {},
   "outputs": [
    {
     "data": {
      "image/png": "[encoded data removed]",
      "text/plain": [
       "<Figure size 125x50 with 1 Axes>"
      ]
     },
     "metadata": {},
     "output_type": "display_data"
    }
   ],
   "source": [
    "# Change in w\n",
    "plt.figure(figsize=(1.25, 0.5))\n",
    "plt.plot([-2,24], [0,0],'k--',lw=0.5)\n",
    "# Input/no input conditions are identical\n",
    "plt.plot(t_sol, (y_input[0,:]-params['w_i'])/y_input[0,0],lw=1, clip_on=False)\n",
    "\n",
    "plt.plot([0, 0.5],[0.1,]*2,  c='C1', lw=2, clip_on=False)\n",
    "plt.plot([0.5, 24], [0.1,]*2,  c=(0.7,)*3, lw=2, clip_on=False)\n",
    "\n",
    "plt.xlim([-2,24])\n",
    "plt.ylim([-0.6,0])\n",
    "ax = plt.gca()\n",
    "\n",
    "ax.xaxis.set_visible(False)\n",
    "# ax.set_xticks([0, 24])\n",
    "# ax.set_xticks([12], minor=True)\n",
    "# ax.set_xticklabels([0, 24])\n",
    "\n",
    "ax.set_yticks([0, -0.3, -0.6])\n",
    "\n",
    "ax.spines['top'].set_visible(False)\n",
    "ax.spines['right'].set_visible(False)\n",
    "ax.spines['bottom'].set_visible(False)"
   ]
  },
  {
   "cell_type": "code",
   "execution_count": 20,
   "metadata": {
    "scrolled": true
   },
   "outputs": [
    {
     "data": {
      "image/png": "[encoded data removed]",
      "text/plain": [
       "<Figure size 125x50 with 1 Axes>"
      ]
     },
     "metadata": {},
     "output_type": "display_data"
    }
   ],
   "source": [
    "# Change in v\n",
    "plt.figure(figsize=(1.25, 0.5))\n",
    "plt.plot(t_sol, (y_input[1,:]-y_input[1,0])/y_input[1,0], c='C3',lw=1)\n",
    "plt.ylim([0, 0.3])\n",
    "plt.xlim([-2,24])\n",
    "\n",
    "ax = plt.gca()\n",
    "\n",
    "ax.set_xticks([0, 24])\n",
    "ax.set_xticks([12], minor=True)\n",
    "ax.set_xticklabels([0, 24])\n",
    "ax.set_yticks([0, 0.3])\n",
    "\n",
    "ax.spines['top'].set_visible(False)\n",
    "ax.spines['right'].set_visible(False)"
   ]
  },
  {
   "cell_type": "code",
   "execution_count": 21,
   "metadata": {},
   "outputs": [],
   "source": [
    "# Change in gain due to consolidated memory (v only)\n",
    "# gain_no_input_v = gain(params['w_i'], y_no_input[1,:])\n",
    "gain_input_v = gain(params['w_i'], y_input[1,:])"
   ]
  },
  {
   "cell_type": "code",
   "execution_count": 22,
   "metadata": {},
   "outputs": [
    {
     "data": {
      "image/png": "[encoded data removed]",
      "text/plain": [
       "<Figure size 125x100 with 1 Axes>"
      ]
     },
     "metadata": {},
     "output_type": "display_data"
    }
   ],
   "source": [
    "plt.figure(figsize=(1.25,1))\n",
    "plt.fill_between(t_sol, np.zeros(len(t_sol)), gain_input_v/gain_input_v[0]-1, facecolor='C3',alpha=0.2)\n",
    "plt.fill_between(t_sol, gain_input_v/gain_input_v[0]-1,gain_input/gain_input[0]-1,  facecolor='C0',alpha=0.2 )\n",
    "plt.plot(t_sol, gain_input/gain_input[0]-1, c='k',lw=1)\n",
    "\n",
    "plt.plot([0, 0.5],[0.4,]*2,  c='C1', lw=2, clip_on=False)\n",
    "plt.plot([0.5, 24], [0.4,]*2,  c=(0.7,)*3, lw=2, clip_on=False)\n",
    "\n",
    "\n",
    "plt.ylim([0, 0.4])\n",
    "plt.xlim([-2,24])\n",
    "ax=plt.gca()\n",
    "ax.spines['top'].set_visible(False)\n",
    "ax.spines['right'].set_visible(False)\n",
    "ax.set_xticks([0, 24])\n",
    "ax.set_xticks([12], minor=True)\n",
    "ax.set_xticklabels([0, 24])"
   ]
  },
  {
   "cell_type": "markdown",
   "metadata": {},
   "source": [
    "## Figure 2D: Phase plot"
   ]
  },
  {
   "cell_type": "code",
   "execution_count": 23,
   "metadata": {},
   "outputs": [],
   "source": [
    "ww, vv = np.meshgrid(np.array([-2.5, -1.5, -0.5, 0.5, 1.5, 2.5]), np.linspace(0.9, 1.7, 4))"
   ]
  },
  {
   "cell_type": "code",
   "execution_count": 24,
   "metadata": {},
   "outputs": [],
   "source": [
    "dw = 1/params['tau_post']*(-ww)\n",
    "dv = -params['k_v']*(params['mf_0']*params['pf_0'])*ww\n",
    "\n",
    "dw_norm = dw/np.sqrt(dw**2+dv**2)\n",
    "dv_norm = dv/np.sqrt(dw**2+dv**2)"
   ]
  },
  {
   "cell_type": "markdown",
   "metadata": {},
   "source": [
    "Gain is $g = k_E(k_\\text{MF} v - w_\\text{PC}k_\\text{PF} w)$. If, after training the gain is $g_\\text{train}$, then the constant gain line is\n",
    "$$\n",
    "v = \\frac{1}{k_\\text{MF}}\\left(\\frac{g_\\text{train}}{k_E} + w_\\text{PC}k_\\text{PF}w\\right).\n",
    "$$\n",
    "The line intersects the top of the $v$-axis at\n",
    "$$\n",
    "w_\\text{max} = \\frac{k_\\text{MF} v_\\text{max} - g_\\text{train}/k_E}{w_\\text{PC}k_\\text{PF}}.\n",
    "$$"
   ]
  },
  {
   "cell_type": "code",
   "execution_count": 25,
   "metadata": {},
   "outputs": [
    {
     "data": {
      "image/png": "[encoded data removed]",
      "text/plain": [
       "<Figure size 140x140 with 1 Axes>"
      ]
     },
     "metadata": {},
     "output_type": "display_data"
    }
   ],
   "source": [
    "plt.figure(figsize=(1.4,1.4))\n",
    "ylims = [0.8, 1.8]\n",
    "xlims = [-3,3]\n",
    "\n",
    "# Flow field\n",
    "plt.quiver(ww, vv, dw_norm, dv_norm, pivot='middle', scale=10, angles='xy', color=(0.7, 0.7, 0.7, 1))\n",
    "\n",
    "# Perfect consolidation line\n",
    "w_max = (params['mf_sensitivity']*ylims[1] - gain_learn[-1]/params['k_eye'])/(params['w_pc_mvn']*params['pf_sensitivity'])\n",
    "plt.plot([xlims[0], w_max], (np.array([xlims[0],w_max])*params['w_pc_mvn']*params['pf_sensitivity'] + gain_learn[-1]/params['k_eye'])/params['mf_sensitivity'],\n",
    "        c=(0.5, 0.5, 0.5))\n",
    "\n",
    "# Trajectories\n",
    "plt.plot(y_learn[0,:]-params['w_i'], y_learn[1,:], c='C1')\n",
    "plt.plot(y_post_input[0,:]-params['w_i'], y_post_input[1,:], c='k')\n",
    "\n",
    "# Attractor\n",
    "plt.plot([0, 0], ylims, c='k', lw=1)\n",
    "\n",
    "plt.ylim(ylims)\n",
    "plt.xlim(xlims)\n",
    "\n",
    "ax = plt.gca()\n",
    "ax.set_xticks([-3, 0, 3])\n",
    "ax.set_yticks([0.8, 1.3, 1.8]);"
   ]
  },
  {
   "cell_type": "markdown",
   "metadata": {},
   "source": [
    "# Figure 2E: 3 days of training"
   ]
  },
  {
   "cell_type": "code",
   "execution_count": null,
   "metadata": {
    "scrolled": true
   },
   "outputs": [],
   "source": [
    "days = 3\n",
    "y_repeated_temp = []\n",
    "y0_repeated = np.array([params['w_i'], v_0, 0, params['pf_0'], params['pf_0']*params['cf_0']])\n",
    "rs_online = lambda t: -head_learn(t) # x2 training\n",
    "\n",
    "for d in tqdm.notebook.trange(days):\n",
    "    t_1, y_1, t_2, y_2 = simulateTrainingOnline(y0_repeated, 0.5, 24, head_learn, head_post_input, \n",
    "                              target_learn, target_post, params,  returnSeparate=True)\n",
    "    y_repeated_temp.append(y_1)\n",
    "    y_repeated_temp.append(y_2)\n",
    "    y0_repeated = y_2[:,-1]"
   ]
  },
  {
   "cell_type": "code",
   "execution_count": 27,
   "metadata": {},
   "outputs": [
    {
     "data": {
      "image/png": "[encoded data removed]",
      "text/plain": [
       "<Figure size 140x140 with 1 Axes>"
      ]
     },
     "metadata": {},
     "output_type": "display_data"
    }
   ],
   "source": [
    "plt.figure(figsize=(1.4,1.4))\n",
    "\n",
    "# Trajectories\n",
    "for d in range(days):\n",
    "    plt.plot(y_repeated_temp[2*d][0,:]-params['w_i'], y_repeated_temp[2*d][1,:],c='C1')\n",
    "    plt.plot(y_repeated_temp[2*d+1][0,:]-params['w_i'], y_repeated_temp[2*d+1][1,:],c='k')\n",
    "    \n",
    "ylims = [1.25, 2.25]\n",
    "# Attractor\n",
    "plt.plot([0,0],ylims,'k', lw=1)\n",
    "\n",
    "xlims = [-3, 3] \n",
    "ylimrange = ylims[1]-ylims[0]\n",
    "xlimrange = xlims[1]-xlims[0]\n",
    "\n",
    "# Plot phase arrows\n",
    "ww_phase, vv_phase = np.meshgrid(xlims[0] + np.linspace(0.1,0.9,6)*xlimrange,ylims[0] + np.linspace(0.1,0.9,4)*ylimrange)\n",
    "dw_phase = 1/params['tau_post']*(-ww_phase)\n",
    "dv_phase = -params['k_v']*(params['mf_0']*params['pf_0'] + \n",
    "                                    params['mf_sensitivity']*params['pf_sensitivity']*(0.5*peak_velocity_post**2))*ww_phase\n",
    "\n",
    "dw_phase_norm = dw_phase/np.sqrt(dw_phase**2+dv_phase**2)\n",
    "dv_phase_norm = dv_phase/np.sqrt(dw_phase**2+dv_phase**2)\n",
    "plt.quiver(ww_phase, vv_phase, dw_phase_norm, dv_phase_norm, pivot='middle', scale=10, angles='xy', color=(0.7, 0.7, 0.7, 1))\n",
    "\n",
    "ax = plt.gca()\n",
    "\n",
    "ax.set_yticks([1.25, 1.75, 2.25]);\n",
    "plt.xticks([-3, 0, 3])\n",
    "\n",
    "plt.ylim(ylims)\n",
    "plt.xlim(xlims)"
   ]
  },
  {
   "cell_type": "code",
   "execution_count": 28,
   "metadata": {},
   "outputs": [],
   "source": [
    "w_repeated = np.concatenate([y_repeated_temp[d][0,:] for d in range(2*days)])\n",
    "v_repeated = np.concatenate([y_repeated_temp[d][1,:] for d in range(2*days)])"
   ]
  },
  {
   "cell_type": "code",
   "execution_count": 29,
   "metadata": {},
   "outputs": [],
   "source": [
    "t_repeated = np.concatenate([np.concatenate((t_1, t_2)) + 24*d for d in range(days)])"
   ]
  },
  {
   "cell_type": "code",
   "execution_count": 30,
   "metadata": {
    "scrolled": true
   },
   "outputs": [
    {
     "data": {
      "image/png": "[encoded data removed]",
      "text/plain": [
       "<Figure size 300x140 with 2 Axes>"
      ]
     },
     "metadata": {},
     "output_type": "display_data"
    }
   ],
   "source": [
    "plt.figure(figsize=(3,1.4))\n",
    "ax=plt.subplot(2,1,1)\n",
    "\n",
    "\n",
    "plt.plot(t_repeated/24, -(w_repeated - w_repeated[0]), clip_on=False, lw=1)\n",
    "\n",
    "for d in range(days):\n",
    "    plt.plot([d, d+1/24], [2.8,]*2, c='C1', lw=2, clip_on=False)\n",
    "    plt.plot([d+1/24, d+1], [2.8,]*2, c=(0.7,)*3, lw=2, clip_on=False)\n",
    "\n",
    "plt.xlim([-0.13, 3])\n",
    "\n",
    "plt.ylim([0, 2.6])\n",
    "ax.set_yticks([0, 1.3, 2.6])\n",
    "ax.set_yticklabels([0, '', 2.6]);\n",
    "ax.xaxis.set_visible(False)\n",
    "\n",
    "ax.spines['top'].set_visible(False)\n",
    "ax.spines['bottom'].set_visible(False)\n",
    "ax.spines['right'].set_visible(False)\n",
    "\n",
    "\n",
    "\n",
    "ax = plt.subplot(2,1,2)\n",
    "plt.plot(t_repeated/24, v_repeated, c='C3', clip_on=False, lw=1)\n",
    "plt.xlim([-0.13, 3])\n",
    "\n",
    "ax.spines['top'].set_visible(False)\n",
    "ax.spines['right'].set_visible(False)\n",
    "\n",
    "plt.ylim([1.3, 2.2])\n",
    "plt.yticks([1.3, 1.75, 2.2], [1.3,'',2.2])\n",
    "plt.xticks([0,1,2,3],[0,'','',72]);"
   ]
  },
  {
   "cell_type": "markdown",
   "metadata": {},
   "source": [
    "# Figure S1 \n",
    "\n",
    "Here we show that, in the presence of information about errors, the circuit can fully reduce errors."
   ]
  },
  {
   "cell_type": "code",
   "execution_count": 33,
   "metadata": {},
   "outputs": [],
   "source": [
    "dt_ = 60/3600\n",
    "t_sol_online = np.arange(0, int(48/dt_))*dt_\n",
    "target_online = lambda t:0 # x1 training (for visualization purposes)"
   ]
  },
  {
   "cell_type": "code",
   "execution_count": 59,
   "metadata": {},
   "outputs": [],
   "source": [
    "sol_learn_online = scipy.integrate.solve_ivp(lambda t,y: heterosynapticOnline(t,y, head_learn, target_online, True, params), [0, 48], y_0, \n",
    "                                  jac=lambda t,y: heteroOnlineJac(t,y,head_learn, target_online,True,params), method='Radau', dense_output=True, max_step = 0.25*1/3600)"
   ]
  },
  {
   "cell_type": "code",
   "execution_count": 60,
   "metadata": {},
   "outputs": [],
   "source": [
    "y_online = sol_learn_online.sol(t_sol_online)\n",
    "gain_online = gain(y_online[0,:], y_online[1,:])"
   ]
  },
  {
   "cell_type": "markdown",
   "metadata": {},
   "source": [
    "## Figure S1A: Change in weights and gain"
   ]
  },
  {
   "cell_type": "code",
   "execution_count": 61,
   "metadata": {
    "scrolled": true
   },
   "outputs": [
    {
     "data": {
      "image/png": "[encoded data removed]",
      "text/plain": [
       "<Figure size 150x150 with 3 Axes>"
      ]
     },
     "metadata": {},
     "output_type": "display_data"
    }
   ],
   "source": [
    "plt.figure(figsize=(1.5,1.5))\n",
    "ax = plt.subplot(3,1,1)\n",
    "plt.plot([-3, 48],[0,0],'k--',lw=1)\n",
    "# plt.plot(sol_learn.t, sol_learn.y[0,:]-params['w_i'],c='C0',clip_on=False)\n",
    "plt.plot(t_sol_online, y_online[0,:]-params['w_i'],c='C0',clip_on=False)\n",
    "\n",
    "plt.yticks([-3, -1.5,0], [-3, '', 0])\n",
    "plt.ylim([-3, 0])\n",
    "plt.xlim([-3, 48])\n",
    "\n",
    "\n",
    "ax.spines['top'].set_visible(False)\n",
    "ax.spines['right'].set_visible(False)\n",
    "ax.spines['bottom'].set_visible(False)\n",
    "plt.xticks([])\n",
    "\n",
    "\n",
    "ax = plt.subplot(3,1,2)\n",
    "\n",
    "plt.plot(t_sol_online, y_online[1,:],c='C3',clip_on=False)\n",
    "plt.ylim([v_0,3.3])\n",
    "plt.xlim([-3, 48])\n",
    "plt.yticks([1.3,2.3,3.3],[1.3,'',3.3])\n",
    "plt.xticks([0, 12,24,36,48],[0, '','', '',48])\n",
    "\n",
    "ax.spines['top'].set_visible(False)\n",
    "ax.spines['right'].set_visible(False)\n",
    "\n",
    "ax = plt.subplot(3,1,3)\n",
    "plt.plot([-3,36],[1,1],'--',lw=1, c=(0.7,)*3, clip_on=False)\n",
    "plt.plot(t_sol_online, gain_online,c='k',clip_on=False)\n",
    "plt.xlim([-3,36])\n",
    "ax.spines['top'].set_visible(False)\n",
    "ax.spines['right'].set_visible(False)\n",
    "plt.ylim([0.4, 1])\n",
    "plt.xticks([0,12,24,36,48],[0, '', '', '',48]);\n",
    "plt.yticks([0.4, 0.7,1],[0.4, '', 1]);\n",
    "\n",
    "plt.subplots_adjust(hspace=1)"
   ]
  },
  {
   "cell_type": "markdown",
   "metadata": {},
   "source": [
    "## Figure S1B: Phase plot"
   ]
  },
  {
   "cell_type": "markdown",
   "metadata": {},
   "source": [
    "The equation for the $w$-nullcline is:\n",
    "$$\n",
    "w + k_\\text{LTD}k_\\text{PF}\\langle\\dot{H}(t)\\tanh((g^\\text{target} - g(w,v))\\dot{H}(t))\\rangle \\approx w + \\frac{1}{T}k_\\text{LTD}k_\\text{PF}\\int_0^T\\text{d}t\\ \\dot{H}(t)\\tanh((g^\\text{target} - g(w,v))\\dot{H}(t)) = 0.\n",
    "$$\n",
    "\n",
    "To plot the curve, we pick points in $v$ and solve for the corresponding values of $w$. We estimate the average by calculating the integral over half a cycle of the head stimulus."
   ]
  },
  {
   "cell_type": "code",
   "execution_count": 51,
   "metadata": {},
   "outputs": [],
   "source": [
    "g_des = 1\n",
    "T = 0.5/3600\n",
    "avg_equation = lambda t,w,v,g_des: head_learn(t)*np.tanh(params['beta_rs']*(g_des - gain(w+params['w_i'],v))*head_learn(t))\n",
    "v_null_eq_approx = lambda w,v,g_des: w + 1/T*params['k_LTD']*params['pf_sensitivity']*scipy.integrate.quad(lambda t: avg_equation(t,w,v,g_des), 0, T)[0]"
   ]
  },
  {
   "cell_type": "code",
   "execution_count": 57,
   "metadata": {},
   "outputs": [],
   "source": [
    "v_null = np.linspace(1, 4)\n",
    "w_null_approx = np.array([scipy.optimize.root_scalar(lambda w: v_null_eq_approx(w,v,g_des), bracket=[-3, 3]).root for v in v_null])"
   ]
  },
  {
   "cell_type": "code",
   "execution_count": 53,
   "metadata": {},
   "outputs": [],
   "source": [
    "ww, vv = np.meshgrid(np.array([-2.5, -1.5, -0.5, 0.5, 1.5, 2.5]), np.linspace(1.25, 3.75, 5))"
   ]
  },
  {
   "cell_type": "code",
   "execution_count": 54,
   "metadata": {},
   "outputs": [],
   "source": [
    "dw = -1/params['tau_learn']*np.vstack([[v_null_eq_approx(ww[i,j], vv[i,j], g_des) for j in range(ww.shape[1])] for i in range(ww.shape[0])])\n",
    "\n",
    "dv = -params['k_v']*(params['mf_0']*params['pf_0'])*ww\n",
    "\n",
    "dw_norm = dw/np.sqrt(dw**2+dv**2)\n",
    "dv_norm = dv/np.sqrt(dw**2+dv**2)"
   ]
  },
  {
   "cell_type": "code",
   "execution_count": 63,
   "metadata": {},
   "outputs": [
    {
     "data": {
      "image/png": "[encoded data removed]",
      "text/plain": [
       "<Figure size 150x150 with 1 Axes>"
      ]
     },
     "metadata": {},
     "output_type": "display_data"
    }
   ],
   "source": [
    "plt.figure(figsize=(1.5,1.5))\n",
    "plt.quiver(ww, vv, dw_norm, dv_norm, pivot='middle', scale=10, angles='xy', color=(0.7, 0.7, 0.7, 1))\n",
    "\n",
    "# plt.plot(w_null, v_null,'.-',c='k',lw=1)\n",
    "plt.plot(w_null_approx, v_null,c='k',lw=1)\n",
    "plt.plot([0,]*2,[1, 4],c='k',lw=1)\n",
    "plt.plot(y_online[0,:]-params['w_i'], y_online[1,:],c='C1')\n",
    "plt.ylim([1,4])\n",
    "\n",
    "plt.xticks([-3, 0, 3])\n",
    "plt.yticks([1, 2.5, 4], [1, '', 4])"
   ]
  },
  {
   "cell_type": "markdown",
   "metadata": {},
   "source": [
    "## Figure S1C: Nullclines for different target gain values"
   ]
  },
  {
   "cell_type": "code",
   "execution_count": 64,
   "metadata": {},
   "outputs": [],
   "source": [
    "g_des_set = np.linspace(0.5, 1, 5) # multiple target gain values to plot\n",
    "w_nulls = np.zeros((len(g_des_set), len(v_null)))\n",
    "for i in range(len(g_des_set)):\n",
    "    w_nulls[i,:] = np.array([scipy.optimize.root_scalar(lambda w: v_null_eq_approx(w,v, g_des_set[i]), bracket=[-2.6, 2.6]).root for v in v_null])"
   ]
  },
  {
   "cell_type": "code",
   "execution_count": 65,
   "metadata": {
    "scrolled": true
   },
   "outputs": [
    {
     "data": {
      "image/png": "[encoded data removed]",
      "text/plain": [
       "<Figure size 150x150 with 1 Axes>"
      ]
     },
     "metadata": {},
     "output_type": "display_data"
    }
   ],
   "source": [
    "plt.figure(figsize=(1.5, 1.5))\n",
    "plt.plot([0,]*2,[1, 4],c='k',lw=1)\n",
    "alpha_ = np.linspace(0, 0.5, len(g_des_set))[::-1]\n",
    "orange_ = matplotlib.colors.to_rgb('C1')\n",
    "for i in range(len(g_des_set)):\n",
    "    plt.plot(w_nulls[i,:], v_null,lw=1,c=[alpha_[i],]*3)\n",
    "    plt.plot(0, g_des_set[i]/(params['mf_sensitivity']*params['k_eye']),'o', c=make_rgb_transparent(orange_, (1,)*3, 1-alpha_[i]), markerfacecolor='w',ms=5)\n",
    "    \n",
    "plt.ylim([1,4])\n",
    "plt.xticks([-3, 0, 3])\n",
    "plt.yticks([1, 2.5, 4],[1,'',4])"
   ]
  },
  {
   "cell_type": "markdown",
   "metadata": {},
   "source": [
    "# Figure 3"
   ]
  },
  {
   "cell_type": "markdown",
   "metadata": {},
   "source": [
    "### Perturbation simulation\n",
    "\n",
    "We simulated the effect of perturbations of random magnitude to the value of the early-learning weight, made regularly every 10 min (in simulation time) for a total of 24 hours (i.e., 144 perturbations). We then calculated the distribution of the final value of each of 250 sample paths. \n",
    "\n",
    "See SI Appendix, S1.4 for derivation of an analytical expression describing the variance of the late-learning weight $v$ over time in response to perturbations.\n",
    "\n",
    "We then compared the variance in $v$ for 1 day of training and post-training with perturbations using a fast rate of learning at $v$ to 4 days of training using a slower rate of learning."
   ]
  },
  {
   "cell_type": "code",
   "execution_count": 26,
   "metadata": {},
   "outputs": [],
   "source": [
    "T_learn = 0.5\n",
    "T_post = 24 # h\n",
    "\n",
    "T_noise = 10/60 # h (= 10 min)\n",
    "num_perturbations_train = int(T_learn/T_noise)\n",
    "num_perturbations_post = int((T_post - T_learn)/T_noise) # total number of perturbations\n",
    "num_perturbations = num_perturbations_train + num_perturbations_post\n",
    "\n",
    "trials = 250 # number of sample paths\n",
    "\n",
    "rng = np.random.default_rng(seed=42)\n",
    "\n",
    "perturbation_amplitude = 0.1\n",
    "\n",
    "noisy_input =  perturbation_amplitude*2*(rng.random((trials, days, num_perturbations))-0.5)\n",
    "\n",
    "dt_perturb = 60/3600 # h = 1 min"
   ]
  },
  {
   "cell_type": "code",
   "execution_count": 26,
   "metadata": {},
   "outputs": [],
   "source": [
    "dt_learn = 1/3600 # h = 1 s\n",
    "\n",
    "t_noise = np.arange(0, noise_len/(dt_learn),1)*(dt_learn) # time vector between perturbations\n",
    "t_noise_total = np.arange(0, trial_len/dt_learn, 1)*dt_learn # full time vector for a sample path\n",
    "y_noise_complete = np.zeros((trials, 2, len(t_noise_total)+1))\n",
    "\n",
    "y0 = np.array([params['w_i'], v_0, 0, params['pf_0'], params['pf_0']*params['cf_0']]) "
   ]
  },
  {
   "cell_type": "code",
   "execution_count": 27,
   "metadata": {},
   "outputs": [],
   "source": [
    "E = np.exp(-noise_len/params['tau_post'])\n",
    "mfpf2 = (params['mf_0']*params['pf_0'] + params['mf_sensitivity']*params['pf_sensitivity']\n",
    "                                            *0.5*(peak_velocity_post**2))\n",
    "\n",
    "var_v_f = lambda k_v, trials, perturb_size: (1/3*perturb_size**2*(k_v * params['tau_post'] * mfpf2 )**2*\n",
    "                               ((trials+1) - 2*E*(1-E**(trials+1))/(1-E)\n",
    "                                + E**2*(1-E**(2*(trials+1)))/((1-E**2))))"
   ]
  },
  {
   "cell_type": "markdown",
   "metadata": {},
   "source": [
    "## Faster learning rate (Figure 3A,E)\n",
    "\n",
    "Using the same learning rate at $v$ as in the simulations in Figure 2."
   ]
  },
  {
   "cell_type": "markdown",
   "metadata": {},
   "source": [
    "### Perturbations only (no training)"
   ]
  },
  {
   "cell_type": "code",
   "execution_count": 28,
   "metadata": {},
   "outputs": [],
   "source": [
    "# Make a copy of the parameters that can be altered separately\n",
    "params_perturb_fast = copy.deepcopy(params)\n",
    "params_perturb_fast['tau_mvn'] = params['tau_f']\n",
    "# set the value of \\tau_{f,v} to \\tau_f so that trajectories are straighter in phase space"
   ]
  },
  {
   "cell_type": "code",
   "execution_count": 29,
   "metadata": {},
   "outputs": [],
   "source": [
    "y0 = np.array([params['w_i'], v_0, 0, params['pf_0'], params['pf_0']*params['cf_0']])"
   ]
  },
  {
   "cell_type": "code",
   "execution_count": null,
   "metadata": {},
   "outputs": [],
   "source": [
    "noise_ends_fast = np.zeros((5,trials)) # value at the end of sample paths\n",
    "y_noise_fast = np.zeros((trials,2,len(t_noise)*num_perturbations+1)) # time course for plotting example\n",
    "\n",
    "\n",
    "for tt in tqdm.notebook.trange(trials, desc='Trial'):\n",
    "    y0_noisy = np.copy(y0)\n",
    "    y_noise_temp = np.zeros((num_perturbations, 5, len(t_noise))) # temporary array for this trial\n",
    "    \n",
    "    for b in tqdm.notebook.trange(num_perturbations, desc='Perturbation', leave=False):\n",
    "        y0_noisy[0] += noisy_input[tt,0,b]\n",
    "        sol_learn_noisy = scipy.integrate.solve_ivp(lambda t,y: heterosynapticOnline(t,y, head_post_input, target_post, False, params_perturb_fast), [0, T_noise], y0_noisy, \n",
    "                                      jac=lambda t,y: heteroOnlineJac(t,y,head_post_input, target_post,False,params_perturb_fast), method='Radau', dense_output=True)\n",
    "        y_noise_temp[b,:,:] = sol_learn_noisy.sol(t_noise)\n",
    "        y0_noisy = sol_learn_noisy.sol(T_noise)\n",
    "    noise_ends_fast[:,tt] = np.copy(y0_noisy)\n",
    "    \n",
    "    y_noise_fast[tt,:,0] = np.copy(y0[:2])\n",
    "    y_noise_fast[tt,0,1:] = np.concatenate((y_noise_temp[:,0,:]))\n",
    "    y_noise_fast[tt,1,1:] = np.concatenate((y_noise_temp[:,1,:]))\n",
    "    \n",
    "np.save('files/y_noise_fast.npy',y_noise_fast) # w and v at all time points across simulations\n",
    "np.save('files/noise_ends_fast.npy',noise_ends_fast) # final state of system across simulations"
   ]
  },
  {
   "cell_type": "code",
   "execution_count": 29,
   "metadata": {},
   "outputs": [],
   "source": [
    "##### Files are too large to upload to GitHub\n",
    "\n",
    "# y_noise_fast = np.load('files/y_noise_fast.npy')\n",
    "# noise_ends_fast = np.load('files/noise_ends_fast.npy')"
   ]
  },
  {
   "cell_type": "code",
   "execution_count": 23,
   "metadata": {},
   "outputs": [],
   "source": [
    "# Example for plotting\n",
    "# 0, 13, 20, 23\n",
    "y_noise_fast_example = y_noise_fast[27, :, :] # ind 6"
   ]
  },
  {
   "cell_type": "code",
   "execution_count": 24,
   "metadata": {},
   "outputs": [],
   "source": [
    "## Generate colormap to show trajectory over time\n",
    "cyan_hsv = matplotlib.colors.rgb_to_hsv(matplotlib.colors.to_rgb('C9'))\n",
    "stops = [0, 0.33,1]\n",
    "bright_stops = [1,1,0.25]\n",
    "sat_stops = [0.1, 0.5, 1]\n",
    "c_points = matplotlib.colors.hsv_to_rgb([(cyan_hsv[0], sat_stops[i], bright_stops[i]) for i in range(len(stops))])\n",
    "\n",
    "color_labels = ['red','green','blue']\n",
    "\n",
    "cdict = {}\n",
    "for i in range(3):\n",
    "    cdict[color_labels[i]] = [(stops[j], c_points[j][i], c_points[j][i]) for j in range(len(c_points))]\n",
    "\n",
    "cmap = matplotlib.colors.LinearSegmentedColormap('cyans', cdict)"
   ]
  },
  {
   "cell_type": "code",
   "execution_count": 30,
   "metadata": {},
   "outputs": [
    {
     "data": {
      "image/png": "[encoded data removed]",
      "text/plain": [
       "<Figure size 150x150 with 1 Axes>"
      ]
     },
     "metadata": {},
     "output_type": "display_data"
    }
   ],
   "source": [
    "plt.figure(figsize=(1.5,1.5))\n",
    "\n",
    "c_ = np.linspace(0,1,num_perturbations)\n",
    "\n",
    "for i in range(num_perturbations):\n",
    "    start_ = int(T_noise/dt_perturb) * i\n",
    "    end_ = int(T_noise/dt_perturb) * (i+1)\n",
    "    plt.plot(y_noise_fast_example[0,start_:end_+1]-params['w_i'], \n",
    "             y_noise_fast_example[1,start_:end_+1], c=cmap(c_[i]),lw=0.75)\n",
    "\n",
    "yr = 0.1 # 0.5\n",
    "ylims = [1.3-yr, 1.3+yr]\n",
    "plt.plot([0,0],ylims,'k', lw=1)\n",
    "xlims = [-1, 1] \n",
    "ylimrange = ylims[1]-ylims[0]\n",
    "xlimrange = xlims[1]-xlims[0]\n",
    "\n",
    "plt.ylim(ylims)\n",
    "plt.xlim(xlims)\n",
    "\n",
    "ww_phase, vv_phase = np.meshgrid(xlims[0] + np.linspace(0.1,0.9,6)*xlimrange,\n",
    "                                 ylims[0] + np.linspace(0.1,0.9,4)*ylimrange)\n",
    "dw_phase = 1/params['tau_post']*(-ww_phase)\n",
    "dv_phase = -params_perturb_fast['k_v']*(params['mf_0']*params['pf_0'] + \n",
    "                                    params['mf_sensitivity']*params['pf_sensitivity']*(0.5*peak_velocity_post**2))*ww_phase\n",
    "\n",
    "dw_phase_norm = dw_phase/np.sqrt(dw_phase**2+dv_phase**2)\n",
    "dv_phase_norm = dv_phase/np.sqrt(dw_phase**2+dv_phase**2)\n",
    "\n",
    "plt.quiver(ww_phase, vv_phase, dw_phase_norm, dv_phase_norm, pivot='middle', scale=10, angles='xy', color=(0.7, 0.7, 0.7, 1))\n",
    "\n",
    "\n",
    "ax = plt.gca()\n",
    "\n",
    "ax.set_yticks(np.linspace(ylims[0],ylims[1], 3));\n",
    "ax.set_xticks(np.linspace(xlims[0],xlims[1], 3));\n",
    "\n",
    "## For color bar with ticks:\n",
    "# cbar = plt.colorbar(matplotlib.cm.ScalarMappable(norm=None, cmap=cmap),ax=ax,orientation='horizontal',location='top')"
   ]
  },
  {
   "cell_type": "markdown",
   "metadata": {},
   "source": [
    "### Training w/o perturbations"
   ]
  },
  {
   "cell_type": "code",
   "execution_count": 93,
   "metadata": {
    "scrolled": true
   },
   "outputs": [],
   "source": [
    "t_f_learn, y_f_learn, t_f_post, y_f_post = simulateTrainingOnline(y_0, 0.5, 24, head_learn,\n",
    "                                                                  head_post_no_input, # head_post_input, \n",
    "                                                            target_learn, target_post, params_perturb_fast, returnSeparate=True)\n"
   ]
  },
  {
   "cell_type": "code",
   "execution_count": 352,
   "metadata": {},
   "outputs": [],
   "source": [
    "t_f = np.concatenate((t_f_learn, t_f_post))\n",
    "y_f = np.hstack((y_f_learn, y_f_post))"
   ]
  },
  {
   "cell_type": "code",
   "execution_count": 770,
   "metadata": {},
   "outputs": [],
   "source": [
    "gain_f_learn = gain(y_f_learn[0,:], y_f_learn[1,:])\n",
    "\n",
    "gain_f_post = gain(y_f_post[0,:], y_f_post[1,:])"
   ]
  },
  {
   "cell_type": "code",
   "execution_count": 771,
   "metadata": {},
   "outputs": [
    {
     "data": {
      "text/plain": [
       "0.5246821845061571"
      ]
     },
     "execution_count": 771,
     "metadata": {},
     "output_type": "execute_result"
    }
   ],
   "source": [
    "# Gain after training\n",
    "gain_f_learn[-1]"
   ]
  },
  {
   "cell_type": "code",
   "execution_count": 772,
   "metadata": {},
   "outputs": [
    {
     "data": {
      "text/plain": [
       "0.49058320649607623"
      ]
     },
     "execution_count": 772,
     "metadata": {},
     "output_type": "execute_result"
    }
   ],
   "source": [
    "# Gain after consolidation\n",
    "gain_f_post[-1]"
   ]
  },
  {
   "cell_type": "code",
   "execution_count": 774,
   "metadata": {},
   "outputs": [
    {
     "data": {
      "text/plain": [
       "0.7265128282349193"
      ]
     },
     "execution_count": 774,
     "metadata": {},
     "output_type": "execute_result"
    }
   ],
   "source": [
    "# % consolidation\n",
    "(gain_f_post[-1]-gain_f_learn[0])/(gain_f_learn[-1]-gain_f_learn[0])"
   ]
  },
  {
   "cell_type": "code",
   "execution_count": 209,
   "metadata": {},
   "outputs": [
    {
     "data": {
      "image/png": "[encoded data removed]",
      "text/plain": [
       "<Figure size 150x150 with 1 Axes>"
      ]
     },
     "metadata": {},
     "output_type": "display_data"
    }
   ],
   "source": [
    "plt.figure(figsize=(1.5,1.5))\n",
    "# plt.quiver(ww, vv, dw_norm, dv_norm, pivot='middle', scale=10, angles='xy', color=(0.7, 0.7, 0.7, 1))\n",
    "\n",
    "\n",
    "yr = 0.5\n",
    "ylims = [1.3-yr, 1.3+yr]\n",
    "\n",
    "xlims = [-5, 5]\n",
    "\n",
    "w_max = (params['mf_sensitivity']*ylims[1] - gain_f_learn[-1]/params['k_eye'])/(params['w_pc_mvn']*params['pf_sensitivity'])\n",
    "\n",
    "# Plot perfect consolidation line\n",
    "plt.plot([xlims[0], w_max], (np.array([xlims[0], w_max])*params['w_pc_mvn']*params['pf_sensitivity'] + gain_f_learn[-1]/params['k_eye'])/params['mf_sensitivity'],\n",
    "        c=(0.5, 0.5, 0.5))\n",
    "\n",
    "plt.plot(y_f_learn[0,:]-params['w_i'], y_f_learn[1,:], c='C1')\n",
    "plt.plot(y_f_post[0,:]-params['w_i'], y_f_post[1,:], c='k')\n",
    "\n",
    "# Plot attractor\n",
    "\n",
    "plt.plot([0,0],ylims,'k', lw=1)\n",
    " \n",
    "ylimrange = ylims[1]-ylims[0]\n",
    "xlimrange = xlims[1]-xlims[0]\n",
    "\n",
    "plt.ylim(ylims)\n",
    "plt.xlim(xlims)\n",
    "\n",
    "ww_phase, vv_phase = np.meshgrid(xlims[0] + np.linspace(0.1,0.9,6)*xlimrange,ylims[0] + np.linspace(0.1,0.9,4)*ylimrange)\n",
    "dw_phase = 1/params['tau_post']*(-ww_phase)\n",
    "\n",
    "dv_phase = -params_perturb_fast['k_v']*(params['mf_0']*params['pf_0'] + \n",
    "                                    params['mf_sensitivity']*params['pf_sensitivity']*(0.5*peak_velocity_post**2))*ww_phase\n",
    "\n",
    "dw_phase_norm = dw_phase/np.sqrt(dw_phase**2+dv_phase**2)\n",
    "dv_phase_norm = dv_phase/np.sqrt(dw_phase**2+dv_phase**2)\n",
    "\n",
    "plt.quiver(ww_phase, vv_phase, dw_phase_norm, dv_phase_norm, pivot='middle', scale=10, angles='xy', color=(0.7, 0.7, 0.7, 1))\n",
    "\n",
    "\n",
    "ax = plt.gca()\n",
    "ax.set_yticks(np.linspace(ylims[0],ylims[1], 3));\n",
    "ax.set_xticks(np.linspace(xlims[0],xlims[1], 3));"
   ]
  },
  {
   "cell_type": "markdown",
   "metadata": {},
   "source": [
    "### Training with perturbations"
   ]
  },
  {
   "cell_type": "code",
   "execution_count": null,
   "metadata": {},
   "outputs": [],
   "source": [
    "y_train_perturb_fast = np.zeros((trials, 5, len(t_noise)*num_perturbations))\n",
    "\n",
    "for tt in tqdm.notebook.trange(100, trials,desc='Repetition #'):\n",
    "    y0_repeated = np.array([params['w_i'], v_0, 0, params['pf_0'], params['pf_0']*params['cf_0']])\n",
    "    \n",
    "    for b in tqdm.notebook.trange(num_perturbations, leave=False, desc='Perturbation #'):\n",
    "        if b > 0: #  and tt < num_perturbations_train:\n",
    "            y0_repeated[0] += noisy_input[tt,0,b]\n",
    "        if b < num_perturbations_train:\n",
    "            learn_ = True\n",
    "            target_ = rs_online\n",
    "        else:\n",
    "            learn_ = False\n",
    "            target_ = target_post\n",
    "        sol_noisy = scipy.integrate.solve_ivp(lambda t,y: heterosynapticOnline(t,y, head_learn, target_, learn_, params_perturb_fast), [0, T_noise], y0_repeated, \n",
    "                                          jac=lambda t,y: heteroOnlineJac(t,y,head_learn, target_,learn_,params_perturb_fast), method='Radau', dense_output=True)\n",
    "\n",
    "\n",
    "        # y_repeated_temp.append(sol_noisy.sol(t_noise))\n",
    "        # t_repeated_temp.append(t_noise + T_noise*tt)\n",
    "        y_train_perturb_fast[tt, :, b*perturbation_len:(b+1)*perturbation_len] = sol_noisy.sol(t_noise)\n",
    "        y0_repeated = sol_noisy.y[:,-1]\n",
    "\n",
    "# np.save('files/y_noise_fast_train.npy',y_train_perturb_fast)"
   ]
  },
  {
   "cell_type": "code",
   "execution_count": 414,
   "metadata": {},
   "outputs": [],
   "source": [
    "# y_train_perturb_fast = np.load('files/y_noise_fast_train.npy')"
   ]
  },
  {
   "cell_type": "code",
   "execution_count": 464,
   "metadata": {},
   "outputs": [],
   "source": [
    "t_train_perturb_fast = np.concatenate([t_noise + T_noise*tt for tt in range(num_perturbations)])"
   ]
  },
  {
   "cell_type": "code",
   "execution_count": 759,
   "metadata": {},
   "outputs": [
    {
     "data": {
      "image/png": "[encoded data removed]",
      "text/plain": [
       "<Figure size 150x150 with 1 Axes>"
      ]
     },
     "metadata": {},
     "output_type": "display_data"
    }
   ],
   "source": [
    "plt.figure(figsize=(1.5,1.5))\n",
    "\n",
    "yr = 0.5\n",
    "ylims = [1.3-yr, 1.3+yr]\n",
    "\n",
    "xlims = [-5, 5]\n",
    "\n",
    "w_max = (params['mf_sensitivity']*ylims[1] - gain_f_learn[-1]/params['k_eye'])/(params['w_pc_mvn']*params['pf_sensitivity'])\n",
    " \n",
    "ylimrange = ylims[1]-ylims[0]\n",
    "xlimrange = xlims[1]-xlims[0]\n",
    "\n",
    "plt.ylim(ylims)\n",
    "plt.xlim(xlims)\n",
    "\n",
    "ww_phase, vv_phase = np.meshgrid(xlims[0] + np.linspace(0.1,0.9,6)*xlimrange,ylims[0] + np.linspace(0.1,0.9,4)*ylimrange)\n",
    "dw_phase = 1/params['tau_post']*(-ww_phase)\n",
    "\n",
    "dv_phase = -params_perturb_fast['k_v']*(params['mf_0']*params['pf_0'] + \n",
    "                                    params['mf_sensitivity']*params['pf_sensitivity']*(0.5*peak_velocity_post**2))*ww_phase\n",
    "\n",
    "dw_phase_norm = dw_phase/np.sqrt(dw_phase**2+dv_phase**2)\n",
    "dv_phase_norm = dv_phase/np.sqrt(dw_phase**2+dv_phase**2)\n",
    "\n",
    "plt.quiver(ww_phase, vv_phase, dw_phase_norm, dv_phase_norm, pivot='middle', scale=10, angles='xy', color=(0.7, 0.7, 0.7, 1))\n",
    "\n",
    "for ttt in range(0,len(t_train_perturb_fast)):\n",
    "    plt.fill_between(np.mean(y_train_perturb_fast[:,0,ttt]-params['w_i']) + np.std(y_train_perturb_fast[:,0,ttt])*np.array([1,-1]), \n",
    "                 [np.mean(y_train_perturb_fast[:,1,ttt]) - np.std(y_train_perturb_fast[:,1,ttt]),]*2,\n",
    "                 [np.mean(y_train_perturb_fast[:,1,ttt]) + np.std(y_train_perturb_fast[:,1,ttt]),]*2, color=(0.8,)*3,edgecolor=None)\n",
    "\n",
    "# Plot attractor\n",
    "\n",
    "plt.plot([0,0],ylims,'k', lw=1)\n",
    "\n",
    "plt.plot(y_f_learn[0,:]-params['w_i'], y_f_learn[1,:], c='C1')\n",
    "plt.plot(y_f_post[0,:]-params['w_i'], y_f_post[1,:], c='k')\n",
    "\n",
    "\n",
    "\n",
    "ax = plt.gca()\n",
    "ax.set_yticks(np.linspace(ylims[0],ylims[1], 3));\n",
    "ax.set_xticks(np.linspace(xlims[0],xlims[1], 3));"
   ]
  },
  {
   "cell_type": "markdown",
   "metadata": {},
   "source": [
    "## Slower learning rate (Figure 3B,F)\n",
    "\n",
    "Using a learning rate at $v$ that would lead in the ideal case to 20% consolidation."
   ]
  },
  {
   "cell_type": "code",
   "execution_count": 536,
   "metadata": {},
   "outputs": [],
   "source": [
    "# Make a copy of the parameters that can be altered separately\n",
    "params_perturb_slow = copy.deepcopy(params)\n",
    "params_perturb_slow['tau_mvn'] = params['tau_f']\n",
    "# set the value of \\tau_{f,v} to \\tau_f so that trajectories are straighter in phase space\n",
    "\n",
    "params_perturb_slow['k_v'] = 0.177*ideal_max_k_v(0.5*peak_velocity_post**2)"
   ]
  },
  {
   "cell_type": "code",
   "execution_count": 526,
   "metadata": {},
   "outputs": [
    {
     "name": "stdout",
     "output_type": "stream",
     "text": [
      "6.953252254978335e-06\n"
     ]
    }
   ],
   "source": [
    "print(params_perturb_slow['k_v'])"
   ]
  },
  {
   "cell_type": "markdown",
   "metadata": {},
   "source": [
    "### Perturbations only"
   ]
  },
  {
   "cell_type": "code",
   "execution_count": null,
   "metadata": {},
   "outputs": [],
   "source": [
    "noise_ends_slow = np.zeros((5,trials)) # value at the end of sample paths\n",
    "y_noise_slow = np.zeros((trials,2,len(t_noise)*num_perturbations+1)) # time course for plotting example\n",
    "\n",
    "for tt in tqdm.notebook.trange(trials, desc='Trial'):\n",
    "    y0_noisy = np.copy(y0)\n",
    "    y_noise_temp = np.zeros((num_perturbations, 5, len(t_noise))) # temporary array for this trial\n",
    "    \n",
    "    for b in tqdm.notebook.trange(num_perturbations, desc='Perturbation', leave=False):\n",
    "        y0_noisy[0] += noisy_input[tt,0,b]\n",
    "        sol_learn_noisy = scipy.integrate.solve_ivp(lambda t,y: heterosynapticOnline(t,y, head_post_input, target_post, False, params_perturb_slow), [0, T_noise], y0_noisy, \n",
    "                                      jac=lambda t,y: heteroOnlineJac(t,y,head_post_input, target_post,False,params_perturb_slow), method='Radau', dense_output=True)\n",
    "        y_noise_temp[b,:,:] = sol_learn_noisy.sol(t_noise)\n",
    "        y0_noisy = sol_learn_noisy.sol(T_noise)\n",
    "    noise_ends_slow[:,tt] = np.copy(y0_noisy)\n",
    "    \n",
    "    y_noise_slow[tt,:,0] = np.copy(y0[:2])\n",
    "    y_noise_slow[tt,0,1:] = np.concatenate((y_noise_temp[:,0,:]))\n",
    "    y_noise_slow[tt,1,1:] = np.concatenate((y_noise_temp[:,1,:]))\n",
    "    \n",
    "# np.save('files/y_noise_slow.npy',y_noise_slow)\n",
    "# np.save('files/noise_ends_slow.npy',noise_ends_slow)"
   ]
  },
  {
   "cell_type": "code",
   "execution_count": 35,
   "metadata": {},
   "outputs": [],
   "source": [
    "# Files are too large to upload to GitHub\n",
    "\n",
    "# y_noise_slow = np.load('files/y_noise_slow.npy')\n",
    "# noise_ends_slow = np.load('files/noise_ends_slow.npy')"
   ]
  },
  {
   "cell_type": "code",
   "execution_count": 714,
   "metadata": {},
   "outputs": [],
   "source": [
    "# Example for plotting (same perturbation time course as fast learning)\n",
    "y_noise_slow_example = y_noise_slow[27, :, :]"
   ]
  },
  {
   "cell_type": "code",
   "execution_count": 722,
   "metadata": {},
   "outputs": [
    {
     "data": {
      "image/png": "[encoded data removed]",
      "text/plain": [
       "<Figure size 150x150 with 1 Axes>"
      ]
     },
     "metadata": {},
     "output_type": "display_data"
    }
   ],
   "source": [
    "fig = plt.figure(figsize=(1.5,1.5))\n",
    "cmap = matplotlib.colormaps['RdPu']\n",
    "\n",
    "noise_total = num_perturbations\n",
    "c_ = np.linspace(0.1,1,noise_total)\n",
    "for i in range(noise_total):\n",
    "    start_ = int(T_noise/dt_) * i\n",
    "    end_ = int(T_noise/dt_) * (i+1)\n",
    "    plt.plot(y_noise_slow_example[0,start_:end_+1]-params['w_i'], \n",
    "             y_noise_slow_example[1,start_:end_+1], c=cmap(c_[i]),lw=0.75)\n",
    "\n",
    "yr = 0.1 # 0.5\n",
    "ylims = [1.3-yr, 1.3+yr]\n",
    "plt.plot([0,0],ylims,'k', lw=1)\n",
    "xlims = [-1, 1] # [-5, 5]\n",
    "ylimrange = ylims[1]-ylims[0]\n",
    "xlimrange = xlims[1]-xlims[0]\n",
    "\n",
    "plt.ylim(ylims)\n",
    "plt.xlim(xlims)\n",
    "\n",
    "ww_phase, vv_phase = np.meshgrid(xlims[0] + np.linspace(0.1,0.9,6)*xlimrange,\n",
    "                                 ylims[0] + np.linspace(0.1,0.9,4)*ylimrange)\n",
    "dw_phase = 1/params['tau_post']*(-ww_phase)\n",
    "dv_phase = -params_perturb_slow['k_v']*(params['mf_0']*params['pf_0']+\n",
    "                                      params['mf_sensitivity']*params['pf_sensitivity']*(0.5*peak_velocity_post**2))*ww_phase\n",
    "\n",
    "dw_phase_norm = dw_phase/np.sqrt(dw_phase**2+dv_phase**2)\n",
    "dv_phase_norm = dv_phase/np.sqrt(dw_phase**2+dv_phase**2)\n",
    "\n",
    "plt.quiver(ww_phase, vv_phase, dw_phase_norm, dv_phase_norm, pivot='middle', scale=10, angles='xy', color=(0.7, 0.7, 0.7, 1))\n",
    "\n",
    "\n",
    "ax = plt.gca()\n",
    "\n",
    "ax.set_yticks(np.linspace(ylims[0],ylims[1], 3));\n",
    "ax.set_xticks(np.linspace(xlims[0],xlims[1], 3));\n",
    "\n",
    "# To plot with color bar with ticks:\n",
    "# cbar = plt.colorbar(matplotlib.cm.ScalarMappable(norm=matplotlib.colors.Normalize(vmin=0.1, vmax=1), cmap=cmap),ax=ax,orientation='horizontal',location='top')"
   ]
  },
  {
   "cell_type": "markdown",
   "metadata": {},
   "source": [
    "### Training w/o perturbations"
   ]
  },
  {
   "cell_type": "code",
   "execution_count": null,
   "metadata": {},
   "outputs": [],
   "source": [
    "# Training with no perturbations\n",
    "y_repeated_temp_no_perturb = []\n",
    "y0_repeated = np.array([params['w_i'], v_0, 0, params['pf_0'], params['pf_0']*params['cf_0']])\n",
    "\n",
    "for d in tqdm.notebook.trange(days):\n",
    "    t_1, y_1, t_2, y_2 = simulateTrainingOnline(y0_repeated, 0.5, 24, head_learn, head_post_input, \n",
    "                              target_learn, target_post, params_perturb_slow,  returnSeparate=True, dt_learn=60/3600)\n",
    "    y_repeated_temp_no_perturb.append(y_1)\n",
    "    y_repeated_temp_no_perturb.append(y_2)\n",
    "    y0_repeated = y_2[:,-1]"
   ]
  },
  {
   "cell_type": "code",
   "execution_count": 557,
   "metadata": {},
   "outputs": [
    {
     "data": {
      "text/plain": [
       "0.4906573785575796"
      ]
     },
     "execution_count": 557,
     "metadata": {},
     "output_type": "execute_result"
    }
   ],
   "source": [
    "gain(y_repeated_temp_no_perturb[-1][0,-1],y_repeated_temp_no_perturb[-1][1,-1])"
   ]
  },
  {
   "cell_type": "code",
   "execution_count": 558,
   "metadata": {},
   "outputs": [],
   "source": [
    "w_no_perturb_combined = np.concatenate([y_repeated_temp_no_perturb[i][0,:] for i in range(days*2)])\n",
    "v_no_perturb_combined = np.concatenate([y_repeated_temp_no_perturb[i][1,:] for i in range(days*2)])"
   ]
  },
  {
   "cell_type": "markdown",
   "metadata": {},
   "source": [
    "### Training with perturbations (4 days)"
   ]
  },
  {
   "cell_type": "code",
   "execution_count": 129,
   "metadata": {},
   "outputs": [],
   "source": [
    "rs_online = lambda t: -head_learn(t) # x2 training\n"
   ]
  },
  {
   "cell_type": "code",
   "execution_count": 198,
   "metadata": {},
   "outputs": [],
   "source": [
    "perturbation_len = int(T_noise/dt_perturb)"
   ]
  },
  {
   "cell_type": "code",
   "execution_count": 138,
   "metadata": {},
   "outputs": [],
   "source": [
    "t_noise = np.arange(int(T_noise/dt_perturb))*dt_perturb"
   ]
  },
  {
   "cell_type": "code",
   "execution_count": null,
   "metadata": {
    "scrolled": true
   },
   "outputs": [],
   "source": [
    "y_train_perturb_slow = np.zeros((trials, 5, len(t_noise)*num_perturbations*days))\n",
    "\n",
    "for tt in tqdm.notebook.trange(trials,desc='Repetition #'):\n",
    "    y0_repeated = np.array([params['w_i'], v_0, 0, params['pf_0'], params['pf_0']*params['cf_0']])\n",
    "    \n",
    "    for d in tqdm.notebook.trange(days, leave=False, desc='Day'):\n",
    "        for b in tqdm.notebook.trange(num_perturbations, leave=False, desc='Perturbation #'):\n",
    "            if b > 0: #  and tt < num_perturbations_train:\n",
    "                y0_repeated[0] += noisy_input[tt,d,b]\n",
    "            if b < num_perturbations_train:\n",
    "                learn_ = True\n",
    "                target_ = rs_online\n",
    "            else:\n",
    "                learn_ = False\n",
    "                target_ = target_post\n",
    "            sol_noisy = scipy.integrate.solve_ivp(lambda t,y: heterosynapticOnline(t,y, head_learn, target_, learn_, params_perturb_slow), [0, T_noise], y0_repeated, \n",
    "                                              jac=lambda t,y: heteroOnlineJac(t,y,head_learn, target_,learn_,params_perturb_slow), method='Radau', dense_output=True)\n",
    "\n",
    "\n",
    "            # y_repeated_temp.append(sol_noisy.sol(t_noise))\n",
    "            # t_repeated_temp.append(t_noise + T_noise*tt)\n",
    "            y_train_perturb_slow[tt, :, (d*num_perturbations + b)*perturbation_len:(d*num_perturbations+(b+1))*perturbation_len] = sol_noisy.sol(t_noise)\n",
    "            y0_repeated = sol_noisy.y[:,-1]\n",
    "\n",
    "# np.save('files/y_noise_slow_train',y_train_perturb_slow)"
   ]
  },
  {
   "cell_type": "code",
   "execution_count": 565,
   "metadata": {},
   "outputs": [],
   "source": [
    "# y_train_perturb_slow = np.load('files/y_noise_slow_train.npy')"
   ]
  },
  {
   "cell_type": "code",
   "execution_count": 760,
   "metadata": {},
   "outputs": [
    {
     "data": {
      "image/png": "[encoded data removed]",
      "text/plain": [
       "<Figure size 150x150 with 1 Axes>"
      ]
     },
     "metadata": {},
     "output_type": "display_data"
    }
   ],
   "source": [
    "plt.figure(figsize=(1.5,1.5))\n",
    "\n",
    "xlims = [-5, 5] \n",
    "yr = 0.5\n",
    "ylims = [1.3-yr, 1.3+yr]\n",
    "\n",
    "\n",
    "# Attractor\n",
    "plt.plot([0,0],ylims,'k', lw=1)\n",
    " \n",
    "ylimrange = ylims[1]-ylims[0]\n",
    "xlimrange = xlims[1]-xlims[0]\n",
    "\n",
    "# Plot phase arrows\n",
    "ww_phase, vv_phase = np.meshgrid(xlims[0] + np.linspace(0.1,0.9,6)*xlimrange,ylims[0] + np.linspace(0.1,0.9,4)*ylimrange)\n",
    "dw_phase = 1/params['tau_post']*(-ww_phase)\n",
    "dv_phase = -params_perturb_slow['k_v']*(params['mf_0']*params['pf_0'] + \n",
    "                                    params['mf_sensitivity']*params['pf_sensitivity']*(0.5*peak_velocity_post**2))*ww_phase\n",
    "\n",
    "dw_phase_norm = dw_phase/np.sqrt(dw_phase**2+dv_phase**2)\n",
    "dv_phase_norm = dv_phase/np.sqrt(dw_phase**2+dv_phase**2)\n",
    "plt.quiver(ww_phase, vv_phase, dw_phase_norm, dv_phase_norm, pivot='middle', scale=10, angles='xy', color=(0.7, 0.7, 0.7, 1))\n",
    "\n",
    "for ttt in range(0,len(t_repeated)):\n",
    "    plt.fill_between(np.mean(y_train_perturb_slow[:,0,ttt]-params['w_i']) + np.std(y_train_perturb_slow[:,0,ttt])*np.array([1,-1]), \n",
    "                 [np.mean(y_train_perturb_slow[:,1,ttt]) - np.std(y_train_perturb_slow[:,1,ttt]),]*2,\n",
    "                 [np.mean(y_train_perturb_slow[:,1,ttt]) + np.std(y_train_perturb_slow[:,1,ttt]),]*2, color=(0.8,)*3,edgecolor=None)\n",
    "\n",
    "# No noise\n",
    "for d in range(days):\n",
    "    plt.plot(y_repeated_temp_no_perturb[2*d][0,:]-params['w_i'], y_repeated_temp_no_perturb[2*d][1,:],c='C1')\n",
    "    plt.plot(y_repeated_temp_no_perturb[2*d+1][0,:]-params['w_i'], y_repeated_temp_no_perturb[2*d+1][1,:],c='k')\n",
    "    \n",
    "ax = plt.gca()\n",
    "\n",
    "ax.set_yticks(np.linspace(ylims[0],ylims[1], 3));\n",
    "ax.set_xticks(np.linspace(xlims[0],xlims[1], 3));\n",
    "\n",
    "plt.ylim(ylims)\n",
    "plt.xlim(xlims)"
   ]
  },
  {
   "cell_type": "markdown",
   "metadata": {},
   "source": [
    "## Histogram for Figure 3C"
   ]
  },
  {
   "cell_type": "code",
   "execution_count": 38,
   "metadata": {},
   "outputs": [],
   "source": [
    "# Histogram bins for Fig. 2c, bottom\n",
    "\n",
    "edges = np.arange(0,16,1)*0.42 - 0.45"
   ]
  },
  {
   "cell_type": "code",
   "execution_count": 735,
   "metadata": {},
   "outputs": [],
   "source": [
    "n_bins = 15 #sqrt(250) ~= 15\n",
    "bar_width = 0.4/(n_bins-1)\n",
    "bar_centers = bar_width*np.arange(0,n_bins,1) + 1.1\n",
    "edges = np.concatenate((bar_centers - bar_width, [bar_centers[-1]+bar_width]))"
   ]
  },
  {
   "cell_type": "code",
   "execution_count": 736,
   "metadata": {},
   "outputs": [],
   "source": [
    "fast_counts, edges = np.histogram(noise_ends_fast[1,:], edges)"
   ]
  },
  {
   "cell_type": "code",
   "execution_count": 737,
   "metadata": {},
   "outputs": [],
   "source": [
    "slow_counts,slow_edges = np.histogram(noise_ends_slow[1,:], edges)"
   ]
  },
  {
   "cell_type": "code",
   "execution_count": 743,
   "metadata": {
    "scrolled": true
   },
   "outputs": [
    {
     "data": {
      "image/png": "[encoded data removed]",
      "text/plain": [
       "<Figure size 60x150 with 1 Axes>"
      ]
     },
     "metadata": {},
     "output_type": "display_data"
    }
   ],
   "source": [
    "plt.figure(figsize=(0.6,1.5))\n",
    "yr = 0.2\n",
    "xr = 0.5\n",
    "\n",
    "plt.barh(bar_centers, fast_counts/np.sum(fast_counts), edges[1]-edges[0], alpha=0.5, facecolor='C9', lw=0.5)\n",
    "plt.barh(bar_centers, slow_counts/np.sum(slow_counts), edges[1]-edges[0], edgecolor='C6', facecolor='None')\n",
    "\n",
    "ax = plt.gca()\n",
    "ax.spines['top'].set_visible(False)\n",
    "ax.spines['right'].set_visible(False)\n",
    "\n",
    "ax.set_xticks([0, xr/2, xr])\n",
    "ax.set_xticklabels([0, '', xr])\n",
    "ax.set_yticks(np.linspace(1.3-yr, 1.3+yr, 3))\n",
    "plt.ylim([1.30-yr, 1.3+yr])\n",
    "plt.xlim([0, xr])"
   ]
  },
  {
   "cell_type": "markdown",
   "metadata": {},
   "source": [
    "## Empirical time course of variance of $v$ w/o perturbations (Fig. 3D)"
   ]
  },
  {
   "cell_type": "code",
   "execution_count": 744,
   "metadata": {},
   "outputs": [],
   "source": [
    "vars_fast = np.var(y_noise_fast[:,1,:],axis=0)\n",
    "vars_slow = np.var(y_noise_slow[:,1,:],axis=0)"
   ]
  },
  {
   "cell_type": "code",
   "execution_count": 747,
   "metadata": {},
   "outputs": [],
   "source": [
    "# Subsample only points in time course corresponding to peturbation times\n",
    "kk = np.arange(num_perturbations)*T_noise\n",
    "inds_perturb = np.array(kk/dt_,dtype=int)\n",
    "inds_ = np.concatenate((inds_perturb[1:]-1, [len(t_train_perturb_fast)-1]))"
   ]
  },
  {
   "cell_type": "code",
   "execution_count": 609,
   "metadata": {},
   "outputs": [],
   "source": [
    "bar_centers_fast = 0.5*(fast_edges[1:]-fast_edges[:-1]) + fast_edges[:-1]"
   ]
  },
  {
   "cell_type": "code",
   "execution_count": 758,
   "metadata": {},
   "outputs": [
    {
     "data": {
      "image/png": "[encoded data removed]",
      "text/plain": [
       "<Figure size 60x150 with 1 Axes>"
      ]
     },
     "metadata": {},
     "output_type": "display_data"
    }
   ],
   "source": [
    "plt.figure(figsize=(0.6,1.5))\n",
    "ax = plt.gca()\n",
    "\n",
    "# kk_ = np.arange(60)\n",
    "plt.plot(kk, vars_fast[inds_],c='C9',clip_on=False)\n",
    "plt.plot(kk, vars_slow[inds_],c='C6', clip_on=False)\n",
    "\n",
    "\n",
    "plt.xlim([0, 24])\n",
    "plt.ylim([-0.00025,0.005])\n",
    "\n",
    "ax.spines['top'].set_visible(False)\n",
    "ax.spines['right'].set_visible(False)\n",
    "\n",
    "ax.set_xticks(np.linspace(0,24,3))\n",
    "ax.set_xticklabels([0,'',24])\n",
    "\n",
    "ax.set_yticks(np.linspace(0,0.005,3))\n",
    "ax.set_yticklabels([0,'',0.005])\n",
    "plt.savefig('figures/figure 3/var_over_time_noise.pdf')"
   ]
  },
  {
   "cell_type": "markdown",
   "metadata": {},
   "source": [
    "## Histograms for training with perturbations (Fig. 3G)"
   ]
  },
  {
   "cell_type": "code",
   "execution_count": 810,
   "metadata": {},
   "outputs": [],
   "source": [
    "v_std_train_slow = np.std(y_train_perturb_slow[:,1,-1])\n",
    "v_mu_train_slow = np.mean(y_train_perturb_slow[:,1,-1])\n",
    "\n",
    "v_std_train_fast = np.std(y_train_perturb_fast[:,1,-1])\n",
    "v_mu_train_fast = np.mean(y_train_perturb_fast[:,1,-1])"
   ]
  },
  {
   "cell_type": "code",
   "execution_count": null,
   "metadata": {},
   "outputs": [],
   "source": [
    "edges = np.arange(0,16,1)*0.42 - 0.45\n",
    "n_bins = 15\n",
    "bar_width = 0.4/(n_bins-1)\n",
    "bar_centers = bar_width*np.arange(0,n_bins,1) + 1.39\n",
    "edges = np.concatenate((bar_centers - bar_width, [bar_centers[-1]+bar_width]))"
   ]
  },
  {
   "cell_type": "code",
   "execution_count": 763,
   "metadata": {},
   "outputs": [],
   "source": [
    "fast_counts_v, fast_edges = np.histogram(y_train_perturb_fast[:,1,-1], bins=edges)\n",
    "slow_counts_v, slow_edges = np.histogram(y_train_perturb_slow[:,1,-1], bins=edges)"
   ]
  },
  {
   "cell_type": "code",
   "execution_count": 834,
   "metadata": {},
   "outputs": [
    {
     "data": {
      "image/png": "[encoded data removed]",
      "text/plain": [
       "<Figure size 60x150 with 1 Axes>"
      ]
     },
     "metadata": {},
     "output_type": "display_data"
    }
   ],
   "source": [
    "plt.figure(figsize=(0.6,1.5))\n",
    "\n",
    "xr = 0.5\n",
    "yr = 0.2\n",
    "plt.barh(bar_centers, fast_counts_v/np.sum(fast_counts_v), edges[1]-edges[0], \n",
    "          alpha=0.5, facecolor='C9', lw=0.5)\n",
    "plt.barh(bar_centers, slow_counts_v/np.sum(slow_counts_v), edges[1]-edges[0],\n",
    "          edgecolor='C6', facecolor='None')\n",
    "\n",
    "# Plot standard deviations\n",
    "plt.plot([xr+0.05,]*2, [v_mu_train_slow - v_std_train_slow, v_mu_train_slow + v_std_train_slow],'C6',lw=1,clip_on=False)\n",
    "plt.plot([xr-0.025,]*2, [v_mu_train_fast - v_std_train_fast, v_mu_train_fast + v_std_train_fast],'C9',lw=1,clip_on=False)\n",
    "\n",
    "ax = plt.gca()\n",
    "ax.spines['top'].set_visible(False)\n",
    "ax.spines['right'].set_visible(False)\n",
    "\n",
    "ax.set_xticks([0, xr/2, xr])\n",
    "ax.set_xticklabels([0, '', xr],fontsize=8)\n",
    "plt.yticks(np.linspace(1.6-yr, 1.6+yr, 3),fontsize=8)\n",
    "plt.ylim([1.60-yr, 1.6+yr])\n",
    "\n",
    "plt.xlim([0, xr])"
   ]
  },
  {
   "cell_type": "markdown",
   "metadata": {},
   "source": [
    "## Empirical time course of variance w/perturbations (Fig. 3H)"
   ]
  },
  {
   "cell_type": "code",
   "execution_count": 572,
   "metadata": {},
   "outputs": [],
   "source": [
    "t_repeated = np.concatenate([np.concatenate([t_noise + T_noise*tt + d*T_post for tt in range(num_perturbations)]) for d in range(days)])"
   ]
  },
  {
   "cell_type": "code",
   "execution_count": 827,
   "metadata": {},
   "outputs": [
    {
     "data": {
      "image/png": "[encoded data removed]",
      "text/plain": [
       "<Figure size 60x150 with 1 Axes>"
      ]
     },
     "metadata": {},
     "output_type": "display_data"
    }
   ],
   "source": [
    "plt.figure(figsize=(0.6,1.5))\n",
    "ax = plt.gca()\n",
    "\n",
    "plt.plot(t_train_perturb_fast, np.var(y_train_perturb_fast[:,1,:], axis=0),c='C9',lw=1)\n",
    "plt.plot(t_repeated, np.var(y_train_perturb_slow[:,1,:], axis=0),c='C6',lw=1)\n",
    "\n",
    "plt.xlim([0, 96])\n",
    "plt.ylim([-0.0002,0.004])\n",
    "\n",
    "ax.spines['top'].set_visible(False)\n",
    "ax.spines['right'].set_visible(False)\n",
    "\n",
    "ax.set_xticks(np.linspace(0,96,5))\n",
    "ax.set_xticklabels([0,'','','',96],fontsize=8)\n",
    "\n",
    "ax.set_yticks(np.linspace(0,0.004,3))\n",
    "ax.set_yticklabels([0,'',0.004],fontsize=8)"
   ]
  },
  {
   "cell_type": "markdown",
   "metadata": {},
   "source": [
    "## Without sensory input\n",
    "(For comparison to Hebbian rule in Fig. 5)"
   ]
  },
  {
   "cell_type": "code",
   "execution_count": 23,
   "metadata": {},
   "outputs": [],
   "source": [
    "head_post_no_input = lambda t: 0"
   ]
  },
  {
   "cell_type": "code",
   "execution_count": 25,
   "metadata": {},
   "outputs": [],
   "source": [
    "# with post-training input\n",
    "t_learn, y_learn, t_post, y_post_no_input = simulateTrainingOnline(y_0, T_learn, T_post, head_learn, head_post_no_input, \n",
    "                                                        target_learn, target_post, params, returnSeparate=True)\n",
    "y_no_input = np.hstack((y_learn, y_post_no_input))\n",
    "gain_input = gain(y_no_input[0,:], y_no_input[1,:])"
   ]
  },
  {
   "cell_type": "code",
   "execution_count": 27,
   "metadata": {},
   "outputs": [
    {
     "data": {
      "text/plain": [
       "1.0014572173246263"
      ]
     },
     "execution_count": 27,
     "metadata": {},
     "output_type": "execute_result"
    }
   ],
   "source": [
    "# % difference in v after 24 h\n",
    "y_input[1,-1]/y_no_input[1,-1]"
   ]
  }
 ],
 "metadata": {
  "kernelspec": {
   "display_name": "Python 3 (ipykernel)",
   "language": "python",
   "name": "python3"
  },
  "language_info": {
   "codemirror_mode": {
    "name": "ipython",
    "version": 3
   },
   "file_extension": ".py",
   "mimetype": "text/x-python",
   "name": "python",
   "nbconvert_exporter": "python",
   "pygments_lexer": "ipython3",
   "version": "3.10.9"
  }
 },
 "nbformat": 4,
 "nbformat_minor": 4
}
