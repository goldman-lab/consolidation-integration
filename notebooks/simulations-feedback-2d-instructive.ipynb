{
 "cells": [
  {
   "cell_type": "code",
   "execution_count": 1,
   "id": "8202cac1",
   "metadata": {},
   "outputs": [],
   "source": [
    "import numpy as np\n",
    "import matplotlib\n",
    "\n",
    "# Embed fonts into PDF/PS files\n",
    "matplotlib.rcParams['pdf.fonttype'] = 42\n",
    "matplotlib.rcParams['ps.fonttype'] = 42\n",
    "\n",
    "import matplotlib.pyplot as plt\n",
    "%matplotlib inline\n",
    "\n",
    "import matplotlib.colors\n",
    "\n",
    "import scipy.integrate\n",
    "import scipy.optimize"
   ]
  },
  {
   "cell_type": "code",
   "execution_count": 2,
   "id": "71652a7c",
   "metadata": {},
   "outputs": [],
   "source": [
    "matplotlib.rcParams.update({'font.size': 7, 'axes.linewidth': 0.5, 'xtick.major.width': 0.5, 'xtick.minor.width': 0.5, \n",
    "                            'ytick.major.width': 0.5,'ytick.minor.width': 0.5, 'xtick.major.pad':2,'ytick.major.pad':2})\n",
    "matplotlib.rcParams.update({'font.family':'sans-serif','font.sans-serif':['Arial']})"
   ]
  },
  {
   "cell_type": "code",
   "execution_count": 3,
   "id": "ff243a8b",
   "metadata": {},
   "outputs": [],
   "source": [
    "def make_rgb_transparent(rgb, bg_rgb, alpha):\n",
    "    return [alpha * c1 + (1 - alpha) * c2\n",
    "            for (c1, c2) in zip(rgb, bg_rgb)]"
   ]
  },
  {
   "cell_type": "markdown",
   "id": "db28bfeb",
   "metadata": {},
   "source": [
    "# Define parameters"
   ]
  },
  {
   "cell_type": "code",
   "execution_count": 4,
   "id": "f43ab960",
   "metadata": {},
   "outputs": [],
   "source": [
    "## Physiological parameters\n",
    "\n",
    "# mvn head sensitvity in the light: 0.38 sp/s / deg/s for ~0.85 gain -- Beraneck & Cullen 2007\n",
    "# => k_eye ~= 2.2\n",
    "\n",
    "# initial gain ~- 0.4 in mice (Katoh et al. 2015, Boyden & Raymond 2003)\n",
    "\n",
    "# Eye movement response to optogenetic stimulation (Payne et al. 2019)\n",
    "# ~0.1 deg/s / sp/s = k_eye * w_PC => w_PC ~= 0.05\n",
    "\n",
    "# memory retention ~75% after 24 hr calculated from Boyden & Raymond 2003\n",
    "\n",
    "params = {\n",
    "    'mf_0': 55, # Lasker et al. 2008\n",
    "    'pf_0': 14, # Arenz et al. 2008 -- assume each MF EPSC evokes a GC spike\n",
    "    'cf_0': 1,\n",
    "    'mf_sensitivity': 0.14, # Lasker et al. 2008\n",
    "    'k_pf_h': 0.42, # Arenz et al. 2008 (See above)\n",
    "    'k_pf_e': 0.42,\n",
    "    'w_inh_h': 5,\n",
    "    'w_pc_mvn': 0.05, #0.5\n",
    "    'k_eye': 2.2,\n",
    "    'k_v': 3.6e-3, # 0.01 # to get 75% retention\n",
    "    'tau_f': 0.017, # fast average\n",
    "    'tau_mvn': 0.7, # 0.7 # tau_f,v: average of activity being integrated at MVN\n",
    "    'k_LTD': 0.75, # for ~30% learning for 30 mins of training\n",
    "    'beta_rs':1, # Guo et al. 2014\n",
    "    'beta_homeo': 0.0125,\n",
    "    'w_eye': 8.43, # for eye sensitivity of 2.7 sp/s/(deg/s), Katoh et al. 2015, given PF sensitivity above\n",
    "    'w_inh_e': 2,\n",
    "}\n",
    "params['k_LTP'] = params['k_LTD']*params['cf_0'] # so that dw_H/dt = 0 when no error information\n",
    "\n",
    "## Behavioral parameters\n",
    "\n",
    "# Kimpo et al. 2014, Nguyen-Vu et al. 2013, Boyden & Raymond 2003\n",
    "stim_freq = 1 \n",
    "peak_velocity_learn = 15 # deg/s\n",
    "peak_velocity_post = 15\n",
    "\n",
    "# Define function for head velocity\n",
    "head_learn = lambda t: peak_velocity_learn*np.sin(2*np.pi*stim_freq*3600*t)\n",
    "head_post_input = lambda t: peak_velocity_post*np.sin(2*np.pi*stim_freq*3600*t) # w/post-training input\n",
    "head_post_no_input = lambda t: 0 # w/o post-training input\n",
    "\n",
    "# Define function for retinal slip\n",
    "target_learn = lambda t: np.sin(2*np.pi*stim_freq*3600*t)\n",
    "target_post = lambda t: 0"
   ]
  },
  {
   "cell_type": "code",
   "execution_count": 5,
   "id": "674a41ee",
   "metadata": {},
   "outputs": [],
   "source": [
    "# Function to determine initial value of w_H given an initial gain value\n",
    "w_e_tilde = params['k_pf_e']*(params['w_eye']-params['w_inh_e'])\n",
    "w_h_0 = lambda g_init: g_init * w_e_tilde/params['k_pf_h']\n",
    "\n",
    "# Initial gain\n",
    "g_init = 0.4"
   ]
  },
  {
   "cell_type": "code",
   "execution_count": 6,
   "id": "5a89a1dc",
   "metadata": {},
   "outputs": [],
   "source": [
    "v_0_ = lambda w_h_0: w_h_0*params['k_pf_h']/(params['k_eye']*w_e_tilde*params['mf_sensitivity'])"
   ]
  },
  {
   "cell_type": "code",
   "execution_count": 7,
   "id": "d77e6b1a",
   "metadata": {},
   "outputs": [],
   "source": [
    "gain = lambda w_h, v: params['k_eye']*((params['mf_sensitivity']*v - \n",
    "                                    params['k_pf_h']*params['w_pc_mvn']*(w_h)) / \n",
    "                                    (1 - params['w_pc_mvn']*params['k_pf_e']*params['k_eye']*(params['w_eye']-params['w_inh_e'])))\n",
    "    "
   ]
  },
  {
   "cell_type": "markdown",
   "id": "380c3985",
   "metadata": {},
   "source": [
    "## ODE Solver"
   ]
  },
  {
   "cell_type": "markdown",
   "id": "a388f1be",
   "metadata": {},
   "source": [
    "We model the evolution of the state `y`, which has six components: `y[0]` is $w_H$, `y[1]` is $v$, `y[2]` is $\\langle\\text{MF}(\\text{PC}-\\langle\\text{PC}\\rangle)\\rangle$, `y[3]` is $\\langle\\text{PF}_H\\rangle$, `y[4]` is $\\langle\\text{PF}_H\\cdot\\text{CF}\\rangle$, `y[5]` is $\\langle\\text{PC}\\rangle$. The evolution is defined in Materials and Methods, _Circuit model with internal feedback loop_."
   ]
  },
  {
   "cell_type": "code",
   "execution_count": 8,
   "id": "8dea87d0",
   "metadata": {},
   "outputs": [],
   "source": [
    "# Function to pass to ODE solver\n",
    "def feedback2D_CF(t, y, head, target_gain, learn, params):\n",
    "    '''\n",
    "    head: a function taking a time argument that returns the head velocity\n",
    "    target_gain: scalar value for target input-to-output gain\n",
    "    learn: set to True if in the training period, False if in the post-training period\n",
    "    params: list containing the physiological parameters\n",
    "    \n",
    "    '''\n",
    "    w_h_exc = y[0]\n",
    "    w_h = w_h_exc - params['w_inh_h']\n",
    "    w_e = params['w_eye']-params['w_inh_e']\n",
    "    \n",
    "    v = y[1]\n",
    "    theta = y[5]\n",
    "    \n",
    "    current_gain = params['k_eye']*((params['mf_sensitivity']*v - \n",
    "                                    params['k_pf_h']*params['w_pc_mvn']*(w_h)) / \n",
    "                                    (1 - params['w_pc_mvn']*params['k_pf_e']*params['k_eye']*w_e))\n",
    "    eye = -current_gain * head(t)\n",
    "    \n",
    "    delta_mf = params['mf_sensitivity']*head(t)\n",
    "    delta_pf_h = params['k_pf_h']*head(t)\n",
    "    delta_pf_e = params['k_pf_e']*eye\n",
    "    \n",
    "    mf = params['mf_0'] + delta_mf\n",
    "    pf_h = params['pf_0'] + delta_pf_h\n",
    "    pf_e = params['pf_0'] + delta_pf_e\n",
    "    \n",
    "    pc = params['pc_0'] + w_h*pf_h + w_e*pf_e\n",
    "    delta_pc = pc - theta\n",
    "    \n",
    "    rs = -(target_gain - current_gain)*head(t)\n",
    "    \n",
    "    delta_cf = np.tanh(-params['beta_rs']*rs*learn + params['beta_homeo']*delta_pc)\n",
    "    cf = params['cf_0'] + delta_cf\n",
    "\n",
    "    dydt = np.zeros(6)\n",
    "    # w_H, v, <MF(PC-<PC>)>, <PF_H>, <PF_H*CF>, <PC>\n",
    "    dydt[0] = params['k_LTP']*y[3] - params['k_LTD']*y[4]\n",
    "    dydt[1] = params['k_v']*(-y[2])\n",
    "    dydt[2] = 1/params['tau_mvn'] * (-y[2] + mf*(pc - theta))\n",
    "    dydt[3] = 1/params['tau_f'] * (-y[3] + pf_h)\n",
    "    dydt[4] = 1/params['tau_f'] * (-y[4] + pf_h*cf)\n",
    "    dydt[5] = 1/params['tau_f'] * (-y[5] + pc)\n",
    "    \n",
    "    return dydt\n",
    "\n",
    "# Jacobian \n",
    "def feedback2D_CF_Jac(t, y, head, target_gain, learn, params):\n",
    "    w_h_exc = y[0]\n",
    "    w_h = w_h_exc - params['w_inh_h']\n",
    "    w_e = params['w_eye']-params['w_inh_e']\n",
    "    \n",
    "    v = y[1]\n",
    "    theta = y[5]\n",
    "    \n",
    "    w_e_ = params['k_eye']*params['k_pf_e']*w_e\n",
    "    d = 1 - params['w_pc_mvn']*w_e_\n",
    "    \n",
    "    current_gain = params['k_eye']*((params['mf_sensitivity']*v - \n",
    "                                    params['k_pf_h']*params['w_pc_mvn']*(w_h)) / d)\n",
    "    eye = -current_gain * head(t)\n",
    "    \n",
    "    \n",
    "    delta_mf = params['mf_sensitivity']*head(t)\n",
    "    delta_pf_h = params['k_pf_h']*head(t)\n",
    "    delta_pf_e = params['k_pf_e']*eye\n",
    "    \n",
    "    \n",
    "    mf = params['mf_0'] + delta_mf\n",
    "    pf_h = params['pf_0'] + delta_pf_h\n",
    "    pf_e = params['pf_0'] + delta_pf_e\n",
    "    \n",
    "    pc = params['pc_0'] + w_h*pf_h + w_e*pf_e\n",
    "    delta_pc = pc - theta\n",
    "    \n",
    "    rs = -(target_gain - current_gain)*head(t)\n",
    "    delta_cf = np.tanh(-params['beta_rs']*rs*learn + params['beta_homeo']*delta_pc)\n",
    "    \n",
    "    \n",
    "    dpc_dwh = params['pf_0'] + params['k_pf_h']/d*head(t)\n",
    "    dpc_dv = - w_e_*params['mf_sensitivity']/d*head(t)\n",
    "    \n",
    "    dg_dwh = -params['k_eye']*params['w_pc_mvn']*params['k_pf_h']/d\n",
    "    dg_dv = params['k_eye']*params['mf_sensitivity']/d\n",
    "    \n",
    "    K = (1 - delta_cf**2)*params['k_pf_h']*head(t)\n",
    "    jac = 1/params['tau_f']*np.eye(6,6)\n",
    "    # w_H, v, <MF(PC-<PC>)>, <PF_H>, <PF_H*CF>, <PC>\n",
    "    jac[0,:] = np.array([0, 0, 0, params['k_LTP'], -params['k_LTD'], 0])\n",
    "    jac[1,:] = np.array([0, 0, -params['k_v'],0 , 0,0])\n",
    "    jac[2,:] = 1/params['tau_mvn']*np.array([mf*dpc_dwh, mf*dpc_dv, -1, 0,0,-mf])\n",
    "    jac[4,:] = 1/params['tau_f']*np.array([K*(-params['beta_rs']*learn*dg_dwh*head(t) + \n",
    "                                              params['beta_homeo']*(pf_h - w_e*params['k_pf_e']*dg_dwh*head(t))),\n",
    "                                            K*(-params['beta_rs']*learn*dg_dv*head(t) + \n",
    "                                              params['beta_homeo']*(pf_h - w_e*params['k_pf_e']*dg_dv*head(t))),  \n",
    "                                             0, 0, -1, -K*params['beta_homeo']])\n",
    "    jac[5,:] = 1/params['tau_f']*np.array([dpc_dwh, dpc_dv, 0, 0, 0, -1])\n",
    "    \n",
    "    return jac"
   ]
  },
  {
   "cell_type": "code",
   "execution_count": 9,
   "id": "12b122a3",
   "metadata": {},
   "outputs": [
    {
     "data": {
      "text/plain": [
       "2.5719999999999996"
      ]
     },
     "execution_count": 9,
     "metadata": {},
     "output_type": "execute_result"
    }
   ],
   "source": [
    "# Value of w_H for a starting gain of 0.4\n",
    "w_h_0(g_init)"
   ]
  },
  {
   "cell_type": "code",
   "execution_count": 10,
   "id": "c252fac8",
   "metadata": {},
   "outputs": [],
   "source": [
    "w_h_0_ = 2.5"
   ]
  },
  {
   "cell_type": "markdown",
   "id": "1310c781",
   "metadata": {},
   "source": [
    "For simplicity of plotting, we set the initial value of $w_H$ to 2.5, which leads to an initial value of $v$:"
   ]
  },
  {
   "cell_type": "code",
   "execution_count": 11,
   "id": "a2cde45f",
   "metadata": {},
   "outputs": [
    {
     "name": "stdout",
     "output_type": "stream",
     "text": [
      "1.262345741350407\n"
     ]
    }
   ],
   "source": [
    "v_0 = v_0_(w_h_0_)\n",
    "print(v_0)"
   ]
  },
  {
   "cell_type": "markdown",
   "id": "d64c3017",
   "metadata": {},
   "source": [
    "and starting gain:"
   ]
  },
  {
   "cell_type": "code",
   "execution_count": 12,
   "id": "45331df0",
   "metadata": {
    "scrolled": true
   },
   "outputs": [
    {
     "data": {
      "text/plain": [
       "0.3888024883359254"
      ]
     },
     "execution_count": 12,
     "metadata": {},
     "output_type": "execute_result"
    }
   ],
   "source": [
    "gain(2.5, v_0)"
   ]
  },
  {
   "cell_type": "code",
   "execution_count": 13,
   "id": "986294ff",
   "metadata": {},
   "outputs": [],
   "source": [
    "# Spontaneous firing rate of PCs ~50 sp/s (Katoh et al. 2015) \n",
    "# and MVNs is ~57 sp/s (Nelson et al. 2003)\n",
    "\n",
    "# Calculate PC and MVN offsets so that this is the firing rate at baseline\n",
    "params['pc_0'] = 50 - params['pf_0']*(w_h_0_ + params['w_eye']-params['w_inh_e'])\n",
    "params['mvn_0'] = 57 - params['mf_0']*v_0_(w_h_0_) + params['w_pc_mvn']*50"
   ]
  },
  {
   "cell_type": "code",
   "execution_count": 14,
   "id": "daffc615",
   "metadata": {},
   "outputs": [
    {
     "data": {
      "text/plain": [
       "(-75.02, -9.929015774272372)"
      ]
     },
     "execution_count": 14,
     "metadata": {},
     "output_type": "execute_result"
    }
   ],
   "source": [
    "# Correction factors for spontaneous firing rates\n",
    "params['pc_0'], params['mvn_0']"
   ]
  },
  {
   "cell_type": "code",
   "execution_count": 15,
   "id": "b29840cb",
   "metadata": {},
   "outputs": [],
   "source": [
    "g_des = 2 # Target gain value during training\n",
    "\n",
    "## Initial conditions\n",
    "theta_0 = params['pc_0'] + params['pf_0']*(w_h_0_ + params['w_eye']-params['w_inh_e'])\n",
    "y_0 = np.array([w_h_0_ + params['w_inh_h'], v_0, 0, params['pf_0'], params['pf_0']*params['cf_0'], theta_0])"
   ]
  },
  {
   "cell_type": "markdown",
   "id": "acfc8cc5",
   "metadata": {},
   "source": [
    "# Figure 6, bottom row"
   ]
  },
  {
   "cell_type": "markdown",
   "id": "2c334b92",
   "metadata": {},
   "source": [
    "## Run simulation"
   ]
  },
  {
   "cell_type": "code",
   "execution_count": 379,
   "id": "aaf7a254",
   "metadata": {},
   "outputs": [],
   "source": [
    "T_learn = 0.5 # h\n",
    "\n",
    "T_post = 24 # s\n",
    "\n",
    "## Time steps for plotting (ODE solver uses variable time steps)\n",
    "\n",
    "dt_learn = 1/3600 # h (= 1 s)\n",
    "dt_post = 10*60/3600 # h (= 10 min)\n",
    "\n",
    "t_learn = np.linspace(0, T_learn, int(T_learn/dt_learn))\n",
    "t_post = np.linspace(0, T_post-T_learn, int(T_post/dt_post)) + T_learn\n",
    "\n",
    "\n",
    "# Solution during the training period\n",
    "sol_learn = scipy.integrate.solve_ivp(lambda t,y: feedback2D_CF(t,y, head_learn, g_des, True, params), [0, T_learn], y_0, \n",
    "                                  jac=lambda t,y: feedback2D_CF_Jac(t,y,head_learn, g_des,True,params), method='Radau', dense_output=True)\n",
    "\n",
    "y_learn = sol_learn.sol(t_learn)\n",
    "\n",
    "sol_recov = scipy.integrate.solve_ivp(lambda t,y: feedback2D_CF(t,y, head_post_input, g_des, False, params), [T_learn, T_post], y_learn[:,-1], \n",
    "                                  jac=lambda t,y: feedback2D_CF_Jac(t,y,head_post_input,\n",
    "                                                             g_des,False,params), method='Radau', dense_output=True)\n",
    "\n",
    "y_recov = sol_recov.sol(t_post)"
   ]
  },
  {
   "cell_type": "code",
   "execution_count": 380,
   "id": "98463651",
   "metadata": {},
   "outputs": [],
   "source": [
    "t_ = np.concatenate((t_learn, t_post))\n",
    "y_ = np.hstack((y_learn, y_recov))"
   ]
  },
  {
   "cell_type": "code",
   "execution_count": 381,
   "id": "8fe379ff",
   "metadata": {},
   "outputs": [],
   "source": [
    "w_H = y_[0,:] - params['w_inh_h']"
   ]
  },
  {
   "cell_type": "code",
   "execution_count": 317,
   "id": "de9798c3",
   "metadata": {},
   "outputs": [],
   "source": [
    "# Utilities: analytical formulas for amplitude of retinal slip and homeostatic components of instructive signal\n",
    "rs_amp = lambda w_H, v, g_des: -(g_des - gain(w_H,v))\n",
    "homeo_amp = lambda w_H, v: w_H*params['k_pf_h'] - (params['w_eye']-params['w_inh_e'])*params['k_pf_e']*gain(w_H,v)\n",
    "\n",
    "cf_amp_inside = lambda w_H, v, g_des, learn, v_p: (-params['beta_rs']*rs_amp(w_H,v,g_des)*learn\n",
    "                                       + params['beta_homeo']*homeo_amp(w_H,v))*v_p\n"
   ]
  },
  {
   "cell_type": "markdown",
   "id": "4b66a77e",
   "metadata": {},
   "source": [
    "## Figure 6G"
   ]
  },
  {
   "cell_type": "code",
   "execution_count": 361,
   "id": "5aaaf81f",
   "metadata": {},
   "outputs": [],
   "source": [
    "w_H = y_[0,:] - params['w_inh_h']"
   ]
  },
  {
   "cell_type": "code",
   "execution_count": 383,
   "id": "9a2c02a9",
   "metadata": {},
   "outputs": [
    {
     "data": {
      "image/png": "[encoded data removed]",
      "text/plain": [
       "<Figure size 150x140 with 2 Axes>"
      ]
     },
     "metadata": {},
     "output_type": "display_data"
    }
   ],
   "source": [
    "plt.figure(figsize=(1.5,1.4))\n",
    "\n",
    "ax = plt.subplot(2,1,1)\n",
    "\n",
    "plt.plot([-2,24], [0,0],'k--',lw=0.5)\n",
    "\n",
    "plt.plot([0, 0.5],[0.4,]*2,  c='C1', lw=2, clip_on=False)\n",
    "plt.plot([0.5, 24], [0.4,]*2,  c=(0.7,)*3, lw=2, clip_on=False)\n",
    "\n",
    "plt.plot(t_, (w_H-w_H[0])/w_H[0], c='C0', clip_on=False,lw=1)\n",
    "# plt.plot(t_, (y_[6,:]-y_[6,0])/y_[6,0], c='C9', clip_on=False,lw=1)\n",
    "plt.ylim([-0.65, 0.3])\n",
    "plt.xlim([-2,24])\n",
    "ax.xaxis.set_visible(False)\n",
    "\n",
    "ax.set_yticks([0.3, 0, -0.3, -0.6])\n",
    "\n",
    "ax.spines['top'].set_visible(False)\n",
    "ax.spines['right'].set_visible(False)\n",
    "ax.spines['bottom'].set_visible(False)\n",
    "\n",
    "ax = plt.subplot(2,1,2)\n",
    "plt.plot(t_, (y_[1,:]-y_[1,0])/y_[1,0], c='C3',lw=1)\n",
    "\n",
    "plt.ylim([0, 0.3])\n",
    "plt.xlim([-2,24])\n",
    "ax.spines['top'].set_visible(False)\n",
    "ax.spines['right'].set_visible(False)\n",
    "ax.set_yticks([0, 0.15,0.3])\n",
    "\n",
    "ax.set_xticks([0,12,24])\n",
    "ax.set_xticks([0, 24])\n",
    "ax.set_xticks([12], minor=True)"
   ]
  },
  {
   "cell_type": "markdown",
   "id": "de13e367",
   "metadata": {},
   "source": [
    "## Figure 6H, I"
   ]
  },
  {
   "cell_type": "markdown",
   "id": "02132497",
   "metadata": {},
   "source": [
    "For the bottom panel, we plot the time course of the circuit's input-output gain."
   ]
  },
  {
   "cell_type": "code",
   "execution_count": 384,
   "id": "eaa63188",
   "metadata": {},
   "outputs": [],
   "source": [
    "gain_ = gain(w_H, y_[1,:])\n",
    "gain_v = y_[1,:]*params['mf_sensitivity']*params['k_eye']"
   ]
  },
  {
   "cell_type": "markdown",
   "id": "abc6ca9d",
   "metadata": {},
   "source": [
    "Percentage of gain that is consolidated:"
   ]
  },
  {
   "cell_type": "code",
   "execution_count": 385,
   "id": "38fd3e7e",
   "metadata": {},
   "outputs": [],
   "source": [
    "gain_learn = gain(y_learn[0,:]-params['w_inh_h'],y_learn[1,:])\n",
    "gain_post = gain(y_recov[0,:]-params['w_inh_h'],y_recov[1,:])"
   ]
  },
  {
   "cell_type": "code",
   "execution_count": 386,
   "id": "58896fad",
   "metadata": {},
   "outputs": [
    {
     "data": {
      "text/plain": [
       "0.752040466780334"
      ]
     },
     "execution_count": 386,
     "metadata": {},
     "output_type": "execute_result"
    }
   ],
   "source": [
    "(gain_post[-1]-gain_learn[0])/(gain_learn[-1]-gain_learn[0])"
   ]
  },
  {
   "cell_type": "markdown",
   "id": "39a3234d",
   "metadata": {},
   "source": [
    "For the top panel, we calculate the change in sensitivity of PCs to the sensory (vestibular) input, relative to a sliding average, and mulitply by peak velocity to get the change in the amplitude of PC modulation."
   ]
  },
  {
   "cell_type": "code",
   "execution_count": 387,
   "id": "85850ed9",
   "metadata": {},
   "outputs": [],
   "source": [
    "w_H = y_[0,:] - params['w_inh_h']\n",
    "w_E = params['w_eye'] - params['w_inh_e']\n",
    "v = y_[1,:]\n",
    "\n",
    "\n",
    "\n",
    "delta_pc_amp = ((params['k_pf_h']*w_H - params['k_eye']*params['k_pf_e']*w_E*params['mf_sensitivity']*v)/\n",
    "            (1 - params['w_pc_mvn']*params['k_eye']*params['k_pf_e']*w_E))\n",
    "pc_avg = params['pc_0'] + params['pf_0']*(w_H + w_E)"
   ]
  },
  {
   "cell_type": "code",
   "execution_count": 388,
   "id": "152e6a1d",
   "metadata": {},
   "outputs": [
    {
     "data": {
      "image/png": "[encoded data removed]",
      "text/plain": [
       "<Figure size 150x140 with 2 Axes>"
      ]
     },
     "metadata": {},
     "output_type": "display_data"
    }
   ],
   "source": [
    "plt.figure(figsize=(1.5,1.4))\n",
    "\n",
    "ax = plt.subplot(2,1,1)\n",
    "\n",
    "plt.plot(t_, delta_pc_amp*peak_velocity_post,clip_on=False)\n",
    "plt.plot([-1,24], [0,0],c='k',ls='--',lw=0.5, clip_on=False)\n",
    "\n",
    "plt.plot([0, T_learn], [2,]*2, c='C1', lw=2, clip_on=False)\n",
    "plt.plot([T_learn, T_post], [2,]*2, c=(0.7,)*3, lw=2, clip_on=False)\n",
    "# plt.ylim()\n",
    "plt.ylim([-15, 0])\n",
    "plt.xlim([-2,24])\n",
    "ax = plt.gca()\n",
    "ax.spines['top'].set_visible(False)\n",
    "ax.spines['right'].set_visible(False)\n",
    "ax.spines['bottom'].set_visible(False)\n",
    "ax.xaxis.set_visible(False)\n",
    "\n",
    "plt.yticks([0, -8, -16])\n",
    "\n",
    "ax = plt.subplot(2,1,2)\n",
    "plt.fill_between(t_, np.zeros(len(t_)), gain_v/gain_v[0]-1, facecolor='C3',alpha=0.2)\n",
    "plt.fill_between(t_, gain_v/gain_v[0]-1,gain_/gain_[0]-1,  facecolor='C0',alpha=0.2 )\n",
    "plt.plot(t_, gain_/gain_[0]-1, c='k',lw=1)\n",
    "\n",
    "plt.ylim([0, 0.4])\n",
    "plt.xlim([-2,24])\n",
    "ax=plt.gca()\n",
    "ax.spines['top'].set_visible(False)\n",
    "ax.spines['right'].set_visible(False)\n",
    "ax.set_xticks([0, 24])\n",
    "ax.set_xticks([12], minor=True)\n",
    "ax.set_xticklabels([0, 24])"
   ]
  },
  {
   "cell_type": "markdown",
   "id": "6f3dd5e6",
   "metadata": {},
   "source": [
    "## Figure 6J\n",
    "\n",
    "Here we plot the phase portrait of the weight dynamics of the circuit, as well as the continuum of steady states."
   ]
  },
  {
   "cell_type": "code",
   "execution_count": 389,
   "id": "fd9b697d",
   "metadata": {},
   "outputs": [],
   "source": [
    "sigma_h2 = 0.5*peak_velocity_post**2\n",
    "\n",
    "\n",
    "w_e_tilde = params['k_pf_e']*(params['w_eye']-params['w_inh_e'])\n",
    "\n",
    "delta_pc_sens = lambda w_h, v: ((params['k_pf_h']*(w_h) - \n",
    "                              params['k_eye']*w_e_tilde*\n",
    "                                 params['mf_sensitivity']*v)/\n",
    "                              (1 - params['w_pc_mvn']*params['k_eye']*w_e_tilde))\n",
    "\n",
    "attractor_slope = params['k_pf_h']/(params['k_eye']*w_e_tilde*params['mf_sensitivity'])"
   ]
  },
  {
   "cell_type": "markdown",
   "id": "072e189f",
   "metadata": {},
   "source": [
    "We estimate $\\text{d}w_H/\\text{d}t$ as \n",
    "$$\n",
    "k_\\text{LTD}k_\\text{PF}\\langle\\dot{H}(t)\\tanh(\\beta_\\text{dark}\\delta\\text{PC}(t))\\rangle \\approx \\frac{1}{T}k_\\text{LTD}k_\\text{PF}\\int_0^T\\text{d}t\\ \\dot{H}(t)\\tanh\\left(\\beta_\\text{dark}\\frac{w_H - k_E \\tilde{w}_E v}{1-w_\\text{PC}k_E\\tilde{w}_E}\\dot{H}(t)\\right).\n",
    "$$"
   ]
  },
  {
   "cell_type": "code",
   "execution_count": 390,
   "id": "0a604e0b",
   "metadata": {},
   "outputs": [],
   "source": [
    "T_avg = 0.5/3600 # one half cycle at 1 Hz\n",
    "avg_equation = lambda t,w,v: head_learn(t)*np.tanh(params['beta_homeo']*delta_pc_sens(w,v)*head_learn(t))\n",
    "dwdt_approx = lambda w,v: 1/T_avg*params['k_LTD']*params['k_pf_h']*scipy.integrate.quad(lambda t: avg_equation(t,w,v), 0, T_avg)[0]"
   ]
  },
  {
   "cell_type": "code",
   "execution_count": 391,
   "id": "5c84da8f",
   "metadata": {},
   "outputs": [
    {
     "data": {
      "image/png": "[encoded data removed]",
      "text/plain": [
       "<Figure size 150x150 with 1 Axes>"
      ]
     },
     "metadata": {},
     "output_type": "display_data"
    }
   ],
   "source": [
    "plt.figure(figsize=(1.5,1.5))\n",
    "\n",
    "# Plot attractor\n",
    "xlims = [0, 5] \n",
    "ylims = [0.8, 1.8]\n",
    "\n",
    "plt.plot([w_H[0],]*2,ylims,'k--', lw=1) # starting point\n",
    "\n",
    "w_max = ylims[1]/attractor_slope\n",
    "\n",
    "plt.plot([xlims[0], w_max], (np.array([xlims[0], w_max])*attractor_slope),\n",
    "        c=(0.5, 0.5, 0.5))\n",
    "\n",
    "plt.plot(y_learn[0,:]-params['w_inh_h'], y_learn[1,:], c='C1')\n",
    "plt.plot(y_recov[0,:]-params['w_inh_h'], y_recov[1,:], c='k')\n",
    "\n",
    "ylimrange = ylims[1]-ylims[0]\n",
    "xlimrange = xlims[1]-xlims[0]\n",
    "\n",
    "plt.ylim(ylims)\n",
    "plt.xlim(xlims)\n",
    "\n",
    "ww_phase, vv_phase = np.meshgrid(xlims[0] + np.linspace(0.1,0.9,6)*xlimrange,ylims[0] + np.linspace(0.1,0.9,4)*ylimrange)\n",
    "\n",
    "\n",
    "dw_phase = np.vstack([[-dwdt_approx(ww_phase[i,j], vv_phase[i,j]) for j in range(ww_phase.shape[1])]\n",
    "                          for i in range(ww_phase.shape[0])])\n",
    "\n",
    "\n",
    "dv_phase = -params['k_v']*(params['mf_sensitivity']*delta_pc_sens(ww_phase,vv_phase)*sigma_h2)\n",
    "\n",
    "dw_phase_norm = dw_phase/np.sqrt(dw_phase**2+dv_phase**2)\n",
    "dv_phase_norm = dv_phase/np.sqrt(dw_phase**2+dv_phase**2)\n",
    "\n",
    "plt.quiver(ww_phase, vv_phase, dw_phase_norm, dv_phase_norm, pivot='middle', scale=10, angles='xy', color=(0.7, 0.7, 0.7, 1))\n",
    "\n",
    "ax = plt.gca()\n",
    "ax.set_xticks([0, 2.5, 5])\n",
    "ax.set_yticks([0.8, 1.3, 1.8]);"
   ]
  },
  {
   "cell_type": "markdown",
   "id": "515360d2",
   "metadata": {},
   "source": [
    "# Phase plots during training (Fig S4B)"
   ]
  },
  {
   "cell_type": "code",
   "execution_count": 35,
   "id": "0a8636f9",
   "metadata": {},
   "outputs": [
    {
     "data": {
      "text/plain": [
       "(0.042666666666666665, 0.05)"
      ]
     },
     "execution_count": 35,
     "metadata": {},
     "output_type": "execute_result"
    }
   ],
   "source": [
    "# approximate condition for trajectories to stay in region w^*_{H,opt} < w_H < w^*_{H,dark}\n",
    "(params['k_v']*params['mf_sensitivity']**2/(params['k_LTD']*params['beta_homeo']*params['k_pf_h']**2), \n",
    " params['w_pc_mvn'])"
   ]
  },
  {
   "cell_type": "code",
   "execution_count": 32,
   "id": "0578898a",
   "metadata": {},
   "outputs": [],
   "source": [
    "dt_long = 60/3600\n",
    "T_learn_long = 48\n",
    "t_sol_online = np.arange(0, int(T_learn_long/dt_long))*dt_long\n",
    "\n",
    "sol_online = scipy.integrate.solve_ivp(lambda t,y: feedback2D_CF(t,y, head_learn, g_des, True, params), [0, T_learn_long], y_0, \n",
    "                                  jac=lambda t,y: feedback2D_CF_Jac(t,y,head_learn, g_des,True,params), method='Radau', dense_output=True, max_step=0.25/3600)\n"
   ]
  },
  {
   "cell_type": "code",
   "execution_count": 33,
   "id": "051c4fb9",
   "metadata": {},
   "outputs": [],
   "source": [
    "y_online = sol_online.sol(t_sol_online)\n",
    "gain_online = gain(y_online[0,:]-params['w_inh_h'], y_online[1,:])"
   ]
  },
  {
   "cell_type": "code",
   "execution_count": 34,
   "id": "b39654b4",
   "metadata": {
    "scrolled": false
   },
   "outputs": [
    {
     "data": {
      "text/plain": [
       "[<matplotlib.lines.Line2D at 0x7fdf395c8ca0>]"
      ]
     },
     "execution_count": 34,
     "metadata": {},
     "output_type": "execute_result"
    },
    {
     "data": {
      "image/png": "[encoded data removed]",
      "text/plain": [
       "<Figure size 640x480 with 1 Axes>"
      ]
     },
     "metadata": {},
     "output_type": "display_data"
    }
   ],
   "source": [
    "# There is a small overshoot in the gain\n",
    "plt.plot(t_sol_online, gain_online)"
   ]
  },
  {
   "cell_type": "code",
   "execution_count": 36,
   "id": "cacf0823",
   "metadata": {},
   "outputs": [],
   "source": [
    "attractor_slope = params['k_pf_h']/(params['k_eye']*w_e_tilde*params['mf_sensitivity'])\n",
    "\n",
    "w_e_tilde = params['k_pf_e']*(params['w_eye']-params['w_inh_e'])\n",
    "wh_opt_line = lambda wh, g_t: 1/params['mf_sensitivity']*(params['w_pc_mvn']*params['k_pf_h']*wh \n",
    "                               + g_t/params['k_eye']*(1-params['w_pc_mvn']*params['k_eye']*w_e_tilde))\n",
    "\n",
    "k_l = params['k_LTD']*params['beta_rs']*params['k_eye']*params['w_pc_mvn']\n",
    "alpha = k_l/(k_l + params['k_LTD']*params['beta_homeo'])"
   ]
  },
  {
   "cell_type": "code",
   "execution_count": 95,
   "id": "3619f1f2",
   "metadata": {},
   "outputs": [],
   "source": [
    "denom = 1 - params['w_pc_mvn']*params['k_eye']*w_e_tilde\n",
    "\n",
    "wh_star_line = lambda wh, g_t: ((wh*params['k_pf_h']*params['w_pc_mvn'] + alpha*g_t/params['k_eye']*denom)/\n",
    "                                   (params['mf_sensitivity']*(1-denom + alpha*denom)))"
   ]
  },
  {
   "cell_type": "code",
   "execution_count": 37,
   "id": "69265352",
   "metadata": {},
   "outputs": [],
   "source": [
    "sigma_h2 = 0.5*peak_velocity_learn**2\n",
    "delta_pc_sens = lambda w_h, v: ((params['k_pf_h']*(w_h) - \n",
    "                              params['k_eye']*w_e_tilde*\n",
    "                                 params['mf_sensitivity']*v)/\n",
    "                              (1 - params['w_pc_mvn']*params['k_eye']*w_e_tilde))"
   ]
  },
  {
   "cell_type": "code",
   "execution_count": 43,
   "id": "4bd694d6",
   "metadata": {},
   "outputs": [],
   "source": [
    "T_avg = 0.5/3600 # one half cycle at 1 Hz\n",
    "avg_equation = lambda t,w,v: head_learn(t)*np.tanh((-params['beta_rs']*(g_des - gain(w,v) + \n",
    "                                                                       params['beta_homeo']*delta_pc_sens(w,v))*head_learn(t)))\n",
    "dwhdt_approx = lambda w,v: 1/T_avg*params['k_LTD']*params['k_pf_h']*scipy.integrate.quad(lambda t: avg_equation(t,w,v), 0, T_avg)[0]\n",
    "\n",
    "dwhdt_approx_vec = np.vectorize(dwhdt_approx)"
   ]
  },
  {
   "cell_type": "code",
   "execution_count": 41,
   "id": "a790433b",
   "metadata": {},
   "outputs": [],
   "source": [
    "dvdt = lambda w,v: -params['k_v']*(params['mf_sensitivity']*delta_pc_sens(w,v)*sigma_h2)"
   ]
  },
  {
   "cell_type": "markdown",
   "id": "afd35486",
   "metadata": {},
   "source": [
    "Slope of trajectories during training for a fixed value of $v$:"
   ]
  },
  {
   "cell_type": "code",
   "execution_count": 51,
   "id": "7c015003",
   "metadata": {},
   "outputs": [],
   "source": [
    "wh_plot = np.linspace(-30, -10)"
   ]
  },
  {
   "cell_type": "code",
   "execution_count": 58,
   "id": "4eecd313",
   "metadata": {},
   "outputs": [],
   "source": [
    "wh_opt_v = lambda v, g_t: -1/(params['w_pc_mvn']*params['k_pf_h'])*(g_t/params['k_eye']*\n",
    "                                                                    (1-params['w_pc_mvn']*params['k_eye']*w_e_tilde)\n",
    "                                                                   - params['mf_sensitivity']*v)\n"
   ]
  },
  {
   "cell_type": "code",
   "execution_count": 62,
   "id": "a9d421f8",
   "metadata": {
    "scrolled": false
   },
   "outputs": [
    {
     "data": {
      "text/plain": [
       "[<matplotlib.lines.Line2D at 0x7fdf3dcb5660>]"
      ]
     },
     "execution_count": 62,
     "metadata": {},
     "output_type": "execute_result"
    },
    {
     "data": {
      "image/png": "[encoded data removed]",
      "text/plain": [
       "<Figure size 640x480 with 1 Axes>"
      ]
     },
     "metadata": {},
     "output_type": "display_data"
    }
   ],
   "source": [
    "plt.plot(wh_plot, dvdt(wh_plot, v_0)/dwhdt_approx_vec(wh_plot, v_0))\n",
    "plt.plot(wh_plot[[0, -1]], [params['k_pf_h']*params['w_pc_mvn']*params['k_eye']/params['mf_sensitivity'],]*2, '--')\n",
    "\n",
    "plt.plot([wh_opt_v(v_0, g_des),]*2,[-2, 1],'k--')"
   ]
  },
  {
   "cell_type": "markdown",
   "id": "0070865e",
   "metadata": {},
   "source": [
    "Max gain change that would be stable:"
   ]
  },
  {
   "cell_type": "code",
   "execution_count": 97,
   "id": "2c08ce2f",
   "metadata": {},
   "outputs": [],
   "source": [
    "delta_wh_max = (params['k_pf_h']*params['k_LTD']*(2/np.pi*peak_velocity_learn)*denom/\n",
    "                (params['k_v']*params['mf_sensitivity']**2*sigma_h2*params['k_eye']*w_e_tilde))"
   ]
  },
  {
   "cell_type": "code",
   "execution_count": 99,
   "id": "4da2b27e",
   "metadata": {},
   "outputs": [
    {
     "data": {
      "text/plain": [
       "13.318502472304566"
      ]
     },
     "execution_count": 99,
     "metadata": {},
     "output_type": "execute_result"
    }
   ],
   "source": [
    "(1-denom)*delta_wh_max"
   ]
  },
  {
   "cell_type": "code",
   "execution_count": 71,
   "id": "665620f6",
   "metadata": {},
   "outputs": [],
   "source": [
    "w_opt = w_h_0(g_des)"
   ]
  },
  {
   "cell_type": "code",
   "execution_count": 111,
   "id": "c4f9567d",
   "metadata": {},
   "outputs": [
    {
     "data": {
      "image/png": "[encoded data removed]",
      "text/plain": [
       "<Figure size 150x150 with 1 Axes>"
      ]
     },
     "metadata": {},
     "output_type": "display_data"
    }
   ],
   "source": [
    "plt.figure(figsize=(1.5,1.5))\n",
    "xlims = [-12, 18]\n",
    "ylims = [0, 8]\n",
    "w_max = ylims[1]/attractor_slope\n",
    "w_min = ylims[0]/attractor_slope\n",
    "\n",
    "ylimrange = ylims[1]-ylims[0]\n",
    "xlimrange = xlims[1]-xlims[0]\n",
    "ww_phase, vv_phase = np.meshgrid(xlims[0] + np.linspace(0.1,0.9,6)*xlimrange,ylims[0] + np.linspace(0.1,0.9,4)*ylimrange)\n",
    "\n",
    "dw_phase = dwhdt_approx_vec(ww_phase, vv_phase)\n",
    "dv_phase = dvdt(ww_phase, vv_phase)\n",
    "\n",
    "dw_phase_norm = dw_phase/np.sqrt(dw_phase**2+dv_phase**2)\n",
    "dv_phase_norm = dv_phase/np.sqrt(dw_phase**2+dv_phase**2)\n",
    "\n",
    "plt.quiver(ww_phase, vv_phase, dw_phase_norm, dv_phase_norm, pivot='middle', scale=10, angles='xy', color=(0.7, 0.7, 0.7, 1))\n",
    "\n",
    "plt.plot([w_min, w_max], (np.array([w_min, w_max])*attractor_slope),\n",
    "        c=(0.5, 0.5, 0.5))\n",
    "\n",
    "w_star_line = np.linspace(xlims[0], xlims[1],2)\n",
    "plt.plot(w_star_line, wh_star_line(w_star_line, g_des),\n",
    "        c=(0.5, 0.5, 0.5))\n",
    "\n",
    "plt.plot([xlims[0], w_opt], wh_opt_line(np.array([xlims[0], w_opt]),g_des),\n",
    "        c='k', ls='--')\n",
    "\n",
    "plt.plot(y_online[0,:]-params['w_inh_h'],y_online[1,:], c='C1')\n",
    "\n",
    "plt.xlim(xlims)\n",
    "plt.ylim(ylims)\n",
    "\n",
    "plt.xticks([-12, 3, 18])\n",
    "plt.yticks([0, 4, 8])\n",
    "\n",
    "plt.savefig('figures/figure 6/phase-cf-train.pdf')"
   ]
  },
  {
   "cell_type": "code",
   "execution_count": 123,
   "id": "2a527480",
   "metadata": {},
   "outputs": [
    {
     "data": {
      "image/png": "[encoded data removed]",
      "text/plain": [
       "<Figure size 150x150 with 3 Axes>"
      ]
     },
     "metadata": {},
     "output_type": "display_data"
    }
   ],
   "source": [
    "plt.figure(figsize=(1.5,1.5))\n",
    "ax = plt.subplot(3,1,1)\n",
    "plt.plot([-3, 48],[y_online[0,0]-params['w_inh_h'],]*2,'k--',lw=1)\n",
    "# plt.plot(sol_learn.t, sol_learn.y[0,:]-params['w_i'],c='C0',clip_on=False)\n",
    "plt.plot(t_sol_online, y_online[0,:]-params['w_inh_h'],c='C0',clip_on=False)\n",
    "\n",
    "plt.yticks([-13, 0,13], [-13,'' , 13])\n",
    "plt.ylim([-13, 13])\n",
    "plt.xlim([-3, 48])\n",
    "\n",
    "\n",
    "ax.spines['top'].set_visible(False)\n",
    "ax.spines['right'].set_visible(False)\n",
    "ax.spines['bottom'].set_visible(False)\n",
    "plt.xticks([])\n",
    "\n",
    "\n",
    "ax = plt.subplot(3,1,2)\n",
    "\n",
    "plt.plot(t_sol_online, y_online[1,:],c='C3',clip_on=False)\n",
    "plt.ylim([v_0,6.3])\n",
    "plt.xlim([-3, 48])\n",
    "plt.yticks([1.3,3.3,6.3],[1.3,'',6.3])\n",
    "plt.xticks([0, 12,24,36,48],[0, '','', '',48])\n",
    "\n",
    "ax.spines['top'].set_visible(False)\n",
    "ax.spines['right'].set_visible(False)\n",
    "\n",
    "ax = plt.subplot(3,1,3)\n",
    "plt.plot([-3,48],[2,2],'--',lw=1, c=(0.7,)*3, clip_on=False)\n",
    "plt.plot(t_sol_online, gain_online,c='k',clip_on=False)\n",
    "\n",
    "ax.spines['top'].set_visible(False)\n",
    "ax.spines['right'].set_visible(False)\n",
    "plt.xlim([-3,48])\n",
    "plt.ylim([0.4, 2.4])\n",
    "plt.xticks([0,12,24,36,48],[0, '', '', '',48]);\n",
    "# plt.yticks([0.4, 1.4,2.4],[0.4, '', 1]);\n",
    "\n",
    "plt.subplots_adjust(hspace=1)"
   ]
  }
 ],
 "metadata": {
  "kernelspec": {
   "display_name": "Python 3 (ipykernel)",
   "language": "python",
   "name": "python3"
  },
  "language_info": {
   "codemirror_mode": {
    "name": "ipython",
    "version": 3
   },
   "file_extension": ".py",
   "mimetype": "text/x-python",
   "name": "python",
   "nbconvert_exporter": "python",
   "pygments_lexer": "ipython3",
   "version": "3.10.9"
  }
 },
 "nbformat": 4,
 "nbformat_minor": 5
}
