{
 "cells": [
  {
   "cell_type": "code",
   "execution_count": 8,
   "id": "3688063c",
   "metadata": {},
   "outputs": [],
   "source": [
    "import numpy as np\n",
    "import matplotlib\n",
    "\n",
    "# Embed fonts into PDF/PS files\n",
    "matplotlib.rcParams['pdf.fonttype'] = 42\n",
    "matplotlib.rcParams['ps.fonttype'] = 42\n",
    "\n",
    "import matplotlib.pyplot as plt\n",
    "%matplotlib inline\n",
    "\n",
    "import matplotlib.colors\n",
    "\n",
    "import scipy.integrate\n",
    "import scipy.optimize"
   ]
  },
  {
   "cell_type": "code",
   "execution_count": 9,
   "id": "76ea0a69",
   "metadata": {},
   "outputs": [],
   "source": [
    "matplotlib.rcParams.update({'font.size': 7, 'axes.linewidth': 0.5, 'xtick.major.width': 0.5, 'xtick.minor.width': 0.5, \n",
    "                            'ytick.major.width': 0.5,'ytick.minor.width': 0.5, 'xtick.major.pad':2,'ytick.major.pad':2})\n",
    "matplotlib.rcParams.update({'font.family':'sans-serif','font.sans-serif':['Arial']})"
   ]
  },
  {
   "cell_type": "code",
   "execution_count": 10,
   "id": "8460d790",
   "metadata": {},
   "outputs": [],
   "source": [
    "def make_rgb_transparent(rgb, bg_rgb, alpha):\n",
    "    return [alpha * c1 + (1 - alpha) * c2\n",
    "            for (c1, c2) in zip(rgb, bg_rgb)]"
   ]
  },
  {
   "cell_type": "markdown",
   "id": "4ae6ed00",
   "metadata": {},
   "source": [
    "# Define parameters"
   ]
  },
  {
   "cell_type": "code",
   "execution_count": 29,
   "id": "ece72527",
   "metadata": {},
   "outputs": [],
   "source": [
    "## Physiological parameters\n",
    "\n",
    "# mvn head sensitvity in the light: 0.38 sp/s / deg/s for ~0.85 gain -- Beraneck & Cullen 2007\n",
    "# => k_eye ~= 2.2\n",
    "\n",
    "# initial gain ~- 0.4 in mice (Katoh et al. 2015, Boyden & Raymond 2003)\n",
    "# => v_0 = 1.3\n",
    "\n",
    "# Hannah opto stim experiment\n",
    "# ~0.1 deg/s / sp/s = k_eye * w_PC => w_PC ~= 0.05\n",
    "\n",
    "# average learning in one day ~20-40% (Kimpo et al. 2014, Boyden & Raymond 2003)\n",
    "# delta w ~= delta g/g_0 * v_0*k_MF / w_pc_mvn*k_PF\n",
    "# delta g/g_0 ~= 0.3 = > delta w ~= 2.6\n",
    "# => for ~50% decrease during training (Jang, Shim et al. 2020), set w_i = 5\n",
    "\n",
    "# memory retention ~75% after 24 hr calculated from Boyden & Raymond 2003\n",
    "\n",
    "params = {\n",
    "    'mf_0': 55, # Lasker et al. 2008\n",
    "    'pf_0': 14, # Arenz et al. 2008 -- assume each MF EPSC evokes a GC spike\n",
    "    'cf_0': 1,\n",
    "    'mf_sensitivity': 0.14, # Lasker et al. 2008\n",
    "    'k_pf_h': 0.42, # Arenz et al. 2008 (See above)\n",
    "    'w_inh_h': 5,\n",
    "    'pc_0':50, # Katoh et al. 2015  \n",
    "    'w_pc_mvn': 0.05, #0.5\n",
    "    'k_eye': 2.2,\n",
    "    'k_v': 8e-3, # 2.5 0.01 # to get 75% retention\n",
    "    'tau_f': 0.017, # fast average\n",
    "    'tau_mvn': 0.7, # tau_f,v: average of activity being integrated at MVN\n",
    "    'tau_learn': 0.15, # Boyden & Raymond 2003\n",
    "    'tau_post': 5, # calculated from Jang, Shim et al. 2020\n",
    "    'k_LTD': 0.648, \n",
    "    'beta_rs': 1, # Guo et al. 2014\n",
    "    'tau_theta':0.0395, # 1\n",
    "}\n",
    "params['k_LTP'] = params['w_inh_h']/params['pf_0'] + params['k_LTD']*params['cf_0']\n",
    "# so that w(t -> infty) = 0 => w^+(infty) = w^-\n",
    "\n",
    "## Behavioral parameters\n",
    "\n",
    "# Kimpo et al. 2014, Nguyen-Vu et al. 2013, Boyden & Raymond 2003\n",
    "stim_freq = 1 \n",
    "peak_velocity_learn = 15 # deg/s\n",
    "peak_velocity_post = 15\n",
    "\n",
    "# Define function for head velocity\n",
    "head_learn = lambda t: peak_velocity_learn*np.sin(2*np.pi*stim_freq*3600*t)\n",
    "head_post_input = lambda t: peak_velocity_post*np.sin(2*np.pi*stim_freq*3600*t) # w/post-training input\n",
    "head_post_no_input = lambda t: 0 # w/o post-training input\n",
    "\n",
    "# Define function for retinal slip\n",
    "target_learn = lambda t: -peak_velocity_learn*np.sin(2*np.pi*stim_freq*3600*t)\n",
    "target_post = lambda t: 0"
   ]
  },
  {
   "cell_type": "code",
   "execution_count": 47,
   "id": "0bfc50db",
   "metadata": {},
   "outputs": [
    {
     "data": {
      "text/plain": [
       "1.0051428571428571"
      ]
     },
     "execution_count": 47,
     "metadata": {},
     "output_type": "execute_result"
    }
   ],
   "source": [
    "params['k_LTP']"
   ]
  },
  {
   "cell_type": "code",
   "execution_count": 12,
   "id": "00bc89ba",
   "metadata": {},
   "outputs": [],
   "source": [
    "gain = lambda w, v: params['k_eye']*((params['mf_sensitivity']*v - \n",
    "                                    params['k_pf_h']*params['w_pc_mvn']*w))\n",
    "    "
   ]
  },
  {
   "cell_type": "code",
   "execution_count": 43,
   "id": "66bea38e",
   "metadata": {},
   "outputs": [],
   "source": [
    "# initial gain ~- 0.4 in mice (Katoh et al. 2015, Boyden & Raymond 2003)\n",
    "g_init = 0.4\n",
    "v_0_ = lambda g_init: g_init/(params['k_eye']*params['mf_sensitivity'])\n",
    "\n",
    "v_0 = v_0_(g_init)"
   ]
  },
  {
   "cell_type": "code",
   "execution_count": 44,
   "id": "0d1c9621",
   "metadata": {},
   "outputs": [],
   "source": [
    "# Spontaneous firing rate of MVNs is ~57 sp/s (Nelson et al. 2003)\n",
    "\n",
    "# Calculate MVN offset so that this is the firing rate at baseline\n",
    "params['mvn_0'] = 57 - params['mf_0']*v_0_(g_init) + params['w_pc_mvn']*50"
   ]
  },
  {
   "cell_type": "markdown",
   "id": "9b81dc9d",
   "metadata": {},
   "source": [
    "# ODE Solver\n",
    "\n",
    "The state `y` has components the following components: `y[0]` is $w$, `y[1]` is $v$, `y[2]` is $\\langle\\text{MF}(\\text{MVN}-\\theta)\\rangle_{\\tau_{f,v}}$, `y[3]` is $\\theta = \\langle\\text{MVN}\\rangle_{\\tau_{\\theta}}$, `y[4]` is $\\langle\\text{PF}\\rangle_{\\tau_f}$, and `y[5]` is $\\langle\\text{PF}\\cdot\\text{CF}\\rangle_{\\tau_f}$"
   ]
  },
  {
   "cell_type": "code",
   "execution_count": 22,
   "id": "4c3a2d17",
   "metadata": {},
   "outputs": [],
   "source": [
    "# Function to pass to ODE solver\n",
    "def hebbian(t, y, head, target, learn, params, decay_rate=0):\n",
    "    '''\n",
    "    head: a function taking a time argument that returns the head velocity\n",
    "    target: a function taking a time argument that returns the velocity of the visual target\n",
    "    learn: set to True if in the training period, False if in the post-training period\n",
    "    params: list containing the physiological parameters\n",
    "    decay_rate: defines a decay of the weight v (see SI Text, S.1)\n",
    "    '''\n",
    "    \n",
    "    w = y[0]\n",
    "    v = y[1]\n",
    "    \n",
    "    g = params['k_eye']*(params['mf_sensitivity']*v - \n",
    "                         params['k_pf_h']*params['w_pc_mvn']*(w-params['w_inh_h']))\n",
    "    retinal_slip = target(t) - (1-g)*head(t)\n",
    "    \n",
    "    delta_mf = params['mf_sensitivity']*head(t)\n",
    "    delta_pf = params['k_pf_h']*head(t)\n",
    "    delta_cf = np.tanh(-params['beta_rs']*retinal_slip)*learn\n",
    "    \n",
    "    if learn:\n",
    "        tau_w = params['tau_learn']\n",
    "    else:\n",
    "        tau_w = params['tau_post']\n",
    "        \n",
    "    mf = params['mf_0'] + delta_mf\n",
    "    pf = params['pf_0'] + delta_pf\n",
    "    cf = params['cf_0'] + delta_cf\n",
    "    \n",
    "    delta_pc = (w - params['w_inh_h'])*pf\n",
    "    pc = delta_pc + params['pc_0']\n",
    "    mvn = v*mf - params['w_pc_mvn']*pc + params['mvn_0']\n",
    "    \n",
    "    dydt = np.zeros(6)\n",
    "    # w, v, <MF(MVN - <MVN>)>, <MVN>, <PF>, <PF*CF>\n",
    "    dydt[0] = 1/tau_w * (-y[0] + params['k_LTP']*y[4] - params['k_LTD']*y[5])\n",
    "    dydt[1] = params['k_v']*(-decay_rate*y[1] + y[2])\n",
    "    dydt[2] = 1/params['tau_mvn'] * (-y[2] + mf*(mvn - y[3]))\n",
    "    dydt[3] = 1/params['tau_theta'] * (-y[3]+ mvn)\n",
    "    dydt[4] = 1/params['tau_f'] * (-y[4] + pf)\n",
    "    dydt[5] = 1/params['tau_f'] * (-y[5] + pf*cf)\n",
    "    return dydt\n",
    "\n",
    "# Jacobian\n",
    "def hebbianJac(t, y, head, target, learn, params, decay_rate=0):\n",
    "    w = y[0]\n",
    "    v = y[1]\n",
    "    \n",
    "    g = params['k_eye']*(params['mf_sensitivity']*v - \n",
    "                         params['k_pf_h']*params['w_pc_mvn']*(w-params['w_inh_h']))\n",
    "    retinal_slip = target(t) - (1-g)*head(t)\n",
    "    \n",
    "    delta_mf = params['mf_sensitivity']*head(t)\n",
    "    delta_pf = params['k_pf_h']*head(t)\n",
    "    delta_cf = np.tanh(-params['beta_rs']*retinal_slip)*learn\n",
    "    \n",
    "    if learn:\n",
    "        tau_w = params['tau_learn']\n",
    "    else:\n",
    "        tau_w = params['tau_post']\n",
    "    mf = params['mf_0'] + delta_mf\n",
    "    pf = params['pf_0'] + delta_pf\n",
    "    \n",
    "    jac = -1/params['tau_f']*np.eye(6)\n",
    "    jac[0,:] = 1/tau_w*np.array([-1, 0, 0, 0, params['k_LTP'], -params['k_LTD']])\n",
    "    jac[1,:] = params['k_v']*np.array([0, -decay_rate, 1, 0, 0, 0])\n",
    "    jac[2,:] = 1/params['tau_mvn']*np.array([-params['w_pc_mvn']*pf*mf, mf**2,-1, -mf, 0,0])\n",
    "    jac[3,:] = 1/params['tau_theta']*np.array([-params['w_pc_mvn']*pf,mf,0,-1,0,0])\n",
    "    jac[5,:2] = 1/params['tau_f']*(params['beta_rs']*params['k_eye']*pf*head(t)*(1-delta_cf**2)\n",
    "                                  *np.array([params['w_pc_mvn']*params['k_pf_h'],\n",
    "                                              -params['mf_sensitivity']]))\n",
    "    \n",
    "    return jac"
   ]
  },
  {
   "cell_type": "markdown",
   "id": "69cd1752",
   "metadata": {},
   "source": [
    "# Figure 5\n",
    "\n",
    "## Run simulation"
   ]
  },
  {
   "cell_type": "code",
   "execution_count": 23,
   "id": "017a13eb",
   "metadata": {},
   "outputs": [],
   "source": [
    "## Time steps for plotting (ODE solver uses variable time steps)\n",
    "\n",
    "dt_learn = 1/3600 # h (= 1 s)\n",
    "dt_post = 60/3600 # h (= 1 min)"
   ]
  },
  {
   "cell_type": "code",
   "execution_count": 24,
   "id": "0b8d307d",
   "metadata": {},
   "outputs": [],
   "source": [
    "sigma2_post = 0.5*peak_velocity_post**2"
   ]
  },
  {
   "cell_type": "markdown",
   "id": "fa3f4d68",
   "metadata": {},
   "source": [
    "Calculating the eigenvalues and time constants of the idealized dynamics (SI text, S.1):"
   ]
  },
  {
   "cell_type": "code",
   "execution_count": 35,
   "id": "103378d5",
   "metadata": {},
   "outputs": [
    {
     "data": {
      "text/plain": [
       "(-0.706950063866226, 3.1674500638662275)"
      ]
     },
     "execution_count": 35,
     "metadata": {},
     "output_type": "execute_result"
    }
   ],
   "source": [
    "tau_v_1 = lambda s: 1/(params['k_v']*(params['mf_0']**2 + params['mf_sensitivity']**2*s))\n",
    "lambda_p = lambda s: (1/tau_v_1(s) - 1/params['tau_theta'])*0.5*(1+\n",
    "                      np.sqrt(1+(4*params['k_v']*params['mf_sensitivity']**2*s)/(params['tau_theta']*\n",
    "                     (1/tau_v_1(s)-1/params['tau_theta'])**2)))\n",
    "lambda_m = lambda s: (1/tau_v_1(s) - 1/params['tau_theta'])*0.5*(1-\n",
    "                      np.sqrt(1+(4*params['k_v']*params['mf_sensitivity']**2*s)/(params['tau_theta']*\n",
    "                     (1/tau_v_1(s)-1/params['tau_theta'])**2)))\n",
    "1/lambda_p(sigma2_post), 1/lambda_m(sigma2_post)"
   ]
  },
  {
   "cell_type": "markdown",
   "id": "28e28bad",
   "metadata": {},
   "source": [
    "Thus, for the post-training input signal we use here, the value of $v$ undergoes exponential growth with a time constant of ~3.17 h"
   ]
  },
  {
   "cell_type": "code",
   "execution_count": 30,
   "id": "7b8904b1",
   "metadata": {
    "scrolled": true
   },
   "outputs": [],
   "source": [
    "T_learn = 0.5 # h\n",
    "\n",
    "T_post = 24 #  - T_learn # s\n",
    "\n",
    "t_learn = np.linspace(0, T_learn, int(T_learn/dt_learn))\n",
    "t_post = np.linspace(0, T_post-T_learn, int(T_post/dt_post)) + T_learn\n",
    "\n",
    "# Initial condition\n",
    "# v(t=0) was calculated based on parameters above\n",
    "v_0 = 1.3\n",
    "\n",
    "# Initial value for theta:\n",
    "mvn_0 = v_0*params['mf_0'] - params['w_pc_mvn']*params['pc_0'] + params['mvn_0']\n",
    "y_0 = np.array([params['w_inh_h'], v_0, 0,mvn_0, params['pf_0'], params['pf_0']*params['cf_0']])\n",
    "\n",
    "# Solution during the training period\n",
    "sol_learn = scipy.integrate.solve_ivp(lambda t,y: hebbian(t,y, head_learn, target_learn, True, params), [0, T_learn], y_0, \n",
    "                                  jac=lambda t,y: hebbianJac(t,y,head_learn, target_learn,True,params), method='Radau', max_step=1/3600*0.5, dense_output=True)\n",
    "\n",
    "# Solution during the post-training period w/o input\n",
    "sol_no_input_post = scipy.integrate.solve_ivp(lambda t,y: hebbian(t,y, head_post_no_input, target_post, False, params), [T_learn, T_post],sol_learn.sol(T_learn),\n",
    "                                  jac=lambda t,y: hebbianJac(t,y,head_post_no_input, target_post, False, params), method='Radau',dense_output=True)\n",
    "\n",
    "# Solution during the post-training period w/input\n",
    "sol_input_post = scipy.integrate.solve_ivp(lambda t,y: hebbian(t,y, head_post_input, target_post, False, params), [T_learn,T_post],sol_learn.sol(T_learn),\n",
    "                                  jac=lambda t,y: hebbianJac(t,y,head_post_input, target_post, False, params), method='Radau',max_step=1/3600*0.5, dense_output=True)\n",
    "\n",
    "\n",
    "# Concatenate solution vectors over time\n",
    "\n",
    "y_learn = sol_learn.sol(t_learn)\n",
    "\n",
    "y_no_input = np.hstack((y_learn, sol_no_input_post.sol(t_post)))\n",
    "y_input = np.hstack((y_learn, sol_input_post.sol(t_post)))\n",
    "\n",
    "t_sol = np.concatenate((t_learn, t_post))"
   ]
  },
  {
   "cell_type": "markdown",
   "id": "bcb0cd83",
   "metadata": {},
   "source": [
    "## Figure 5A"
   ]
  },
  {
   "cell_type": "code",
   "execution_count": 17,
   "id": "9d90ab7e",
   "metadata": {},
   "outputs": [],
   "source": [
    "r70 = make_rgb_transparent(matplotlib.colors.to_rgb('C3'), [1,1,1], 0.3)"
   ]
  },
  {
   "cell_type": "code",
   "execution_count": 39,
   "id": "9b0405c2",
   "metadata": {
    "scrolled": true
   },
   "outputs": [
    {
     "data": {
      "image/png": "[encoded data removed]",
      "text/plain": [
       "<Figure size 140x140 with 2 Axes>"
      ]
     },
     "metadata": {},
     "output_type": "display_data"
    }
   ],
   "source": [
    "plt.figure(figsize=(1.4,1.4))\n",
    "\n",
    "ax = plt.subplot(2,1,1)\n",
    "\n",
    "plt.plot([-2,24], [0,0],'k--',lw=0.5)\n",
    "\n",
    "plt.plot([0, 0.5],[0.1,]*2,  c='C1', lw=2, clip_on=False)\n",
    "plt.plot([0.5, 24], [0.1,]*2,  c=(0.7,)*3, lw=2, clip_on=False)\n",
    "\n",
    "plt.plot(t_sol, (y_no_input[0,:]-params['w_inh_h'])/y_no_input[0,0], clip_on=False,lw=1)\n",
    "plt.ylim([-0.6, 0])\n",
    "plt.xlim([-2,24])\n",
    "ax.xaxis.set_visible(False)\n",
    "\n",
    "ax.set_yticks([0, -0.3, -0.6])\n",
    "\n",
    "ax.spines['top'].set_visible(False)\n",
    "ax.spines['right'].set_visible(False)\n",
    "ax.spines['bottom'].set_visible(False)\n",
    "\n",
    "ax = plt.subplot(2,1,2)\n",
    "plt.plot(t_sol, (y_no_input[1,:]-y_no_input[1,0])/y_no_input[1,0], c=r70,lw=1)\n",
    "plt.plot(t_sol, (y_input[1,:]-y_input[1,0])/y_input[1,0],c='C3',lw=1)\n",
    "\n",
    "plt.ylim([0, 0.5])\n",
    "plt.xlim([-2,24])\n",
    "ax.spines['top'].set_visible(False)\n",
    "ax.spines['right'].set_visible(False)\n",
    "ax.set_yticks([0, 0.25,0.5])\n",
    "\n",
    "ax.set_xticks([0,12,24])\n",
    "ax.set_xticks([0, 24])\n",
    "ax.set_xticks([12], minor=True)"
   ]
  },
  {
   "cell_type": "markdown",
   "id": "8d37d61c",
   "metadata": {},
   "source": [
    "## Figure 5B"
   ]
  },
  {
   "cell_type": "code",
   "execution_count": 38,
   "id": "6a4853d2",
   "metadata": {},
   "outputs": [],
   "source": [
    "gain_no_input = gain(y_no_input[0,:]-params['w_inh_h'], y_no_input[1,:])\n",
    "gain_input = gain(y_input[0,:]-params['w_inh_h'], y_input[1,:])"
   ]
  },
  {
   "cell_type": "code",
   "execution_count": 33,
   "id": "1712c21f",
   "metadata": {},
   "outputs": [],
   "source": [
    "gain_no_input_v = gain(0, y_no_input[1,:])\n",
    "gain_input_v = gain(0, y_input[1,:])"
   ]
  },
  {
   "cell_type": "code",
   "execution_count": 41,
   "id": "212e5037",
   "metadata": {},
   "outputs": [],
   "source": [
    "gain_learn = gain(y_learn[0,-1]-params['w_inh_h'], y_learn[1,-1])"
   ]
  },
  {
   "cell_type": "code",
   "execution_count": 46,
   "id": "ac45b87c",
   "metadata": {},
   "outputs": [
    {
     "data": {
      "text/plain": [
       "0.8026309796600164"
      ]
     },
     "execution_count": 46,
     "metadata": {},
     "output_type": "execute_result"
    }
   ],
   "source": [
    "(gain_no_input[-1] - g_init)/(gain_learn - g_init)"
   ]
  },
  {
   "cell_type": "code",
   "execution_count": 40,
   "id": "5f8cabc1",
   "metadata": {},
   "outputs": [
    {
     "data": {
      "image/png": "[encoded data removed]",
      "text/plain": [
       "<Figure size 140x140 with 1 Axes>"
      ]
     },
     "metadata": {},
     "output_type": "display_data"
    }
   ],
   "source": [
    "plt.figure(figsize=(1.4,1.4))\n",
    "# plt.plot([-2,24], [0,0],'k--',lw=0.75)\n",
    "\n",
    "plt.plot([0, 0.5],[0.65,]*2,  c='C1', lw=2, clip_on=False)\n",
    "plt.plot([0.5, 24], [0.65,]*2,  c=(0.7,)*3, lw=2, clip_on=False)\n",
    "\n",
    "plt.plot(t_sol, (gain_no_input - gain_no_input[0])/gain_no_input[0], c=(0.7,)*3,lw=1)\n",
    "plt.plot(t_sol, (gain_input - gain_input[0])/gain_input[0], c='k',lw=1)\n",
    "# plt.plot(t_sol, (gain_less - gain_less[0])/gain_less[0], c=(0.66,)*3)\n",
    "plt.ylim([0, 0.6])\n",
    "plt.xlim([-2,24])\n",
    "\n",
    "ax = plt.gca()\n",
    "ax.spines['top'].set_visible(False)\n",
    "ax.spines['right'].set_visible(False)\n",
    "\n",
    "ax.set_yticks([0, 0.3, 0.6])\n",
    "ax.set_yticklabels(['0%','','60%'])\n",
    "\n",
    "ax.set_xticks([0,12,24])\n",
    "ax.set_xticks([0, 24])\n",
    "ax.set_xticks([12], minor=True)"
   ]
  }
 ],
 "metadata": {
  "kernelspec": {
   "display_name": "Python 3 (ipykernel)",
   "language": "python",
   "name": "python3"
  },
  "language_info": {
   "codemirror_mode": {
    "name": "ipython",
    "version": 3
   },
   "file_extension": ".py",
   "mimetype": "text/x-python",
   "name": "python",
   "nbconvert_exporter": "python",
   "pygments_lexer": "ipython3",
   "version": "3.10.9"
  }
 },
 "nbformat": 4,
 "nbformat_minor": 5
}
